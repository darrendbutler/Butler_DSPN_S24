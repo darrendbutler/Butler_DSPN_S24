{
 "cells": [
  {
   "cell_type": "markdown",
   "metadata": {
    "id": "epIeQBhXujpJ"
   },
   "source": [
    "# Tutorial: Boostrap and permutation tests\n",
    "\n",
    "In this lab we will go over bootstrapping and permutation resampling methods. \n",
    "\n",
    "## Goals:\n",
    "* Learn to use the `boot()` function\n",
    "* Learn to write *for loops* to do permutation tests\n",
    "* Construct a null distribution by permutation as a way of testing hypotheses \n",
    "* Quantify the sampling distribution of a statistic via bootstrapping (construct confidence intervals for your results)\n",
    "\n",
    "This lab draws from the practice sets at the end of Chapter 5 in James, G., Witten, D., Hastie, T., & Tibshirani, R. (2013). \"An introduction to statistical learning: with applications in r.\" "
   ]
  },
  {
   "cell_type": "markdown",
   "metadata": {
    "id": "XtSvNee6ujpR"
   },
   "source": [
    "---\n",
    "#  A reminder of the difference between bootstrapping and permutation testing\n",
    "\n",
    "Both bootstrapping and permutation testing rely on randomization methods. However, their purposes are different, and often confused with each other.\n",
    "\n",
    "**Bootstrapping:** \n",
    "* quantifies uncertainty by reusing the data (random resampling with *replacement*)\n",
    "* answers the question: what is the range of values I can expect for a statistic, given the varaibility in my data? \n",
    "\n",
    "\n",
    "**Permutation testing:** \n",
    "* breaks whatever structure may exist between variables of interest while maintaining the structure between others (*permute*, or shuffle, the relationship between *x* and *y*, for example)\n",
    "* allows targeted null hypothesis testing \n",
    "* quantifies the null distribution for a given hypothesis \n",
    "* answers the question: what kind of pattern would you expect to see if there were no statistical relationship between two (or more) variables?\n",
    "\n",
    "\n",
    "These methods are useful if you need **non-parametric** estimates of uncertainty for a given statistic (bootstrapping) or if you need a non-parametric way of testing your hypotheses (permutation). In other words, if you don't want to risk making assumptions about the functional form of your data during uncertainty estimation or hypothesis testing, these randomization methods are for you.\n",
    "\n",
    "However, keep in mind that there are cons (and assumptions) associated with non-parametric methods. For example, one major limitation of bootstrapping is that you must make the assumption that your data contains variability similar to the kind of variability you might see when you sample new datasets in the wild, given the same statistical model, to make inferential interpretations. See [here](http://pillowlab.princeton.edu/teaching/mathtools16/slides/lec21_Bootstrap.pdf) and [here](http://evolution.gs.washington.edu/gs560/2011/lecture8.pdf) for more information. \n"
   ]
  },
  {
   "cell_type": "markdown",
   "metadata": {
    "id": "wmR30F8WujpS"
   },
   "source": [
    "---\n",
    "# Bootstrapping\n",
    "\n",
    "First, let's load the `ISLR` library to get the `Auto` dataset, and the `boot` library so we can use the `boot()` function. "
   ]
  },
  {
   "cell_type": "code",
   "execution_count": 36,
   "metadata": {
    "colab": {
     "base_uri": "https://localhost:8080/"
    },
    "executionInfo": {
     "elapsed": 4323,
     "status": "ok",
     "timestamp": 1612320918791,
     "user": {
      "displayName": "Patience Stevens",
      "photoUrl": "https://lh3.googleusercontent.com/a-/AOh14Gi-_9ZqhIFhAv1oMehJNvNuIKSTyrFQHzjxQKhx=s64",
      "userId": "01994571539255174942"
     },
     "user_tz": 300
    },
    "id": "pUg3IL_wujpU",
    "outputId": "9db49444-8f0c-46e7-fb25-14885857d535",
    "vscode": {
     "languageId": "r"
    }
   },
   "outputs": [
    {
     "name": "stdout",
     "output_type": "stream",
     "text": [
      "\n",
      "The downloaded binary packages are in\n",
      "\t/var/folders/91/27xg0jcj2dq9rv01tz61gk9r0000gq/T//RtmpfiT1WG/downloaded_packages\n"
     ]
    }
   ],
   "source": [
    "install.packages(\"ISLR\")\n",
    "library(ISLR)\n",
    "library(boot)"
   ]
  },
  {
   "cell_type": "markdown",
   "metadata": {
    "id": "fyeQg3ah075f"
   },
   "source": [
    "When bootstrapping, we can write our own functions for maximum flexibility. [See here for more on writing your own functions in R](https://swcarpentry.github.io/r-novice-inflammation/02-func-R/). We want a function that takes two inputs (a data set and an index of observations) and returns the parameter of interest. In this example, we'll look at the regression coefficients for the model predicting `mpg` (miles per gallon) from `horsepower`. "
   ]
  },
  {
   "cell_type": "code",
   "execution_count": 37,
   "metadata": {
    "executionInfo": {
     "elapsed": 270,
     "status": "ok",
     "timestamp": 1612320926725,
     "user": {
      "displayName": "Patience Stevens",
      "photoUrl": "https://lh3.googleusercontent.com/a-/AOh14Gi-_9ZqhIFhAv1oMehJNvNuIKSTyrFQHzjxQKhx=s64",
      "userId": "01994571539255174942"
     },
     "user_tz": 300
    },
    "id": "WNLCEw-SujpV",
    "vscode": {
     "languageId": "r"
    }
   },
   "outputs": [],
   "source": [
    "# The function needs two inputs: Data, Index\n",
    "boot.fn <- function(data, index){  \n",
    "    # return: throw this as output\n",
    "    # coef: extract coefficients from model object \n",
    "    return(coef(lm(mpg~horsepower, data=data, subset=index)))}\n"
   ]
  },
  {
   "cell_type": "markdown",
   "metadata": {
    "id": "CY7_Ht_3ujpX"
   },
   "source": [
    "Let's test this to make sure it works. We'll use an index array that takes all 392 observations (rows) in the data set."
   ]
  },
  {
   "cell_type": "code",
   "execution_count": 38,
   "metadata": {
    "colab": {
     "base_uri": "https://localhost:8080/"
    },
    "executionInfo": {
     "elapsed": 487,
     "status": "ok",
     "timestamp": 1612321319996,
     "user": {
      "displayName": "Patience Stevens",
      "photoUrl": "https://lh3.googleusercontent.com/a-/AOh14Gi-_9ZqhIFhAv1oMehJNvNuIKSTyrFQHzjxQKhx=s64",
      "userId": "01994571539255174942"
     },
     "user_tz": 300
    },
    "id": "9OsWofFWujpY",
    "outputId": "f9570445-aa7f-4c48-fbd1-d10f404a22e5",
    "vscode": {
     "languageId": "r"
    }
   },
   "outputs": [
    {
     "name": "stdout",
     "output_type": "stream",
     "text": [
      "(Intercept)  horsepower \n",
      " 39.9358610  -0.1578447 \n"
     ]
    }
   ],
   "source": [
    "print(boot.fn(Auto, 1:392)) # note: \"1:392\" means all the rows"
   ]
  },
  {
   "cell_type": "markdown",
   "metadata": {
    "id": "oAXXNXDqujpZ"
   },
   "source": [
    "Notice this is the same output as when you just run the `lm()` function with no subset selection (sanity check passed!)."
   ]
  },
  {
   "cell_type": "code",
   "execution_count": 39,
   "metadata": {
    "vscode": {
     "languageId": "r"
    }
   },
   "outputs": [
    {
     "data": {
      "text/html": [
       "<table class=\"dataframe\">\n",
       "<caption>A data.frame: 6 × 9</caption>\n",
       "<thead>\n",
       "\t<tr><th></th><th scope=col>mpg</th><th scope=col>cylinders</th><th scope=col>displacement</th><th scope=col>horsepower</th><th scope=col>weight</th><th scope=col>acceleration</th><th scope=col>year</th><th scope=col>origin</th><th scope=col>name</th></tr>\n",
       "\t<tr><th></th><th scope=col>&lt;dbl&gt;</th><th scope=col>&lt;dbl&gt;</th><th scope=col>&lt;dbl&gt;</th><th scope=col>&lt;dbl&gt;</th><th scope=col>&lt;dbl&gt;</th><th scope=col>&lt;dbl&gt;</th><th scope=col>&lt;dbl&gt;</th><th scope=col>&lt;dbl&gt;</th><th scope=col>&lt;fct&gt;</th></tr>\n",
       "</thead>\n",
       "<tbody>\n",
       "\t<tr><th scope=row>1</th><td>18</td><td>8</td><td>307</td><td>130</td><td>3504</td><td>12.0</td><td>70</td><td>1</td><td>chevrolet chevelle malibu</td></tr>\n",
       "\t<tr><th scope=row>2</th><td>15</td><td>8</td><td>350</td><td>165</td><td>3693</td><td>11.5</td><td>70</td><td>1</td><td>buick skylark 320        </td></tr>\n",
       "\t<tr><th scope=row>3</th><td>18</td><td>8</td><td>318</td><td>150</td><td>3436</td><td>11.0</td><td>70</td><td>1</td><td>plymouth satellite       </td></tr>\n",
       "\t<tr><th scope=row>4</th><td>16</td><td>8</td><td>304</td><td>150</td><td>3433</td><td>12.0</td><td>70</td><td>1</td><td>amc rebel sst            </td></tr>\n",
       "\t<tr><th scope=row>5</th><td>17</td><td>8</td><td>302</td><td>140</td><td>3449</td><td>10.5</td><td>70</td><td>1</td><td>ford torino              </td></tr>\n",
       "\t<tr><th scope=row>6</th><td>15</td><td>8</td><td>429</td><td>198</td><td>4341</td><td>10.0</td><td>70</td><td>1</td><td>ford galaxie 500         </td></tr>\n",
       "</tbody>\n",
       "</table>\n"
      ],
      "text/latex": [
       "A data.frame: 6 × 9\n",
       "\\begin{tabular}{r|lllllllll}\n",
       "  & mpg & cylinders & displacement & horsepower & weight & acceleration & year & origin & name\\\\\n",
       "  & <dbl> & <dbl> & <dbl> & <dbl> & <dbl> & <dbl> & <dbl> & <dbl> & <fct>\\\\\n",
       "\\hline\n",
       "\t1 & 18 & 8 & 307 & 130 & 3504 & 12.0 & 70 & 1 & chevrolet chevelle malibu\\\\\n",
       "\t2 & 15 & 8 & 350 & 165 & 3693 & 11.5 & 70 & 1 & buick skylark 320        \\\\\n",
       "\t3 & 18 & 8 & 318 & 150 & 3436 & 11.0 & 70 & 1 & plymouth satellite       \\\\\n",
       "\t4 & 16 & 8 & 304 & 150 & 3433 & 12.0 & 70 & 1 & amc rebel sst            \\\\\n",
       "\t5 & 17 & 8 & 302 & 140 & 3449 & 10.5 & 70 & 1 & ford torino              \\\\\n",
       "\t6 & 15 & 8 & 429 & 198 & 4341 & 10.0 & 70 & 1 & ford galaxie 500         \\\\\n",
       "\\end{tabular}\n"
      ],
      "text/markdown": [
       "\n",
       "A data.frame: 6 × 9\n",
       "\n",
       "| <!--/--> | mpg &lt;dbl&gt; | cylinders &lt;dbl&gt; | displacement &lt;dbl&gt; | horsepower &lt;dbl&gt; | weight &lt;dbl&gt; | acceleration &lt;dbl&gt; | year &lt;dbl&gt; | origin &lt;dbl&gt; | name &lt;fct&gt; |\n",
       "|---|---|---|---|---|---|---|---|---|---|\n",
       "| 1 | 18 | 8 | 307 | 130 | 3504 | 12.0 | 70 | 1 | chevrolet chevelle malibu |\n",
       "| 2 | 15 | 8 | 350 | 165 | 3693 | 11.5 | 70 | 1 | buick skylark 320         |\n",
       "| 3 | 18 | 8 | 318 | 150 | 3436 | 11.0 | 70 | 1 | plymouth satellite        |\n",
       "| 4 | 16 | 8 | 304 | 150 | 3433 | 12.0 | 70 | 1 | amc rebel sst             |\n",
       "| 5 | 17 | 8 | 302 | 140 | 3449 | 10.5 | 70 | 1 | ford torino               |\n",
       "| 6 | 15 | 8 | 429 | 198 | 4341 | 10.0 | 70 | 1 | ford galaxie 500          |\n",
       "\n"
      ],
      "text/plain": [
       "  mpg cylinders displacement horsepower weight acceleration year origin\n",
       "1 18  8         307          130        3504   12.0         70   1     \n",
       "2 15  8         350          165        3693   11.5         70   1     \n",
       "3 18  8         318          150        3436   11.0         70   1     \n",
       "4 16  8         304          150        3433   12.0         70   1     \n",
       "5 17  8         302          140        3449   10.5         70   1     \n",
       "6 15  8         429          198        4341   10.0         70   1     \n",
       "  name                     \n",
       "1 chevrolet chevelle malibu\n",
       "2 buick skylark 320        \n",
       "3 plymouth satellite       \n",
       "4 amc rebel sst            \n",
       "5 ford torino              \n",
       "6 ford galaxie 500         "
      ]
     },
     "metadata": {},
     "output_type": "display_data"
    }
   ],
   "source": [
    "head(Auto)"
   ]
  },
  {
   "cell_type": "code",
   "execution_count": 40,
   "metadata": {
    "colab": {
     "base_uri": "https://localhost:8080/"
    },
    "executionInfo": {
     "elapsed": 281,
     "status": "ok",
     "timestamp": 1612321273675,
     "user": {
      "displayName": "Patience Stevens",
      "photoUrl": "https://lh3.googleusercontent.com/a-/AOh14Gi-_9ZqhIFhAv1oMehJNvNuIKSTyrFQHzjxQKhx=s64",
      "userId": "01994571539255174942"
     },
     "user_tz": 300
    },
    "id": "DZlS7aZwujpa",
    "outputId": "ef0d1b86-cae3-473c-fd90-7eac5528af62",
    "vscode": {
     "languageId": "r"
    }
   },
   "outputs": [
    {
     "name": "stdout",
     "output_type": "stream",
     "text": [
      "(Intercept)  horsepower \n",
      " 39.9358610  -0.1578447 \n"
     ]
    }
   ],
   "source": [
    "print(coef(lm(mpg~horsepower, data=Auto)))"
   ]
  },
  {
   "cell_type": "markdown",
   "metadata": {
    "id": "oBp4GdIwujpb"
   },
   "source": [
    "Now we can use the `boot()` function, included in the `boot` library, to randomly sample *with replacement* to generate a confidence interval on the regression coefficient. We'll just test it out with 1000 iterations (set using the *R* value as an input)"
   ]
  },
  {
   "cell_type": "code",
   "execution_count": 41,
   "metadata": {
    "id": "KHJb3yNVujpb",
    "vscode": {
     "languageId": "r"
    }
   },
   "outputs": [],
   "source": [
    "#?boot # uncomment to learn more about the boot() function"
   ]
  },
  {
   "cell_type": "code",
   "execution_count": 42,
   "metadata": {
    "id": "Rh8Yz66iujpc",
    "outputId": "7efaf1de-5a10-4a6f-c604-dd3a7e4c5222",
    "vscode": {
     "languageId": "r"
    }
   },
   "outputs": [
    {
     "name": "stdout",
     "output_type": "stream",
     "text": [
      "\n",
      "ORDINARY NONPARAMETRIC BOOTSTRAP\n",
      "\n",
      "\n",
      "Call:\n",
      "boot(data = Auto, statistic = boot.fn, R = 1000)\n",
      "\n",
      "\n",
      "Bootstrap Statistics :\n",
      "      original        bias    std. error\n",
      "t1* 39.9358610  0.0251608756  0.84591815\n",
      "t2* -0.1578447 -0.0003268284  0.00740582\n"
     ]
    }
   ],
   "source": [
    "#data, boot function with estimates, number of repetitions. \n",
    "boot_obj = boot(Auto ,boot.fn ,R=1000) #R=repetitions \n",
    "print(boot_obj) #t1 is the intercept and t2 is the horsepower coeff."
   ]
  },
  {
   "cell_type": "code",
   "execution_count": 43,
   "metadata": {
    "id": "T_IxOoQ2ujpd",
    "outputId": "e758f8e7-c285-4ce7-b6ec-a267d807bc6b",
    "vscode": {
     "languageId": "r"
    }
   },
   "outputs": [
    {
     "data": {
      "text/html": [
       "<dl>\n",
       "\t<dt>$names</dt>\n",
       "\t\t<dd><style>\n",
       ".list-inline {list-style: none; margin:0; padding: 0}\n",
       ".list-inline>li {display: inline-block}\n",
       ".list-inline>li:not(:last-child)::after {content: \"\\00b7\"; padding: 0 .5ex}\n",
       "</style>\n",
       "<ol class=list-inline><li>'t0'</li><li>'t'</li><li>'R'</li><li>'data'</li><li>'seed'</li><li>'statistic'</li><li>'sim'</li><li>'call'</li><li>'stype'</li><li>'strata'</li><li>'weights'</li></ol>\n",
       "</dd>\n",
       "\t<dt>$class</dt>\n",
       "\t\t<dd>'boot'</dd>\n",
       "\t<dt>$boot_type</dt>\n",
       "\t\t<dd>'boot'</dd>\n",
       "</dl>\n"
      ],
      "text/latex": [
       "\\begin{description}\n",
       "\\item[\\$names] \\begin{enumerate*}\n",
       "\\item 't0'\n",
       "\\item 't'\n",
       "\\item 'R'\n",
       "\\item 'data'\n",
       "\\item 'seed'\n",
       "\\item 'statistic'\n",
       "\\item 'sim'\n",
       "\\item 'call'\n",
       "\\item 'stype'\n",
       "\\item 'strata'\n",
       "\\item 'weights'\n",
       "\\end{enumerate*}\n",
       "\n",
       "\\item[\\$class] 'boot'\n",
       "\\item[\\$boot\\_type] 'boot'\n",
       "\\end{description}\n"
      ],
      "text/markdown": [
       "$names\n",
       ":   1. 't0'\n",
       "2. 't'\n",
       "3. 'R'\n",
       "4. 'data'\n",
       "5. 'seed'\n",
       "6. 'statistic'\n",
       "7. 'sim'\n",
       "8. 'call'\n",
       "9. 'stype'\n",
       "10. 'strata'\n",
       "11. 'weights'\n",
       "\n",
       "\n",
       "\n",
       "$class\n",
       ":   'boot'\n",
       "$boot_type\n",
       ":   'boot'\n",
       "\n",
       "\n"
      ],
      "text/plain": [
       "$names\n",
       " [1] \"t0\"        \"t\"         \"R\"         \"data\"      \"seed\"      \"statistic\"\n",
       " [7] \"sim\"       \"call\"      \"stype\"     \"strata\"    \"weights\"  \n",
       "\n",
       "$class\n",
       "[1] \"boot\"\n",
       "\n",
       "$boot_type\n",
       "[1] \"boot\"\n"
      ]
     },
     "metadata": {},
     "output_type": "display_data"
    }
   ],
   "source": [
    "attributes(boot_obj) #get all attributes of the boot object "
   ]
  },
  {
   "cell_type": "markdown",
   "metadata": {
    "id": "jbc65gFiujpe"
   },
   "source": [
    "Here the standard error estimate of the two regression coefficients (one for the intercept and one for `horsepower`) are calculated from the 1000 bootstrapped experiments on the data set. We can see the output from each of the 1000 iterations as well (below we'll plot just for $\\hat{\\beta}_{horsepower}$, since that's more interesting coefficient)."
   ]
  },
  {
   "cell_type": "code",
   "execution_count": 44,
   "metadata": {
    "colab": {
     "base_uri": "https://localhost:8080/",
     "height": 437
    },
    "executionInfo": {
     "elapsed": 2020,
     "status": "ok",
     "timestamp": 1612321638554,
     "user": {
      "displayName": "Patience Stevens",
      "photoUrl": "https://lh3.googleusercontent.com/a-/AOh14Gi-_9ZqhIFhAv1oMehJNvNuIKSTyrFQHzjxQKhx=s64",
      "userId": "01994571539255174942"
     },
     "user_tz": 300
    },
    "id": "e_TDlVAUujpf",
    "outputId": "75ca0d9a-5c29-4be7-a70f-45e879d9292e",
    "vscode": {
     "languageId": "r"
    }
   },
   "outputs": [
    {
     "data": {
      "image/png": "[encoded data removed]",
      "text/plain": [
       "Plot with title “Histogram of boot(Auto, boot.fn, R = 1000)$t[, 2]”"
      ]
     },
     "metadata": {
      "image/png": {
       "height": 420,
       "width": 420
      }
     },
     "output_type": "display_data"
    }
   ],
   "source": [
    "hist(boot(Auto ,boot.fn ,R=1000)$t[,2], xlab=\"Horsepower coefficient\") #we get a distribution of all of the estimates\n",
    "#                               ^^ indexing the second \"t\" value"
   ]
  },
  {
   "cell_type": "markdown",
   "metadata": {
    "id": "Bid-pzPQujpg"
   },
   "source": [
    "Now let's compare these results to the original model where we don't bootstrap."
   ]
  },
  {
   "cell_type": "code",
   "execution_count": 45,
   "metadata": {
    "id": "2E7VOMNoujpi",
    "outputId": "5d7032a2-a795-4e16-fa58-d603ca4db1ac",
    "vscode": {
     "languageId": "r"
    }
   },
   "outputs": [
    {
     "data": {
      "text/html": [
       "<table class=\"dataframe\">\n",
       "<caption>A matrix: 2 × 4 of type dbl</caption>\n",
       "<thead>\n",
       "\t<tr><th></th><th scope=col>Estimate</th><th scope=col>Std. Error</th><th scope=col>t value</th><th scope=col>Pr(&gt;|t|)</th></tr>\n",
       "</thead>\n",
       "<tbody>\n",
       "\t<tr><th scope=row>(Intercept)</th><td>39.9358610</td><td>0.717498656</td><td> 55.65984</td><td>1.220362e-187</td></tr>\n",
       "\t<tr><th scope=row>horsepower</th><td>-0.1578447</td><td>0.006445501</td><td>-24.48914</td><td> 7.031989e-81</td></tr>\n",
       "</tbody>\n",
       "</table>\n"
      ],
      "text/latex": [
       "A matrix: 2 × 4 of type dbl\n",
       "\\begin{tabular}{r|llll}\n",
       "  & Estimate & Std. Error & t value & Pr(>\\textbar{}t\\textbar{})\\\\\n",
       "\\hline\n",
       "\t(Intercept) & 39.9358610 & 0.717498656 &  55.65984 & 1.220362e-187\\\\\n",
       "\thorsepower & -0.1578447 & 0.006445501 & -24.48914 &  7.031989e-81\\\\\n",
       "\\end{tabular}\n"
      ],
      "text/markdown": [
       "\n",
       "A matrix: 2 × 4 of type dbl\n",
       "\n",
       "| <!--/--> | Estimate | Std. Error | t value | Pr(&gt;|t|) |\n",
       "|---|---|---|---|---|\n",
       "| (Intercept) | 39.9358610 | 0.717498656 |  55.65984 | 1.220362e-187 |\n",
       "| horsepower | -0.1578447 | 0.006445501 | -24.48914 |  7.031989e-81 |\n",
       "\n"
      ],
      "text/plain": [
       "            Estimate   Std. Error  t value   Pr(>|t|)     \n",
       "(Intercept) 39.9358610 0.717498656  55.65984 1.220362e-187\n",
       "horsepower  -0.1578447 0.006445501 -24.48914  7.031989e-81"
      ]
     },
     "metadata": {},
     "output_type": "display_data"
    }
   ],
   "source": [
    "# Parametric model\n",
    "summary(lm(mpg~horsepower ,data=Auto))$coef"
   ]
  },
  {
   "cell_type": "markdown",
   "metadata": {
    "id": "OtmaLbqEujpj"
   },
   "source": [
    "Notice that they produce qualitatively similar results in this case: the parametric estimate and the bootstrapped estimate are both about -0.1578. When the data fit the assumptions of the parametric linear regression model, the bootstrapped estimates will converge to the parametric ones."
   ]
  },
  {
   "cell_type": "markdown",
   "metadata": {
    "id": "F_Bu3_1-ujpk"
   },
   "source": [
    "---\n",
    "# Permutation tests\n",
    "\n",
    "Remember, that the goal of permutation tests is to use resampling *without replacement*. By doing this you define the specific null that you want to test and generate a random relationship with which to calculate $P(X|H_0)$. For this we can just use a simple *for loop*. But first, we need to define what our null is. Here let's define our null as being that there is no relationship between `horsepower` and `mpg`. In other words\n",
    "$$H_0 : \\hat{\\beta}_{horsepower} = 0$$\n",
    "\n",
    "If the null is that there is no relationship, then basically the question you're asking with your analysis is, \"Is the relationship between horsepower and mpg stronger than it would be for randomly shuffled pairings of these variables' observations?\"\n",
    "\n",
    "*Note: You are not restricted to these 'nil' hypotheses (effect of 0, $\\beta$ of 0). The advantage of these kinds of methods is that you can be as flexible as you like in defining your null.*"
   ]
  },
  {
   "cell_type": "code",
   "execution_count": 46,
   "metadata": {
    "vscode": {
     "languageId": "r"
    }
   },
   "outputs": [
    {
     "data": {
      "text/html": [
       "<style>\n",
       ".list-inline {list-style: none; margin:0; padding: 0}\n",
       ".list-inline>li {display: inline-block}\n",
       ".list-inline>li:not(:last-child)::after {content: \"\\00b7\"; padding: 0 .5ex}\n",
       "</style>\n",
       "<ol class=list-inline><li>3</li><li>7</li><li>6</li><li>5</li><li>4</li><li>8</li><li>2</li><li>9</li><li>10</li><li>1</li></ol>\n"
      ],
      "text/latex": [
       "\\begin{enumerate*}\n",
       "\\item 3\n",
       "\\item 7\n",
       "\\item 6\n",
       "\\item 5\n",
       "\\item 4\n",
       "\\item 8\n",
       "\\item 2\n",
       "\\item 9\n",
       "\\item 10\n",
       "\\item 1\n",
       "\\end{enumerate*}\n"
      ],
      "text/markdown": [
       "1. 3\n",
       "2. 7\n",
       "3. 6\n",
       "4. 5\n",
       "5. 4\n",
       "6. 8\n",
       "7. 2\n",
       "8. 9\n",
       "9. 10\n",
       "10. 1\n",
       "\n",
       "\n"
      ],
      "text/plain": [
       " [1]  3  7  6  5  4  8  2  9 10  1"
      ]
     },
     "metadata": {},
     "output_type": "display_data"
    }
   ],
   "source": [
    "sample(10)"
   ]
  },
  {
   "cell_type": "code",
   "execution_count": 47,
   "metadata": {
    "colab": {
     "base_uri": "https://localhost:8080/",
     "height": 437
    },
    "executionInfo": {
     "elapsed": 1509,
     "status": "ok",
     "timestamp": 1612322247440,
     "user": {
      "displayName": "Patience Stevens",
      "photoUrl": "https://lh3.googleusercontent.com/a-/AOh14Gi-_9ZqhIFhAv1oMehJNvNuIKSTyrFQHzjxQKhx=s64",
      "userId": "01994571539255174942"
     },
     "user_tz": 300
    },
    "id": "VMJevlwWujpk",
    "outputId": "c1647de1-c197-48c3-e8eb-d7c58c4f0399",
    "vscode": {
     "languageId": "r"
    }
   },
   "outputs": [
    {
     "data": {
      "text/html": [
       "<table class=\"dataframe\">\n",
       "<caption>A matrix: 6 × 2 of type lgl</caption>\n",
       "<tbody>\n",
       "\t<tr><td>NA</td><td>NA</td></tr>\n",
       "\t<tr><td>NA</td><td>NA</td></tr>\n",
       "\t<tr><td>NA</td><td>NA</td></tr>\n",
       "\t<tr><td>NA</td><td>NA</td></tr>\n",
       "\t<tr><td>NA</td><td>NA</td></tr>\n",
       "\t<tr><td>NA</td><td>NA</td></tr>\n",
       "</tbody>\n",
       "</table>\n"
      ],
      "text/latex": [
       "A matrix: 6 × 2 of type lgl\n",
       "\\begin{tabular}{ll}\n",
       "\t NA & NA\\\\\n",
       "\t NA & NA\\\\\n",
       "\t NA & NA\\\\\n",
       "\t NA & NA\\\\\n",
       "\t NA & NA\\\\\n",
       "\t NA & NA\\\\\n",
       "\\end{tabular}\n"
      ],
      "text/markdown": [
       "\n",
       "A matrix: 6 × 2 of type lgl\n",
       "\n",
       "| NA | NA |\n",
       "| NA | NA |\n",
       "| NA | NA |\n",
       "| NA | NA |\n",
       "| NA | NA |\n",
       "| NA | NA |\n",
       "\n"
      ],
      "text/plain": [
       "     [,1] [,2]\n",
       "[1,] NA   NA  \n",
       "[2,] NA   NA  \n",
       "[3,] NA   NA  \n",
       "[4,] NA   NA  \n",
       "[5,] NA   NA  \n",
       "[6,] NA   NA  "
      ]
     },
     "metadata": {},
     "output_type": "display_data"
    },
    {
     "data": {
      "text/html": [
       "<table class=\"dataframe\">\n",
       "<caption>A matrix: 6 × 2 of type dbl</caption>\n",
       "<tbody>\n",
       "\t<tr><td>24.37846</td><td>-0.008926473</td></tr>\n",
       "\t<tr><td>22.11102</td><td> 0.012777891</td></tr>\n",
       "\t<tr><td>22.79373</td><td> 0.006242863</td></tr>\n",
       "\t<tr><td>22.40344</td><td> 0.009978793</td></tr>\n",
       "\t<tr><td>22.88904</td><td> 0.005330545</td></tr>\n",
       "\t<tr><td>23.82040</td><td>-0.003584622</td></tr>\n",
       "</tbody>\n",
       "</table>\n"
      ],
      "text/latex": [
       "A matrix: 6 × 2 of type dbl\n",
       "\\begin{tabular}{ll}\n",
       "\t 24.37846 & -0.008926473\\\\\n",
       "\t 22.11102 &  0.012777891\\\\\n",
       "\t 22.79373 &  0.006242863\\\\\n",
       "\t 22.40344 &  0.009978793\\\\\n",
       "\t 22.88904 &  0.005330545\\\\\n",
       "\t 23.82040 & -0.003584622\\\\\n",
       "\\end{tabular}\n"
      ],
      "text/markdown": [
       "\n",
       "A matrix: 6 × 2 of type dbl\n",
       "\n",
       "| 24.37846 | -0.008926473 |\n",
       "| 22.11102 |  0.012777891 |\n",
       "| 22.79373 |  0.006242863 |\n",
       "| 22.40344 |  0.009978793 |\n",
       "| 22.88904 |  0.005330545 |\n",
       "| 23.82040 | -0.003584622 |\n",
       "\n"
      ],
      "text/plain": [
       "     [,1]     [,2]        \n",
       "[1,] 24.37846 -0.008926473\n",
       "[2,] 22.11102  0.012777891\n",
       "[3,] 22.79373  0.006242863\n",
       "[4,] 22.40344  0.009978793\n",
       "[5,] 22.88904  0.005330545\n",
       "[6,] 23.82040 -0.003584622"
      ]
     },
     "metadata": {},
     "output_type": "display_data"
    },
    {
     "data": {
      "image/png": "[encoded data removed]",
      "text/plain": [
       "Plot with title “Histogram of perm.coefs[, 2]”"
      ]
     },
     "metadata": {
      "image/png": {
       "height": 420,
       "width": 420
      }
     },
     "output_type": "display_data"
    }
   ],
   "source": [
    "# First let's make a copy of the data set that we'll keep permuting\n",
    "permAuto = Auto #want to preserve the non-permuted, true form of data!\n",
    "\n",
    "# Set the number of iterations\n",
    "R=1000\n",
    "\n",
    "# Next smake an output object to store the results\n",
    "#MATRIX OF Intercepts and Horsepower Coeeffecients\n",
    "perm.coefs=matrix(NA,nrow=R, ncol=2) #filling with nas at first, gives matrix, no column names\n",
    "head(perm.coefs)\n",
    "\n",
    "# Now just write a for loop where we scramble the observations\n",
    "# in X using the sample() function. We'll scramble the observations in R different ways\n",
    "\n",
    "#Question: Can you explain how the scrambling works?\n",
    "for (i in 1:R){\n",
    "  #Does the sample(382), just give a random list of numbers to use as indeces?\n",
    "  # Shuffle the predictor variable, horsepower\n",
    "  permAuto$horsepower=Auto$horsepower[sample(392)] # This is a shuffled version of the Auto$horsepower vector, random sample of horse power (target)\n",
    "  #perform a regression, then get the coeficients with the sample\n",
    "  perm.coefs[i,]=coef(lm(mpg~horsepower, data=permAuto)) # then we get coefficients for linear model of shuffled horsepower to auto,\n",
    "}\n",
    "\n",
    "# Take a look at the null distributions\n",
    "hist(perm.coefs[,2])\n",
    "head(perm.coefs)\n"
   ]
  },
  {
   "cell_type": "code",
   "execution_count": 48,
   "metadata": {
    "colab": {
     "base_uri": "https://localhost:8080/",
     "height": 34
    },
    "executionInfo": {
     "elapsed": 270,
     "status": "ok",
     "timestamp": 1612322435055,
     "user": {
      "displayName": "Patience Stevens",
      "photoUrl": "https://lh3.googleusercontent.com/a-/AOh14Gi-_9ZqhIFhAv1oMehJNvNuIKSTyrFQHzjxQKhx=s64",
      "userId": "01994571539255174942"
     },
     "user_tz": 300
    },
    "id": "0tDuC2sOujpm",
    "outputId": "9c7dbd35-b62e-4005-d311-27a2a51b02a0",
    "vscode": {
     "languageId": "r"
    }
   },
   "outputs": [
    {
     "data": {
      "text/html": [
       "<style>\n",
       ".dl-inline {width: auto; margin:0; padding: 0}\n",
       ".dl-inline>dt, .dl-inline>dd {float: none; width: auto; display: inline-block}\n",
       ".dl-inline>dt::after {content: \":\\0020\"; padding-right: .5ex}\n",
       ".dl-inline>dt:not(:first-of-type) {padding-left: .5ex}\n",
       "</style><dl class=dl-inline><dt>(Intercept)</dt><dd>39.9358610211704</dd><dt>horsepower</dt><dd>-0.157844733353653</dd></dl>\n"
      ],
      "text/latex": [
       "\\begin{description*}\n",
       "\\item[(Intercept)] 39.9358610211704\n",
       "\\item[horsepower] -0.157844733353653\n",
       "\\end{description*}\n"
      ],
      "text/markdown": [
       "(Intercept)\n",
       ":   39.9358610211704horsepower\n",
       ":   -0.157844733353653\n",
       "\n"
      ],
      "text/plain": [
       "(Intercept)  horsepower \n",
       " 39.9358610  -0.1578447 "
      ]
     },
     "metadata": {},
     "output_type": "display_data"
    }
   ],
   "source": [
    "# Now re-estimate the real (unpermuted) effect \n",
    "perm.real = coef(lm(mpg~horsepower, data=Auto))\n",
    "perm.real"
   ]
  },
  {
   "cell_type": "code",
   "execution_count": 49,
   "metadata": {
    "vscode": {
     "languageId": "r"
    }
   },
   "outputs": [
    {
     "data": {
      "text/html": [
       "<style>\n",
       ".list-inline {list-style: none; margin:0; padding: 0}\n",
       ".list-inline>li {display: inline-block}\n",
       ".list-inline>li:not(:last-child)::after {content: \"\\00b7\"; padding: 0 .5ex}\n",
       "</style>\n",
       "<ol class=list-inline><li>392</li><li>9</li></ol>\n"
      ],
      "text/latex": [
       "\\begin{enumerate*}\n",
       "\\item 392\n",
       "\\item 9\n",
       "\\end{enumerate*}\n"
      ],
      "text/markdown": [
       "1. 392\n",
       "2. 9\n",
       "\n",
       "\n"
      ],
      "text/plain": [
       "[1] 392   9"
      ]
     },
     "metadata": {},
     "output_type": "display_data"
    }
   ],
   "source": [
    "dim(permAuto)"
   ]
  },
  {
   "cell_type": "markdown",
   "metadata": {
    "id": "lsGPtOO2ujpn"
   },
   "source": [
    "Notice that the real effect (-0.16) is *much* larger than the range of coefficient estimates we see for the permuted datasets - it falls outside the range of values in our empirically derived null distribution. But instead of eyeballing it, we can **empirically calculate** the probability of observing a stronger (i.e., more negative) effect. What is the probability of observing a stronger negative effect than -0.16 due to chance?"
   ]
  },
  {
   "cell_type": "code",
   "execution_count": 15,
   "metadata": {
    "colab": {
     "base_uri": "https://localhost:8080/",
     "height": 34
    },
    "executionInfo": {
     "elapsed": 275,
     "status": "ok",
     "timestamp": 1612322437620,
     "user": {
      "displayName": "Patience Stevens",
      "photoUrl": "https://lh3.googleusercontent.com/a-/AOh14Gi-_9ZqhIFhAv1oMehJNvNuIKSTyrFQHzjxQKhx=s64",
      "userId": "01994571539255174942"
     },
     "user_tz": 300
    },
    "id": "nwAgMm6pujpn",
    "outputId": "4af9b6d9-6afc-439f-e7f0-df7d5d3ef15f",
    "vscode": {
     "languageId": "r"
    }
   },
   "outputs": [
    {
     "data": {
      "text/html": [
       "0"
      ],
      "text/latex": [
       "0"
      ],
      "text/markdown": [
       "0"
      ],
      "text/plain": [
       "[1] 0"
      ]
     },
     "metadata": {
      "tags": []
     },
     "output_type": "display_data"
    }
   ],
   "source": [
    "#sum the coefficients less than the real coefficient estimate \n",
    "#and divide by the number of repetitions to get an empirical probability \n",
    "perm.p = sum(perm.coefs[,2]<perm.real[2])/R \n",
    "perm.p"
   ]
  },
  {
   "cell_type": "markdown",
   "metadata": {
    "id": "RiOl9VU_ujpo"
   },
   "source": [
    "So we do not see any permuted models that produce results that overlap with the results from the  intact model. We can reject the null hypothesis that the $\\beta$ estimate for the miles per gallon and horsepower is zero. "
   ]
  },
  {
   "cell_type": "markdown",
   "metadata": {
    "id": "nzuiUuO0u0HO"
   },
   "source": [
    "*Notebook authored by Ven Popov and edited by Krista Bond, Charles Wu, Patience Stevens, and Amy Sentis.*"
   ]
  }
 ],
 "metadata": {
  "colab": {
   "collapsed_sections": [],
   "name": "resampling-methods.ipynb",
   "provenance": []
  },
  "kernelspec": {
   "display_name": "R",
   "language": "R",
   "name": "ir"
  },
  "language_info": {
   "codemirror_mode": "r",
   "file_extension": ".r",
   "mimetype": "text/x-r-source",
   "name": "R",
   "pygments_lexer": "r",
   "version": "4.3.1"
  }
 },
 "nbformat": 4,
 "nbformat_minor": 1
}
