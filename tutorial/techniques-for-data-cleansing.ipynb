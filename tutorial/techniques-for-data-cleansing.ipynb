{
 "cells": [
  {
   "cell_type": "markdown",
   "metadata": {},
   "source": [
    "# Tutorial: Data Cleansing and the Tidyverse\n",
    "\n",
    "This lab serves as an introduction to data processing in R using the `tidyverse` family of packages. We cover a lot of material in this tutorial, and recommend coming back to use this as a reference while you learn the `tidyverse` ropes.\n",
    "\n",
    "## Goals:\n",
    "* Learn how to use `tidyverse`\n",
    "* Learn about the pipe operator\n",
    "* Learn various data transformations in R"
   ]
  },
  {
   "cell_type": "markdown",
   "metadata": {
    "id": "J1TgD9BM0ZAG"
   },
   "source": [
    "---\n",
    "# Getting started\n",
    "\n",
    "For many people, their first instinct when it comes to data cleansing is to open their data with Excel and just start manually cleaning it up by replacing values, creating new columns, etc. The problem with that approach is that you cannot easily replicate the steps you have taken to transform the raw data into the final format you use for your analyses. This issue has many consequences, but among the two most common are, first, that if you get new or additional data from the same source, you would have to manually perform the same operations again, and second, if you make a mistake it would be difficult to identify where exactly that happened. The best approach is to preprocess your data with a script in the same way you do your analyses. However, doing so in base R can be quite cumbersome. In this tutorial, you will learn how to use tools for the **`tidyverse`** packages. Tidyverse is a collection of useful packages, which include **`ggplot2`**, **`tidyr`**, **`dplyr`**, etc, combined in a single package.\n",
    "\n",
    "Before we begin, you'll need to install and load the `tidyverse` package:"
   ]
  },
  {
   "cell_type": "code",
   "execution_count": 1,
   "metadata": {
    "scrolled": true
   },
   "outputs": [
    {
     "name": "stdout",
     "output_type": "stream",
     "text": [
      "\n",
      "The downloaded binary packages are in\n",
      "\t/var/folders/91/27xg0jcj2dq9rv01tz61gk9r0000gq/T//Rtmp99rXPH/downloaded_packages\n"
     ]
    },
    {
     "name": "stderr",
     "output_type": "stream",
     "text": [
      "── \u001b[1mAttaching core tidyverse packages\u001b[22m ──────────────────────── tidyverse 2.0.0 ──\n",
      "\u001b[32m✔\u001b[39m \u001b[34mdplyr    \u001b[39m 1.1.4     \u001b[32m✔\u001b[39m \u001b[34mreadr    \u001b[39m 2.1.4\n",
      "\u001b[32m✔\u001b[39m \u001b[34mforcats  \u001b[39m 1.0.0     \u001b[32m✔\u001b[39m \u001b[34mstringr  \u001b[39m 1.5.1\n",
      "\u001b[32m✔\u001b[39m \u001b[34mggplot2  \u001b[39m 3.4.3     \u001b[32m✔\u001b[39m \u001b[34mtibble   \u001b[39m 3.2.1\n",
      "\u001b[32m✔\u001b[39m \u001b[34mlubridate\u001b[39m 1.9.3     \u001b[32m✔\u001b[39m \u001b[34mtidyr    \u001b[39m 1.3.0\n",
      "\u001b[32m✔\u001b[39m \u001b[34mpurrr    \u001b[39m 1.0.2     \n",
      "── \u001b[1mConflicts\u001b[22m ────────────────────────────────────────── tidyverse_conflicts() ──\n",
      "\u001b[31m✖\u001b[39m \u001b[34mdplyr\u001b[39m::\u001b[32mfilter()\u001b[39m masks \u001b[34mstats\u001b[39m::filter()\n",
      "\u001b[31m✖\u001b[39m \u001b[34mdplyr\u001b[39m::\u001b[32mlag()\u001b[39m    masks \u001b[34mstats\u001b[39m::lag()\n",
      "\u001b[36mℹ\u001b[39m Use the conflicted package (\u001b[3m\u001b[34m<http://conflicted.r-lib.org/>\u001b[39m\u001b[23m) to force all conflicts to become errors\n"
     ]
    }
   ],
   "source": [
    "install.packages('tidyverse')\n",
    "library(tidyverse)"
   ]
  },
  {
   "cell_type": "markdown",
   "metadata": {},
   "source": [
    "## Data \n",
    "\n",
    "We will use the `iris` dataset for illustrating the tidyverse functions. We'll save it to a `dat` variable like this so we can make changes to it:"
   ]
  },
  {
   "cell_type": "code",
   "execution_count": 140,
   "metadata": {
    "scrolled": true
   },
   "outputs": [
    {
     "data": {
      "text/html": [
       "<table class=\"dataframe\">\n",
       "<caption>A data.frame: 6 × 5</caption>\n",
       "<thead>\n",
       "\t<tr><th></th><th scope=col>Sepal.Length</th><th scope=col>Sepal.Width</th><th scope=col>Petal.Length</th><th scope=col>Petal.Width</th><th scope=col>Species</th></tr>\n",
       "\t<tr><th></th><th scope=col>&lt;dbl&gt;</th><th scope=col>&lt;dbl&gt;</th><th scope=col>&lt;dbl&gt;</th><th scope=col>&lt;dbl&gt;</th><th scope=col>&lt;fct&gt;</th></tr>\n",
       "</thead>\n",
       "<tbody>\n",
       "\t<tr><th scope=row>1</th><td>5.1</td><td>3.5</td><td>1.4</td><td>0.2</td><td>setosa</td></tr>\n",
       "\t<tr><th scope=row>2</th><td>4.9</td><td>3.0</td><td>1.4</td><td>0.2</td><td>setosa</td></tr>\n",
       "\t<tr><th scope=row>3</th><td>4.7</td><td>3.2</td><td>1.3</td><td>0.2</td><td>setosa</td></tr>\n",
       "\t<tr><th scope=row>4</th><td>4.6</td><td>3.1</td><td>1.5</td><td>0.2</td><td>setosa</td></tr>\n",
       "\t<tr><th scope=row>5</th><td>5.0</td><td>3.6</td><td>1.4</td><td>0.2</td><td>setosa</td></tr>\n",
       "\t<tr><th scope=row>6</th><td>5.4</td><td>3.9</td><td>1.7</td><td>0.4</td><td>setosa</td></tr>\n",
       "</tbody>\n",
       "</table>\n"
      ],
      "text/latex": [
       "A data.frame: 6 × 5\n",
       "\\begin{tabular}{r|lllll}\n",
       "  & Sepal.Length & Sepal.Width & Petal.Length & Petal.Width & Species\\\\\n",
       "  & <dbl> & <dbl> & <dbl> & <dbl> & <fct>\\\\\n",
       "\\hline\n",
       "\t1 & 5.1 & 3.5 & 1.4 & 0.2 & setosa\\\\\n",
       "\t2 & 4.9 & 3.0 & 1.4 & 0.2 & setosa\\\\\n",
       "\t3 & 4.7 & 3.2 & 1.3 & 0.2 & setosa\\\\\n",
       "\t4 & 4.6 & 3.1 & 1.5 & 0.2 & setosa\\\\\n",
       "\t5 & 5.0 & 3.6 & 1.4 & 0.2 & setosa\\\\\n",
       "\t6 & 5.4 & 3.9 & 1.7 & 0.4 & setosa\\\\\n",
       "\\end{tabular}\n"
      ],
      "text/markdown": [
       "\n",
       "A data.frame: 6 × 5\n",
       "\n",
       "| <!--/--> | Sepal.Length &lt;dbl&gt; | Sepal.Width &lt;dbl&gt; | Petal.Length &lt;dbl&gt; | Petal.Width &lt;dbl&gt; | Species &lt;fct&gt; |\n",
       "|---|---|---|---|---|---|\n",
       "| 1 | 5.1 | 3.5 | 1.4 | 0.2 | setosa |\n",
       "| 2 | 4.9 | 3.0 | 1.4 | 0.2 | setosa |\n",
       "| 3 | 4.7 | 3.2 | 1.3 | 0.2 | setosa |\n",
       "| 4 | 4.6 | 3.1 | 1.5 | 0.2 | setosa |\n",
       "| 5 | 5.0 | 3.6 | 1.4 | 0.2 | setosa |\n",
       "| 6 | 5.4 | 3.9 | 1.7 | 0.4 | setosa |\n",
       "\n"
      ],
      "text/plain": [
       "  Sepal.Length Sepal.Width Petal.Length Petal.Width Species\n",
       "1 5.1          3.5         1.4          0.2         setosa \n",
       "2 4.9          3.0         1.4          0.2         setosa \n",
       "3 4.7          3.2         1.3          0.2         setosa \n",
       "4 4.6          3.1         1.5          0.2         setosa \n",
       "5 5.0          3.6         1.4          0.2         setosa \n",
       "6 5.4          3.9         1.7          0.4         setosa "
      ]
     },
     "metadata": {},
     "output_type": "display_data"
    }
   ],
   "source": [
    "dat <- iris \n",
    "head(dat) "
   ]
  },
  {
   "cell_type": "markdown",
   "metadata": {},
   "source": [
    "The `iris` dataset contains [measurement data](https://eloquentarduino.github.io/2019/12/iris-classification-on-arduino/) for different species of iris flowers. You can view a detailed description of the dataset by typing:\n",
    "```\n",
    "?iris\n",
    "```"
   ]
  },
  {
   "cell_type": "markdown",
   "metadata": {},
   "source": [
    "---\n",
    "# A standardized grammar\n",
    "One of the reasons that the tidyverse is so popular for data manipulation and analysis is that it uses a **standardized grammar** across all of its packages. This means that it's really easy to make different functions talk to each other, and function options or additional arguments all match the same style so they're easier to remember.\n",
    "\n",
    "In the tidyverse, the first argument of a function is always the **object** that you want to perform the given function on. For example,\n",
    "\n",
    "```\n",
    "mutate(data, var1 = c(1, 2, 3, 4))\n",
    "```\n",
    "would take the data frame `data`, and add a new column called `var1` consisting of the given vector.\n",
    "\n",
    "This object-as-first-argument style is really helpful when you want to perform a series of functions on the same object.\n",
    "\n",
    "Another feature of the tidyverse is that most functions use something called **tidy evaluation**. This means that when you are calling a variable within the function, you typically don't need to specify which dataframe it is located in. So instead of doing:\n",
    "```\n",
    "select(data, c(data$var1, data$var2))\n",
    "```\n",
    "\n",
    "You can just do:\n",
    "```\n",
    "select(data, c(var1, var2))\n",
    "```\n",
    "And it will know to look for `var1` and `var2` in the `data` object. This helps streamline code."
   ]
  },
  {
   "cell_type": "markdown",
   "metadata": {
    "id": "_W5_oFhn0ZAL"
   },
   "source": [
    "## Pipes: the %>% operator"
   ]
  },
  {
   "cell_type": "markdown",
   "metadata": {
    "id": "8lP3oIjy0ZAL"
   },
   "source": [
    "You might have noticed the weird **`%>%`** operator in the code in prior tutorials. This operator is called a **'pipe'**. Pipes are present in many programming languages, but not in the base R, so you might not be familiar with them. Pipes are an added feature from the Tidyverse package. \n",
    "\n",
    "A pipe serves as a link between two objects, whether they be variables or functions. The pipe tells R to take the object on its left side and pass it as the first argument to the function on the right. This is where the object-as-first-argument style really matters -- it's easy to pipe the output of one tidyverse function straight in as the input of the next, becuase the data object is always the first argument.\n",
    "\n",
    "Typically in R, if you want to pass an argument to a function, you specify it as `function(argument)`. For example, if you want to find the mean of the iris `Sepal.Width`, in base R you would do this:"
   ]
  },
  {
   "cell_type": "code",
   "execution_count": 141,
   "metadata": {
    "colab": {
     "base_uri": "https://localhost:8080/",
     "height": 34
    },
    "executionInfo": {
     "elapsed": 1334,
     "status": "ok",
     "timestamp": 1611095669015,
     "user": {
      "displayName": "Patience Stevens",
      "photoUrl": "https://lh3.googleusercontent.com/a-/AOh14Gi-_9ZqhIFhAv1oMehJNvNuIKSTyrFQHzjxQKhx=s64",
      "userId": "01994571539255174942"
     },
     "user_tz": 300
    },
    "id": "H1ozV5Ve0ZAM",
    "outputId": "2abf5df6-9d0c-4e3b-9304-56dffde30444"
   },
   "outputs": [
    {
     "data": {
      "text/html": [
       "3.05733333333333"
      ],
      "text/latex": [
       "3.05733333333333"
      ],
      "text/markdown": [
       "3.05733333333333"
      ],
      "text/plain": [
       "[1] 3.057333"
      ]
     },
     "metadata": {},
     "output_type": "display_data"
    }
   ],
   "source": [
    "mean(iris$Sepal.Width) "
   ]
  },
  {
   "cell_type": "markdown",
   "metadata": {
    "id": "esHOVJne0ZAM"
   },
   "source": [
    "If you use a pipe, you just put the argument on its left side, and the function on the right, i.e., `variable  %>% function()`:"
   ]
  },
  {
   "cell_type": "code",
   "execution_count": 142,
   "metadata": {
    "colab": {
     "base_uri": "https://localhost:8080/",
     "height": 34
    },
    "executionInfo": {
     "elapsed": 1626,
     "status": "ok",
     "timestamp": 1611095669325,
     "user": {
      "displayName": "Patience Stevens",
      "photoUrl": "https://lh3.googleusercontent.com/a-/AOh14Gi-_9ZqhIFhAv1oMehJNvNuIKSTyrFQHzjxQKhx=s64",
      "userId": "01994571539255174942"
     },
     "user_tz": 300
    },
    "id": "XYBMiqiK0ZAM",
    "outputId": "62949326-ba78-4ec5-96ca-042738d18287"
   },
   "outputs": [
    {
     "data": {
      "text/html": [
       "3.05733333333333"
      ],
      "text/latex": [
       "3.05733333333333"
      ],
      "text/markdown": [
       "3.05733333333333"
      ],
      "text/plain": [
       "[1] 3.057333"
      ]
     },
     "metadata": {},
     "output_type": "display_data"
    }
   ],
   "source": [
    "iris$Sepal.Width %>% mean()"
   ]
  },
  {
   "cell_type": "markdown",
   "metadata": {
    "id": "PmYedpSk0ZAM"
   },
   "source": [
    "Now, you might be asking, why would you want to use **x %>% mean()** instead of **mean(x)**? Pipes are most useful when you have to run a series of functions on the same input. For example, let's say you want to find the mean of the observations, and then round the value to 2 significant digits. In base R, you can do this in two ways:\n",
    "\n",
    "1. nest the functions within one another\n",
    "2. assign a temporary variable for the mean, and then round that value"
   ]
  },
  {
   "cell_type": "code",
   "execution_count": 143,
   "metadata": {
    "colab": {
     "base_uri": "https://localhost:8080/",
     "height": 52
    },
    "executionInfo": {
     "elapsed": 1612,
     "status": "ok",
     "timestamp": 1611095669327,
     "user": {
      "displayName": "Patience Stevens",
      "photoUrl": "https://lh3.googleusercontent.com/a-/AOh14Gi-_9ZqhIFhAv1oMehJNvNuIKSTyrFQHzjxQKhx=s64",
      "userId": "01994571539255174942"
     },
     "user_tz": 300
    },
    "id": "8tZTqAAq0ZAN",
    "outputId": "73c88721-f681-4976-acc1-dfa30edcaaa2"
   },
   "outputs": [
    {
     "data": {
      "text/html": [
       "3.06"
      ],
      "text/latex": [
       "3.06"
      ],
      "text/markdown": [
       "3.06"
      ],
      "text/plain": [
       "[1] 3.06"
      ]
     },
     "metadata": {},
     "output_type": "display_data"
    },
    {
     "data": {
      "text/html": [
       "3.06"
      ],
      "text/latex": [
       "3.06"
      ],
      "text/markdown": [
       "3.06"
      ],
      "text/plain": [
       "[1] 3.06"
      ]
     },
     "metadata": {},
     "output_type": "display_data"
    }
   ],
   "source": [
    "# nested\n",
    "round(mean(iris$Sepal.Width), 2)\n",
    "\n",
    "# tmp variable\n",
    "obs_mean = mean(iris$Sepal.Width)\n",
    "round(obs_mean, 2)"
   ]
  },
  {
   "cell_type": "markdown",
   "metadata": {
    "id": "Q5TTG1CU0ZAN"
   },
   "source": [
    "Since pipes take the output of the expression on the left and send it as the first input to the expression on the right, you can do the following with pipes:"
   ]
  },
  {
   "cell_type": "code",
   "execution_count": 144,
   "metadata": {
    "colab": {
     "base_uri": "https://localhost:8080/",
     "height": 34
    },
    "executionInfo": {
     "elapsed": 1597,
     "status": "ok",
     "timestamp": 1611095669328,
     "user": {
      "displayName": "Patience Stevens",
      "photoUrl": "https://lh3.googleusercontent.com/a-/AOh14Gi-_9ZqhIFhAv1oMehJNvNuIKSTyrFQHzjxQKhx=s64",
      "userId": "01994571539255174942"
     },
     "user_tz": 300
    },
    "id": "5xjWJPJS0ZAO",
    "outputId": "2f26de20-3ba4-4ae5-fb63-41395fb84de3"
   },
   "outputs": [
    {
     "data": {
      "text/html": [
       "3.06"
      ],
      "text/latex": [
       "3.06"
      ],
      "text/markdown": [
       "3.06"
      ],
      "text/plain": [
       "[1] 3.06"
      ]
     },
     "metadata": {},
     "output_type": "display_data"
    }
   ],
   "source": [
    "# with pipes\n",
    "iris$Sepal.Width %>% \n",
    "    mean() %>% \n",
    "    round(2)"
   ]
  },
  {
   "cell_type": "markdown",
   "metadata": {
    "id": "RMI5SW420ZAP"
   },
   "source": [
    "This reads smoothly from start to finish as, \"Take the observations, find the mean, and then round it to two decimals.\" \n",
    "\n",
    "Note that it's best practice to start a new row after each pipe operator, with the following functions indented.\n",
    "\n",
    "`round()` is not a tidyverse function, but notice that it also takes as first argument the **value** to be rounded, and as a second argument the number of digits to which to round. When you use a pipe, the first argument is implicitly filled in with the value on the left, so the first argument you actually type corresponds to the number of significant digits to which to round. \n",
    "\n",
    "This is the magic of the tidyverse pipe. As we'll see with our tidyverse functions below, you often want to use many of them, all in a row, on the same data object. While the above example might be easy to read in its nested form, it becomes very difficult to track what is going on with this approach as your code gets more complex. \n",
    "\n",
    "**Thus pipes have two advantages:**\n",
    "\n",
    "1. **Readability** - it is easier to see what goes on, because you can track the sequence naturally top to bottom. In contrast, with nested functions, you have to identify the inner-most function and then work your way outwards.\n",
    "2. **Efficiency** - you won't clutter your environment with temporary variables that you needed for only one intermediary observation.\n",
    "\n",
    "Because the pipe is so annoying to type, there is a handy keyboard shortcut:\n",
    "\n",
    "**Mac**: shift + command + M\n",
    "\n",
    "**PC**: shift + control + M"
   ]
  },
  {
   "cell_type": "markdown",
   "metadata": {
    "id": "e5yZZfJS0ZAJ"
   },
   "source": [
    "---\n",
    "# Transforming data with tidyverse functions\n",
    "\n",
    "Below is a summary of the functions we will review and their general description. These functions come from the `dplyr` package, the `tidyr` package, and the `purrr` package:\n",
    "\n",
    "* **`mutate()`** - transform existing variables and create new variables\n",
    "* **`summarise()`** - summarize variables\n",
    "* **`filter()`** - filter rows based on a condition\n",
    "* **`select()`** - select columns to keep/remove\n",
    "* **`arrange()`** - sort by column/columns\n",
    "* **`unite()`** - combine two columns into one\n",
    "* **`separate()`** - split one column into multiple columns\n",
    "* **`*_join()`** - merge multiple dataframes\n",
    "* **`group_by()`** - implicitly group data\n",
    "* **`nest()`** - explicitly group data\n",
    "* **`map()`** - perform the same function on each element of list or vector\n",
    "* **`pivot_wider()`** - transform data to wide format (formerly `spread()`)\n",
    "* **`pivot_longer()`** - transform data to long format (formerly `gather()`)"
   ]
  },
  {
   "cell_type": "markdown",
   "metadata": {
    "id": "8P2Yjlvj0ZAU"
   },
   "source": [
    "## `mutate()`: Transform existing variables and create new variables"
   ]
  },
  {
   "cell_type": "markdown",
   "metadata": {
    "id": "Yyg73p_p0ZAU"
   },
   "source": [
    "`mutate()` is part of `dplyr`, one of the packages included in `tidyverse` that is handy for data manipulation. The `mutate()` command allows you to create new columns, i.e. new variables.  Let's say you want to center the sepal lengths in the `iris` dataset by subtracting the mean:"
   ]
  },
  {
   "cell_type": "code",
   "execution_count": 146,
   "metadata": {
    "colab": {
     "base_uri": "https://localhost:8080/",
     "height": 207
    },
    "executionInfo": {
     "elapsed": 1766,
     "status": "ok",
     "timestamp": 1611095669584,
     "user": {
      "displayName": "Patience Stevens",
      "photoUrl": "https://lh3.googleusercontent.com/a-/AOh14Gi-_9ZqhIFhAv1oMehJNvNuIKSTyrFQHzjxQKhx=s64",
      "userId": "01994571539255174942"
     },
     "user_tz": 300
    },
    "id": "eOJI8TPg0ZAU",
    "outputId": "d2784afe-0eb9-440e-a4f4-0e237a9a8355"
   },
   "outputs": [
    {
     "data": {
      "text/html": [
       "<table class=\"dataframe\">\n",
       "<caption>A data.frame: 6 × 6</caption>\n",
       "<thead>\n",
       "\t<tr><th></th><th scope=col>Sepal.Length</th><th scope=col>Sepal.Width</th><th scope=col>Petal.Length</th><th scope=col>Petal.Width</th><th scope=col>Species</th><th scope=col>centered_SepLen</th></tr>\n",
       "\t<tr><th></th><th scope=col>&lt;dbl&gt;</th><th scope=col>&lt;dbl&gt;</th><th scope=col>&lt;dbl&gt;</th><th scope=col>&lt;dbl&gt;</th><th scope=col>&lt;fct&gt;</th><th scope=col>&lt;dbl&gt;</th></tr>\n",
       "</thead>\n",
       "<tbody>\n",
       "\t<tr><th scope=row>1</th><td>5.1</td><td>3.5</td><td>1.4</td><td>0.2</td><td>setosa</td><td>-0.7433333</td></tr>\n",
       "\t<tr><th scope=row>2</th><td>4.9</td><td>3.0</td><td>1.4</td><td>0.2</td><td>setosa</td><td>-0.9433333</td></tr>\n",
       "\t<tr><th scope=row>3</th><td>4.7</td><td>3.2</td><td>1.3</td><td>0.2</td><td>setosa</td><td>-1.1433333</td></tr>\n",
       "\t<tr><th scope=row>4</th><td>4.6</td><td>3.1</td><td>1.5</td><td>0.2</td><td>setosa</td><td>-1.2433333</td></tr>\n",
       "\t<tr><th scope=row>5</th><td>5.0</td><td>3.6</td><td>1.4</td><td>0.2</td><td>setosa</td><td>-0.8433333</td></tr>\n",
       "\t<tr><th scope=row>6</th><td>5.4</td><td>3.9</td><td>1.7</td><td>0.4</td><td>setosa</td><td>-0.4433333</td></tr>\n",
       "</tbody>\n",
       "</table>\n"
      ],
      "text/latex": [
       "A data.frame: 6 × 6\n",
       "\\begin{tabular}{r|llllll}\n",
       "  & Sepal.Length & Sepal.Width & Petal.Length & Petal.Width & Species & centered\\_SepLen\\\\\n",
       "  & <dbl> & <dbl> & <dbl> & <dbl> & <fct> & <dbl>\\\\\n",
       "\\hline\n",
       "\t1 & 5.1 & 3.5 & 1.4 & 0.2 & setosa & -0.7433333\\\\\n",
       "\t2 & 4.9 & 3.0 & 1.4 & 0.2 & setosa & -0.9433333\\\\\n",
       "\t3 & 4.7 & 3.2 & 1.3 & 0.2 & setosa & -1.1433333\\\\\n",
       "\t4 & 4.6 & 3.1 & 1.5 & 0.2 & setosa & -1.2433333\\\\\n",
       "\t5 & 5.0 & 3.6 & 1.4 & 0.2 & setosa & -0.8433333\\\\\n",
       "\t6 & 5.4 & 3.9 & 1.7 & 0.4 & setosa & -0.4433333\\\\\n",
       "\\end{tabular}\n"
      ],
      "text/markdown": [
       "\n",
       "A data.frame: 6 × 6\n",
       "\n",
       "| <!--/--> | Sepal.Length &lt;dbl&gt; | Sepal.Width &lt;dbl&gt; | Petal.Length &lt;dbl&gt; | Petal.Width &lt;dbl&gt; | Species &lt;fct&gt; | centered_SepLen &lt;dbl&gt; |\n",
       "|---|---|---|---|---|---|---|\n",
       "| 1 | 5.1 | 3.5 | 1.4 | 0.2 | setosa | -0.7433333 |\n",
       "| 2 | 4.9 | 3.0 | 1.4 | 0.2 | setosa | -0.9433333 |\n",
       "| 3 | 4.7 | 3.2 | 1.3 | 0.2 | setosa | -1.1433333 |\n",
       "| 4 | 4.6 | 3.1 | 1.5 | 0.2 | setosa | -1.2433333 |\n",
       "| 5 | 5.0 | 3.6 | 1.4 | 0.2 | setosa | -0.8433333 |\n",
       "| 6 | 5.4 | 3.9 | 1.7 | 0.4 | setosa | -0.4433333 |\n",
       "\n"
      ],
      "text/plain": [
       "  Sepal.Length Sepal.Width Petal.Length Petal.Width Species centered_SepLen\n",
       "1 5.1          3.5         1.4          0.2         setosa  -0.7433333     \n",
       "2 4.9          3.0         1.4          0.2         setosa  -0.9433333     \n",
       "3 4.7          3.2         1.3          0.2         setosa  -1.1433333     \n",
       "4 4.6          3.1         1.5          0.2         setosa  -1.2433333     \n",
       "5 5.0          3.6         1.4          0.2         setosa  -0.8433333     \n",
       "6 5.4          3.9         1.7          0.4         setosa  -0.4433333     "
      ]
     },
     "metadata": {},
     "output_type": "display_data"
    }
   ],
   "source": [
    "dat <- dat  %>%  #need to reassign the dat object with our new changes\n",
    "    mutate(centered_SepLen = Sepal.Length - mean(Sepal.Length))\n",
    "\n",
    "head(dat)"
   ]
  },
  {
   "cell_type": "markdown",
   "metadata": {
    "id": "gaQ6AejC0ZAU"
   },
   "source": [
    "Notice the tidy evaluation here -- we only need to indicate the dataset on the very first line. Within `mutate`, it knows to look for those variables in `dat`. \n",
    "\n",
    "If you want to create several variables in base R (that is, without using `dplyr` functions), you would have to do this everytime:"
   ]
  },
  {
   "cell_type": "code",
   "execution_count": 7,
   "metadata": {
    "id": "UGPeDg4s0ZAU"
   },
   "outputs": [],
   "source": [
    "# center sepal length\n",
    "dat$centered_SepLen = dat$Sepal.Length - mean(dat$Sepal.Length) \n",
    "# transforms petal length into zscores\n",
    "dat$PetLen_zscores = (dat$Petal.Length - mean(dat$Petal.Length))/sd(dat$Petal.Length)"
   ]
  },
  {
   "cell_type": "markdown",
   "metadata": {
    "id": "MIZ2mqba0ZAU"
   },
   "source": [
    "Using `dplyr`, you don't have to write `dat$` every time you refer to a variable:"
   ]
  },
  {
   "cell_type": "code",
   "execution_count": 148,
   "metadata": {
    "colab": {
     "base_uri": "https://localhost:8080/",
     "height": 207
    },
    "executionInfo": {
     "elapsed": 2437,
     "status": "ok",
     "timestamp": 1611095670273,
     "user": {
      "displayName": "Patience Stevens",
      "photoUrl": "https://lh3.googleusercontent.com/a-/AOh14Gi-_9ZqhIFhAv1oMehJNvNuIKSTyrFQHzjxQKhx=s64",
      "userId": "01994571539255174942"
     },
     "user_tz": 300
    },
    "id": "9ZEsYPEK0ZAV",
    "outputId": "4ba1ff8f-bb02-4f02-9de1-e204d1f99b70"
   },
   "outputs": [
    {
     "data": {
      "text/html": [
       "<table class=\"dataframe\">\n",
       "<caption>A data.frame: 6 × 8</caption>\n",
       "<thead>\n",
       "\t<tr><th></th><th scope=col>Sepal.Length</th><th scope=col>Sepal.Width</th><th scope=col>Petal.Length</th><th scope=col>Petal.Width</th><th scope=col>Species</th><th scope=col>centered_SepLen</th><th scope=col>PetLen_zscores</th><th scope=col>n_flowers</th></tr>\n",
       "\t<tr><th></th><th scope=col>&lt;dbl&gt;</th><th scope=col>&lt;dbl&gt;</th><th scope=col>&lt;dbl&gt;</th><th scope=col>&lt;dbl&gt;</th><th scope=col>&lt;fct&gt;</th><th scope=col>&lt;dbl&gt;</th><th scope=col>&lt;dbl&gt;</th><th scope=col>&lt;int&gt;</th></tr>\n",
       "</thead>\n",
       "<tbody>\n",
       "\t<tr><th scope=row>1</th><td>5.1</td><td>3.5</td><td>1.4</td><td>0.2</td><td>setosa</td><td>-0.7433333</td><td>-1.335752</td><td>150</td></tr>\n",
       "\t<tr><th scope=row>2</th><td>4.9</td><td>3.0</td><td>1.4</td><td>0.2</td><td>setosa</td><td>-0.9433333</td><td>-1.335752</td><td>150</td></tr>\n",
       "\t<tr><th scope=row>3</th><td>4.7</td><td>3.2</td><td>1.3</td><td>0.2</td><td>setosa</td><td>-1.1433333</td><td>-1.392399</td><td>150</td></tr>\n",
       "\t<tr><th scope=row>4</th><td>4.6</td><td>3.1</td><td>1.5</td><td>0.2</td><td>setosa</td><td>-1.2433333</td><td>-1.279104</td><td>150</td></tr>\n",
       "\t<tr><th scope=row>5</th><td>5.0</td><td>3.6</td><td>1.4</td><td>0.2</td><td>setosa</td><td>-0.8433333</td><td>-1.335752</td><td>150</td></tr>\n",
       "\t<tr><th scope=row>6</th><td>5.4</td><td>3.9</td><td>1.7</td><td>0.4</td><td>setosa</td><td>-0.4433333</td><td>-1.165809</td><td>150</td></tr>\n",
       "</tbody>\n",
       "</table>\n"
      ],
      "text/latex": [
       "A data.frame: 6 × 8\n",
       "\\begin{tabular}{r|llllllll}\n",
       "  & Sepal.Length & Sepal.Width & Petal.Length & Petal.Width & Species & centered\\_SepLen & PetLen\\_zscores & n\\_flowers\\\\\n",
       "  & <dbl> & <dbl> & <dbl> & <dbl> & <fct> & <dbl> & <dbl> & <int>\\\\\n",
       "\\hline\n",
       "\t1 & 5.1 & 3.5 & 1.4 & 0.2 & setosa & -0.7433333 & -1.335752 & 150\\\\\n",
       "\t2 & 4.9 & 3.0 & 1.4 & 0.2 & setosa & -0.9433333 & -1.335752 & 150\\\\\n",
       "\t3 & 4.7 & 3.2 & 1.3 & 0.2 & setosa & -1.1433333 & -1.392399 & 150\\\\\n",
       "\t4 & 4.6 & 3.1 & 1.5 & 0.2 & setosa & -1.2433333 & -1.279104 & 150\\\\\n",
       "\t5 & 5.0 & 3.6 & 1.4 & 0.2 & setosa & -0.8433333 & -1.335752 & 150\\\\\n",
       "\t6 & 5.4 & 3.9 & 1.7 & 0.4 & setosa & -0.4433333 & -1.165809 & 150\\\\\n",
       "\\end{tabular}\n"
      ],
      "text/markdown": [
       "\n",
       "A data.frame: 6 × 8\n",
       "\n",
       "| <!--/--> | Sepal.Length &lt;dbl&gt; | Sepal.Width &lt;dbl&gt; | Petal.Length &lt;dbl&gt; | Petal.Width &lt;dbl&gt; | Species &lt;fct&gt; | centered_SepLen &lt;dbl&gt; | PetLen_zscores &lt;dbl&gt; | n_flowers &lt;int&gt; |\n",
       "|---|---|---|---|---|---|---|---|---|\n",
       "| 1 | 5.1 | 3.5 | 1.4 | 0.2 | setosa | -0.7433333 | -1.335752 | 150 |\n",
       "| 2 | 4.9 | 3.0 | 1.4 | 0.2 | setosa | -0.9433333 | -1.335752 | 150 |\n",
       "| 3 | 4.7 | 3.2 | 1.3 | 0.2 | setosa | -1.1433333 | -1.392399 | 150 |\n",
       "| 4 | 4.6 | 3.1 | 1.5 | 0.2 | setosa | -1.2433333 | -1.279104 | 150 |\n",
       "| 5 | 5.0 | 3.6 | 1.4 | 0.2 | setosa | -0.8433333 | -1.335752 | 150 |\n",
       "| 6 | 5.4 | 3.9 | 1.7 | 0.4 | setosa | -0.4433333 | -1.165809 | 150 |\n",
       "\n"
      ],
      "text/plain": [
       "  Sepal.Length Sepal.Width Petal.Length Petal.Width Species centered_SepLen\n",
       "1 5.1          3.5         1.4          0.2         setosa  -0.7433333     \n",
       "2 4.9          3.0         1.4          0.2         setosa  -0.9433333     \n",
       "3 4.7          3.2         1.3          0.2         setosa  -1.1433333     \n",
       "4 4.6          3.1         1.5          0.2         setosa  -1.2433333     \n",
       "5 5.0          3.6         1.4          0.2         setosa  -0.8433333     \n",
       "6 5.4          3.9         1.7          0.4         setosa  -0.4433333     \n",
       "  PetLen_zscores n_flowers\n",
       "1 -1.335752      150      \n",
       "2 -1.335752      150      \n",
       "3 -1.392399      150      \n",
       "4 -1.279104      150      \n",
       "5 -1.335752      150      \n",
       "6 -1.165809      150      "
      ]
     },
     "metadata": {},
     "output_type": "display_data"
    }
   ],
   "source": [
    "dat <- dat  %>%  \n",
    "    mutate(centered_SepLen = Sepal.Length - mean(Sepal.Length),  # center Sepal Lengths\n",
    "           PetLen_zscores = (Petal.Length - mean(Petal.Length))/sd(Petal.Length),  # zscore the Petal Lengths\n",
    "           n_flowers = length(Species))              # calculate the total number of flowers\n",
    "head(dat)"
   ]
  },
  {
   "cell_type": "markdown",
   "metadata": {
    "id": "KeGAInjb0ZAV"
   },
   "source": [
    "As you see, you can create multiple variables at the same time within a single `mutate` command, by separating them with commas. It's best practice to start each new variable on a new line to maintain readability."
   ]
  },
  {
   "cell_type": "markdown",
   "metadata": {
    "id": "qHYA9eW30ZAV"
   },
   "source": [
    "## `summarise()`: Summarize variables"
   ]
  },
  {
   "cell_type": "markdown",
   "metadata": {
    "id": "_eO-11nr0ZAV"
   },
   "source": [
    "`Mutate()` creates new variables within the existing dataset and does not change the number of rows. You might also want to calculate statistics that summarize the whole data set. In the example above I calculated how many flowers were measured total (`n_flowers`) - but it doesn't really make sense to output this as a variable with entries for every observation. If you want to create a new data.frame in which you store the summary values for one or more variables, you can use the `summarise()` command. \n",
    "\n",
    "Let's get summaries for a few of the existing variables:"
   ]
  },
  {
   "cell_type": "code",
   "execution_count": 149,
   "metadata": {
    "colab": {
     "base_uri": "https://localhost:8080/",
     "height": 100
    },
    "executionInfo": {
     "elapsed": 2421,
     "status": "ok",
     "timestamp": 1611095670273,
     "user": {
      "displayName": "Patience Stevens",
      "photoUrl": "https://lh3.googleusercontent.com/a-/AOh14Gi-_9ZqhIFhAv1oMehJNvNuIKSTyrFQHzjxQKhx=s64",
      "userId": "01994571539255174942"
     },
     "user_tz": 300
    },
    "id": "n02qoPTD0ZAV",
    "outputId": "1972d1e1-bd88-46a1-8063-0cc7325ad6f2"
   },
   "outputs": [
    {
     "data": {
      "text/html": [
       "<table class=\"dataframe\">\n",
       "<caption>A data.frame: 1 × 6</caption>\n",
       "<thead>\n",
       "\t<tr><th scope=col>n_flowers</th><th scope=col>shortSepal_prop</th><th scope=col>setosa_prop</th><th scope=col>SepLen_mean</th><th scope=col>SepLen_sd</th><th scope=col>SepLen_se</th></tr>\n",
       "\t<tr><th scope=col>&lt;int&gt;</th><th scope=col>&lt;dbl&gt;</th><th scope=col>&lt;dbl&gt;</th><th scope=col>&lt;dbl&gt;</th><th scope=col>&lt;dbl&gt;</th><th scope=col>&lt;dbl&gt;</th></tr>\n",
       "</thead>\n",
       "<tbody>\n",
       "\t<tr><td>150</td><td>0.5333333</td><td>0.3333333</td><td>5.843333</td><td>0.8280661</td><td>0.06761132</td></tr>\n",
       "</tbody>\n",
       "</table>\n"
      ],
      "text/latex": [
       "A data.frame: 1 × 6\n",
       "\\begin{tabular}{llllll}\n",
       " n\\_flowers & shortSepal\\_prop & setosa\\_prop & SepLen\\_mean & SepLen\\_sd & SepLen\\_se\\\\\n",
       " <int> & <dbl> & <dbl> & <dbl> & <dbl> & <dbl>\\\\\n",
       "\\hline\n",
       "\t 150 & 0.5333333 & 0.3333333 & 5.843333 & 0.8280661 & 0.06761132\\\\\n",
       "\\end{tabular}\n"
      ],
      "text/markdown": [
       "\n",
       "A data.frame: 1 × 6\n",
       "\n",
       "| n_flowers &lt;int&gt; | shortSepal_prop &lt;dbl&gt; | setosa_prop &lt;dbl&gt; | SepLen_mean &lt;dbl&gt; | SepLen_sd &lt;dbl&gt; | SepLen_se &lt;dbl&gt; |\n",
       "|---|---|---|---|---|---|\n",
       "| 150 | 0.5333333 | 0.3333333 | 5.843333 | 0.8280661 | 0.06761132 |\n",
       "\n"
      ],
      "text/plain": [
       "  n_flowers shortSepal_prop setosa_prop SepLen_mean SepLen_sd SepLen_se \n",
       "1 150       0.5333333       0.3333333   5.843333    0.8280661 0.06761132"
      ]
     },
     "metadata": {},
     "output_type": "display_data"
    }
   ],
   "source": [
    "smry <- dat  %>% #creating new smry object\n",
    "    summarise(n_flowers = length(Species), #how many observations (flowers) are there total? \n",
    "              shortSepal_prop = mean(centered_SepLen < 0), #what prop. have smaller-than-average sepal length?\n",
    "              setosa_prop = mean(Species == 'setosa'), #what prop. of measured flowers are species Setosa?\n",
    "              SepLen_mean = mean(Sepal.Length), #mean sepal length\n",
    "              SepLen_sd = sd(Sepal.Length), #standard deviation of sepal length\n",
    "              SepLen_se = SepLen_sd / sqrt(n_flowers)\n",
    "              )\n",
    "smry"
   ]
  },
  {
   "cell_type": "markdown",
   "metadata": {
    "id": "SYCurmYK0ZAW"
   },
   "source": [
    "Notice that when you get to a new row, you can refer to a variable you have already created on a previous row. (The same is true in `mutate`.) For example, when we calculate the standard error for `Sepal.Length`, we have put `SepLen_se = SepLen_sd / sqrt(n_flowers)`, in which SepLen_sd and n_flowers do not exist in the original data.frame, but are variables that we created on previous rows. We could have written it directly as `SepLen_se = sd(Sepal.Length) / sqrt(length(Species))`, but doing it in the above way is more efficient and readable."
   ]
  },
  {
   "cell_type": "markdown",
   "metadata": {
    "id": "UHrvl9A10ZAW"
   },
   "source": [
    "## `filter()`: Filter rows based on a condition"
   ]
  },
  {
   "cell_type": "markdown",
   "metadata": {
    "id": "64Fl2ALU0ZAX"
   },
   "source": [
    "Here are three scenarios:\n",
    "* you find that there was an error with data collection for one species of flower (e.g. setosa) and you want to remove it from the data.frame\n",
    "* you find out that some flowers have a negative `Sepal.Length` value, which is an error, and you want to remove them\n",
    "* you want to separate the data for the remaining two species into separate datasets\n",
    "\n",
    "You can do all of these things with the **`filter`** command, which uses a logical argument to identify subsets of rows (observations). Rows for which the logical is TRUE will be retained in the data frame, and all others will be removed:"
   ]
  },
  {
   "cell_type": "code",
   "execution_count": 150,
   "metadata": {
    "colab": {
     "base_uri": "https://localhost:8080/",
     "height": 605
    },
    "executionInfo": {
     "elapsed": 2407,
     "status": "ok",
     "timestamp": 1611095670275,
     "user": {
      "displayName": "Patience Stevens",
      "photoUrl": "https://lh3.googleusercontent.com/a-/AOh14Gi-_9ZqhIFhAv1oMehJNvNuIKSTyrFQHzjxQKhx=s64",
      "userId": "01994571539255174942"
     },
     "user_tz": 300
    },
    "id": "OzlTsEOE0ZAX",
    "outputId": "fc088bc2-f2af-41cc-cb64-287321e215c8"
   },
   "outputs": [
    {
     "name": "stdout",
     "output_type": "stream",
     "text": [
      "[1] \"species options: setosa, versicolor, virginica\"\n"
     ]
    },
    {
     "data": {
      "text/html": [
       "<table class=\"dataframe\">\n",
       "<caption>A data.frame: 6 × 8</caption>\n",
       "<thead>\n",
       "\t<tr><th></th><th scope=col>Sepal.Length</th><th scope=col>Sepal.Width</th><th scope=col>Petal.Length</th><th scope=col>Petal.Width</th><th scope=col>Species</th><th scope=col>centered_SepLen</th><th scope=col>PetLen_zscores</th><th scope=col>n_flowers</th></tr>\n",
       "\t<tr><th></th><th scope=col>&lt;dbl&gt;</th><th scope=col>&lt;dbl&gt;</th><th scope=col>&lt;dbl&gt;</th><th scope=col>&lt;dbl&gt;</th><th scope=col>&lt;fct&gt;</th><th scope=col>&lt;dbl&gt;</th><th scope=col>&lt;dbl&gt;</th><th scope=col>&lt;int&gt;</th></tr>\n",
       "</thead>\n",
       "<tbody>\n",
       "\t<tr><th scope=row>1</th><td>7.0</td><td>3.2</td><td>4.7</td><td>1.4</td><td>versicolor</td><td> 1.1566667</td><td>0.5336209</td><td>150</td></tr>\n",
       "\t<tr><th scope=row>2</th><td>6.4</td><td>3.2</td><td>4.5</td><td>1.5</td><td>versicolor</td><td> 0.5566667</td><td>0.4203256</td><td>150</td></tr>\n",
       "\t<tr><th scope=row>3</th><td>6.9</td><td>3.1</td><td>4.9</td><td>1.5</td><td>versicolor</td><td> 1.0566667</td><td>0.6469162</td><td>150</td></tr>\n",
       "\t<tr><th scope=row>4</th><td>5.5</td><td>2.3</td><td>4.0</td><td>1.3</td><td>versicolor</td><td>-0.3433333</td><td>0.1370873</td><td>150</td></tr>\n",
       "\t<tr><th scope=row>5</th><td>6.5</td><td>2.8</td><td>4.6</td><td>1.5</td><td>versicolor</td><td> 0.6566667</td><td>0.4769732</td><td>150</td></tr>\n",
       "\t<tr><th scope=row>6</th><td>5.7</td><td>2.8</td><td>4.5</td><td>1.3</td><td>versicolor</td><td>-0.1433333</td><td>0.4203256</td><td>150</td></tr>\n",
       "</tbody>\n",
       "</table>\n"
      ],
      "text/latex": [
       "A data.frame: 6 × 8\n",
       "\\begin{tabular}{r|llllllll}\n",
       "  & Sepal.Length & Sepal.Width & Petal.Length & Petal.Width & Species & centered\\_SepLen & PetLen\\_zscores & n\\_flowers\\\\\n",
       "  & <dbl> & <dbl> & <dbl> & <dbl> & <fct> & <dbl> & <dbl> & <int>\\\\\n",
       "\\hline\n",
       "\t1 & 7.0 & 3.2 & 4.7 & 1.4 & versicolor &  1.1566667 & 0.5336209 & 150\\\\\n",
       "\t2 & 6.4 & 3.2 & 4.5 & 1.5 & versicolor &  0.5566667 & 0.4203256 & 150\\\\\n",
       "\t3 & 6.9 & 3.1 & 4.9 & 1.5 & versicolor &  1.0566667 & 0.6469162 & 150\\\\\n",
       "\t4 & 5.5 & 2.3 & 4.0 & 1.3 & versicolor & -0.3433333 & 0.1370873 & 150\\\\\n",
       "\t5 & 6.5 & 2.8 & 4.6 & 1.5 & versicolor &  0.6566667 & 0.4769732 & 150\\\\\n",
       "\t6 & 5.7 & 2.8 & 4.5 & 1.3 & versicolor & -0.1433333 & 0.4203256 & 150\\\\\n",
       "\\end{tabular}\n"
      ],
      "text/markdown": [
       "\n",
       "A data.frame: 6 × 8\n",
       "\n",
       "| <!--/--> | Sepal.Length &lt;dbl&gt; | Sepal.Width &lt;dbl&gt; | Petal.Length &lt;dbl&gt; | Petal.Width &lt;dbl&gt; | Species &lt;fct&gt; | centered_SepLen &lt;dbl&gt; | PetLen_zscores &lt;dbl&gt; | n_flowers &lt;int&gt; |\n",
       "|---|---|---|---|---|---|---|---|---|\n",
       "| 1 | 7.0 | 3.2 | 4.7 | 1.4 | versicolor |  1.1566667 | 0.5336209 | 150 |\n",
       "| 2 | 6.4 | 3.2 | 4.5 | 1.5 | versicolor |  0.5566667 | 0.4203256 | 150 |\n",
       "| 3 | 6.9 | 3.1 | 4.9 | 1.5 | versicolor |  1.0566667 | 0.6469162 | 150 |\n",
       "| 4 | 5.5 | 2.3 | 4.0 | 1.3 | versicolor | -0.3433333 | 0.1370873 | 150 |\n",
       "| 5 | 6.5 | 2.8 | 4.6 | 1.5 | versicolor |  0.6566667 | 0.4769732 | 150 |\n",
       "| 6 | 5.7 | 2.8 | 4.5 | 1.3 | versicolor | -0.1433333 | 0.4203256 | 150 |\n",
       "\n"
      ],
      "text/plain": [
       "  Sepal.Length Sepal.Width Petal.Length Petal.Width Species    centered_SepLen\n",
       "1 7.0          3.2         4.7          1.4         versicolor  1.1566667     \n",
       "2 6.4          3.2         4.5          1.5         versicolor  0.5566667     \n",
       "3 6.9          3.1         4.9          1.5         versicolor  1.0566667     \n",
       "4 5.5          2.3         4.0          1.3         versicolor -0.3433333     \n",
       "5 6.5          2.8         4.6          1.5         versicolor  0.6566667     \n",
       "6 5.7          2.8         4.5          1.3         versicolor -0.1433333     \n",
       "  PetLen_zscores n_flowers\n",
       "1 0.5336209      150      \n",
       "2 0.4203256      150      \n",
       "3 0.6469162      150      \n",
       "4 0.1370873      150      \n",
       "5 0.4769732      150      \n",
       "6 0.4203256      150      "
      ]
     },
     "metadata": {},
     "output_type": "display_data"
    },
    {
     "data": {
      "text/html": [
       "<table class=\"dataframe\">\n",
       "<caption>A data.frame: 6 × 8</caption>\n",
       "<thead>\n",
       "\t<tr><th></th><th scope=col>Sepal.Length</th><th scope=col>Sepal.Width</th><th scope=col>Petal.Length</th><th scope=col>Petal.Width</th><th scope=col>Species</th><th scope=col>centered_SepLen</th><th scope=col>PetLen_zscores</th><th scope=col>n_flowers</th></tr>\n",
       "\t<tr><th></th><th scope=col>&lt;dbl&gt;</th><th scope=col>&lt;dbl&gt;</th><th scope=col>&lt;dbl&gt;</th><th scope=col>&lt;dbl&gt;</th><th scope=col>&lt;fct&gt;</th><th scope=col>&lt;dbl&gt;</th><th scope=col>&lt;dbl&gt;</th><th scope=col>&lt;int&gt;</th></tr>\n",
       "</thead>\n",
       "<tbody>\n",
       "\t<tr><th scope=row>1</th><td>7.0</td><td>3.2</td><td>4.7</td><td>1.4</td><td>versicolor</td><td> 1.1566667</td><td>0.5336209</td><td>150</td></tr>\n",
       "\t<tr><th scope=row>2</th><td>6.4</td><td>3.2</td><td>4.5</td><td>1.5</td><td>versicolor</td><td> 0.5566667</td><td>0.4203256</td><td>150</td></tr>\n",
       "\t<tr><th scope=row>3</th><td>6.9</td><td>3.1</td><td>4.9</td><td>1.5</td><td>versicolor</td><td> 1.0566667</td><td>0.6469162</td><td>150</td></tr>\n",
       "\t<tr><th scope=row>4</th><td>5.5</td><td>2.3</td><td>4.0</td><td>1.3</td><td>versicolor</td><td>-0.3433333</td><td>0.1370873</td><td>150</td></tr>\n",
       "\t<tr><th scope=row>5</th><td>6.5</td><td>2.8</td><td>4.6</td><td>1.5</td><td>versicolor</td><td> 0.6566667</td><td>0.4769732</td><td>150</td></tr>\n",
       "\t<tr><th scope=row>6</th><td>5.7</td><td>2.8</td><td>4.5</td><td>1.3</td><td>versicolor</td><td>-0.1433333</td><td>0.4203256</td><td>150</td></tr>\n",
       "</tbody>\n",
       "</table>\n"
      ],
      "text/latex": [
       "A data.frame: 6 × 8\n",
       "\\begin{tabular}{r|llllllll}\n",
       "  & Sepal.Length & Sepal.Width & Petal.Length & Petal.Width & Species & centered\\_SepLen & PetLen\\_zscores & n\\_flowers\\\\\n",
       "  & <dbl> & <dbl> & <dbl> & <dbl> & <fct> & <dbl> & <dbl> & <int>\\\\\n",
       "\\hline\n",
       "\t1 & 7.0 & 3.2 & 4.7 & 1.4 & versicolor &  1.1566667 & 0.5336209 & 150\\\\\n",
       "\t2 & 6.4 & 3.2 & 4.5 & 1.5 & versicolor &  0.5566667 & 0.4203256 & 150\\\\\n",
       "\t3 & 6.9 & 3.1 & 4.9 & 1.5 & versicolor &  1.0566667 & 0.6469162 & 150\\\\\n",
       "\t4 & 5.5 & 2.3 & 4.0 & 1.3 & versicolor & -0.3433333 & 0.1370873 & 150\\\\\n",
       "\t5 & 6.5 & 2.8 & 4.6 & 1.5 & versicolor &  0.6566667 & 0.4769732 & 150\\\\\n",
       "\t6 & 5.7 & 2.8 & 4.5 & 1.3 & versicolor & -0.1433333 & 0.4203256 & 150\\\\\n",
       "\\end{tabular}\n"
      ],
      "text/markdown": [
       "\n",
       "A data.frame: 6 × 8\n",
       "\n",
       "| <!--/--> | Sepal.Length &lt;dbl&gt; | Sepal.Width &lt;dbl&gt; | Petal.Length &lt;dbl&gt; | Petal.Width &lt;dbl&gt; | Species &lt;fct&gt; | centered_SepLen &lt;dbl&gt; | PetLen_zscores &lt;dbl&gt; | n_flowers &lt;int&gt; |\n",
       "|---|---|---|---|---|---|---|---|---|\n",
       "| 1 | 7.0 | 3.2 | 4.7 | 1.4 | versicolor |  1.1566667 | 0.5336209 | 150 |\n",
       "| 2 | 6.4 | 3.2 | 4.5 | 1.5 | versicolor |  0.5566667 | 0.4203256 | 150 |\n",
       "| 3 | 6.9 | 3.1 | 4.9 | 1.5 | versicolor |  1.0566667 | 0.6469162 | 150 |\n",
       "| 4 | 5.5 | 2.3 | 4.0 | 1.3 | versicolor | -0.3433333 | 0.1370873 | 150 |\n",
       "| 5 | 6.5 | 2.8 | 4.6 | 1.5 | versicolor |  0.6566667 | 0.4769732 | 150 |\n",
       "| 6 | 5.7 | 2.8 | 4.5 | 1.3 | versicolor | -0.1433333 | 0.4203256 | 150 |\n",
       "\n"
      ],
      "text/plain": [
       "  Sepal.Length Sepal.Width Petal.Length Petal.Width Species    centered_SepLen\n",
       "1 7.0          3.2         4.7          1.4         versicolor  1.1566667     \n",
       "2 6.4          3.2         4.5          1.5         versicolor  0.5566667     \n",
       "3 6.9          3.1         4.9          1.5         versicolor  1.0566667     \n",
       "4 5.5          2.3         4.0          1.3         versicolor -0.3433333     \n",
       "5 6.5          2.8         4.6          1.5         versicolor  0.6566667     \n",
       "6 5.7          2.8         4.5          1.3         versicolor -0.1433333     \n",
       "  PetLen_zscores n_flowers\n",
       "1 0.5336209      150      \n",
       "2 0.4203256      150      \n",
       "3 0.6469162      150      \n",
       "4 0.1370873      150      \n",
       "5 0.4769732      150      \n",
       "6 0.4203256      150      "
      ]
     },
     "metadata": {},
     "output_type": "display_data"
    },
    {
     "data": {
      "text/html": [
       "<table class=\"dataframe\">\n",
       "<caption>A data.frame: 6 × 8</caption>\n",
       "<thead>\n",
       "\t<tr><th></th><th scope=col>Sepal.Length</th><th scope=col>Sepal.Width</th><th scope=col>Petal.Length</th><th scope=col>Petal.Width</th><th scope=col>Species</th><th scope=col>centered_SepLen</th><th scope=col>PetLen_zscores</th><th scope=col>n_flowers</th></tr>\n",
       "\t<tr><th></th><th scope=col>&lt;dbl&gt;</th><th scope=col>&lt;dbl&gt;</th><th scope=col>&lt;dbl&gt;</th><th scope=col>&lt;dbl&gt;</th><th scope=col>&lt;fct&gt;</th><th scope=col>&lt;dbl&gt;</th><th scope=col>&lt;dbl&gt;</th><th scope=col>&lt;int&gt;</th></tr>\n",
       "</thead>\n",
       "<tbody>\n",
       "\t<tr><th scope=row>1</th><td>6.3</td><td>3.3</td><td>6.0</td><td>2.5</td><td>virginica</td><td> 0.45666667</td><td>1.2700404</td><td>150</td></tr>\n",
       "\t<tr><th scope=row>2</th><td>5.8</td><td>2.7</td><td>5.1</td><td>1.9</td><td>virginica</td><td>-0.04333333</td><td>0.7602115</td><td>150</td></tr>\n",
       "\t<tr><th scope=row>3</th><td>7.1</td><td>3.0</td><td>5.9</td><td>2.1</td><td>virginica</td><td> 1.25666667</td><td>1.2133927</td><td>150</td></tr>\n",
       "\t<tr><th scope=row>4</th><td>6.3</td><td>2.9</td><td>5.6</td><td>1.8</td><td>virginica</td><td> 0.45666667</td><td>1.0434497</td><td>150</td></tr>\n",
       "\t<tr><th scope=row>5</th><td>6.5</td><td>3.0</td><td>5.8</td><td>2.2</td><td>virginica</td><td> 0.65666667</td><td>1.1567451</td><td>150</td></tr>\n",
       "\t<tr><th scope=row>6</th><td>7.6</td><td>3.0</td><td>6.6</td><td>2.1</td><td>virginica</td><td> 1.75666667</td><td>1.6099263</td><td>150</td></tr>\n",
       "</tbody>\n",
       "</table>\n"
      ],
      "text/latex": [
       "A data.frame: 6 × 8\n",
       "\\begin{tabular}{r|llllllll}\n",
       "  & Sepal.Length & Sepal.Width & Petal.Length & Petal.Width & Species & centered\\_SepLen & PetLen\\_zscores & n\\_flowers\\\\\n",
       "  & <dbl> & <dbl> & <dbl> & <dbl> & <fct> & <dbl> & <dbl> & <int>\\\\\n",
       "\\hline\n",
       "\t1 & 6.3 & 3.3 & 6.0 & 2.5 & virginica &  0.45666667 & 1.2700404 & 150\\\\\n",
       "\t2 & 5.8 & 2.7 & 5.1 & 1.9 & virginica & -0.04333333 & 0.7602115 & 150\\\\\n",
       "\t3 & 7.1 & 3.0 & 5.9 & 2.1 & virginica &  1.25666667 & 1.2133927 & 150\\\\\n",
       "\t4 & 6.3 & 2.9 & 5.6 & 1.8 & virginica &  0.45666667 & 1.0434497 & 150\\\\\n",
       "\t5 & 6.5 & 3.0 & 5.8 & 2.2 & virginica &  0.65666667 & 1.1567451 & 150\\\\\n",
       "\t6 & 7.6 & 3.0 & 6.6 & 2.1 & virginica &  1.75666667 & 1.6099263 & 150\\\\\n",
       "\\end{tabular}\n"
      ],
      "text/markdown": [
       "\n",
       "A data.frame: 6 × 8\n",
       "\n",
       "| <!--/--> | Sepal.Length &lt;dbl&gt; | Sepal.Width &lt;dbl&gt; | Petal.Length &lt;dbl&gt; | Petal.Width &lt;dbl&gt; | Species &lt;fct&gt; | centered_SepLen &lt;dbl&gt; | PetLen_zscores &lt;dbl&gt; | n_flowers &lt;int&gt; |\n",
       "|---|---|---|---|---|---|---|---|---|\n",
       "| 1 | 6.3 | 3.3 | 6.0 | 2.5 | virginica |  0.45666667 | 1.2700404 | 150 |\n",
       "| 2 | 5.8 | 2.7 | 5.1 | 1.9 | virginica | -0.04333333 | 0.7602115 | 150 |\n",
       "| 3 | 7.1 | 3.0 | 5.9 | 2.1 | virginica |  1.25666667 | 1.2133927 | 150 |\n",
       "| 4 | 6.3 | 2.9 | 5.6 | 1.8 | virginica |  0.45666667 | 1.0434497 | 150 |\n",
       "| 5 | 6.5 | 3.0 | 5.8 | 2.2 | virginica |  0.65666667 | 1.1567451 | 150 |\n",
       "| 6 | 7.6 | 3.0 | 6.6 | 2.1 | virginica |  1.75666667 | 1.6099263 | 150 |\n",
       "\n"
      ],
      "text/plain": [
       "  Sepal.Length Sepal.Width Petal.Length Petal.Width Species   centered_SepLen\n",
       "1 6.3          3.3         6.0          2.5         virginica  0.45666667    \n",
       "2 5.8          2.7         5.1          1.9         virginica -0.04333333    \n",
       "3 7.1          3.0         5.9          2.1         virginica  1.25666667    \n",
       "4 6.3          2.9         5.6          1.8         virginica  0.45666667    \n",
       "5 6.5          3.0         5.8          2.2         virginica  0.65666667    \n",
       "6 7.6          3.0         6.6          2.1         virginica  1.75666667    \n",
       "  PetLen_zscores n_flowers\n",
       "1 1.2700404      150      \n",
       "2 0.7602115      150      \n",
       "3 1.2133927      150      \n",
       "4 1.0434497      150      \n",
       "5 1.1567451      150      \n",
       "6 1.6099263      150      "
      ]
     },
     "metadata": {},
     "output_type": "display_data"
    }
   ],
   "source": [
    "print(paste('species options:',paste(levels(dat$Species),collapse=\", \")))\n",
    "\n",
    "# get rid of all setosa flowers and any flowers with negative sepal lengths\n",
    "cleaned_dat <- dat  %>% \n",
    "    filter(Species != 'setosa', #!= is read \"not equal to\"\n",
    "           Sepal.Length >= 0)\n",
    "\n",
    "# make new data.frames for the remaining two species\n",
    "versi.dat <- filter(cleaned_dat, Species == 'versicolor')\n",
    "virgi.dat <- filter(cleaned_dat, Species == 'virginica')\n",
    "\n",
    "# look at first six rows of all three data.frames\n",
    "head(cleaned_dat); head(versi.dat); head(virgi.dat)"
   ]
  },
  {
   "cell_type": "markdown",
   "metadata": {
    "id": "BWZJWEG00ZAX"
   },
   "source": [
    "Here's where the pipe becomes useful. Let's say you want to calculate the summaries we described above separately for the versicolor and virginica species. I will show you later how to do it more efficiently, but for the moment we can illustrate how you can chain commands with pipes. Rather than creating the intermediate `versi.dat` and `virgi.dat` dataframes, we can chain the `summarise` function after the `filter` function. In the example below, we pass `dat` as the first argument of `filter`, then specify to keep only versicolor flowers, and then the resulting data.frame is passed on as the first argument to `summarise`:"
   ]
  },
  {
   "cell_type": "code",
   "execution_count": 151,
   "metadata": {
    "colab": {
     "base_uri": "https://localhost:8080/",
     "height": 184
    },
    "executionInfo": {
     "elapsed": 2393,
     "status": "ok",
     "timestamp": 1611095670277,
     "user": {
      "displayName": "Patience Stevens",
      "photoUrl": "https://lh3.googleusercontent.com/a-/AOh14Gi-_9ZqhIFhAv1oMehJNvNuIKSTyrFQHzjxQKhx=s64",
      "userId": "01994571539255174942"
     },
     "user_tz": 300
    },
    "id": "j0O40e7G0ZAX",
    "outputId": "664550ec-c2ee-4d0d-d9e3-db5137204fb8"
   },
   "outputs": [
    {
     "data": {
      "text/html": [
       "<table class=\"dataframe\">\n",
       "<caption>A data.frame: 1 × 2</caption>\n",
       "<thead>\n",
       "\t<tr><th scope=col>SepLen_mean</th><th scope=col>SepLen_sd</th></tr>\n",
       "\t<tr><th scope=col>&lt;dbl&gt;</th><th scope=col>&lt;dbl&gt;</th></tr>\n",
       "</thead>\n",
       "<tbody>\n",
       "\t<tr><td>5.936</td><td>0.5161711</td></tr>\n",
       "</tbody>\n",
       "</table>\n"
      ],
      "text/latex": [
       "A data.frame: 1 × 2\n",
       "\\begin{tabular}{ll}\n",
       " SepLen\\_mean & SepLen\\_sd\\\\\n",
       " <dbl> & <dbl>\\\\\n",
       "\\hline\n",
       "\t 5.936 & 0.5161711\\\\\n",
       "\\end{tabular}\n"
      ],
      "text/markdown": [
       "\n",
       "A data.frame: 1 × 2\n",
       "\n",
       "| SepLen_mean &lt;dbl&gt; | SepLen_sd &lt;dbl&gt; |\n",
       "|---|---|\n",
       "| 5.936 | 0.5161711 |\n",
       "\n"
      ],
      "text/plain": [
       "  SepLen_mean SepLen_sd\n",
       "1 5.936       0.5161711"
      ]
     },
     "metadata": {},
     "output_type": "display_data"
    },
    {
     "data": {
      "text/html": [
       "<table class=\"dataframe\">\n",
       "<caption>A data.frame: 1 × 2</caption>\n",
       "<thead>\n",
       "\t<tr><th scope=col>SepLen_mean</th><th scope=col>SepLen_sd</th></tr>\n",
       "\t<tr><th scope=col>&lt;dbl&gt;</th><th scope=col>&lt;dbl&gt;</th></tr>\n",
       "</thead>\n",
       "<tbody>\n",
       "\t<tr><td>6.588</td><td>0.6358796</td></tr>\n",
       "</tbody>\n",
       "</table>\n"
      ],
      "text/latex": [
       "A data.frame: 1 × 2\n",
       "\\begin{tabular}{ll}\n",
       " SepLen\\_mean & SepLen\\_sd\\\\\n",
       " <dbl> & <dbl>\\\\\n",
       "\\hline\n",
       "\t 6.588 & 0.6358796\\\\\n",
       "\\end{tabular}\n"
      ],
      "text/markdown": [
       "\n",
       "A data.frame: 1 × 2\n",
       "\n",
       "| SepLen_mean &lt;dbl&gt; | SepLen_sd &lt;dbl&gt; |\n",
       "|---|---|\n",
       "| 6.588 | 0.6358796 |\n",
       "\n"
      ],
      "text/plain": [
       "  SepLen_mean SepLen_sd\n",
       "1 6.588       0.6358796"
      ]
     },
     "metadata": {},
     "output_type": "display_data"
    }
   ],
   "source": [
    "# calculate summarise for versicolor species\n",
    "dat  %>% \n",
    " filter(Species == 'versicolor')  %>% \n",
    " summarise(SepLen_mean = mean(Sepal.Length),\n",
    "           SepLen_sd = sd(Sepal.Length))\n",
    "\n",
    "# calculate summarise for virginica species\n",
    "dat  %>% \n",
    " filter(Species == 'virginica')  %>% \n",
    " summarise(SepLen_mean = mean(Sepal.Length),\n",
    "           SepLen_sd = sd(Sepal.Length))"
   ]
  },
  {
   "cell_type": "markdown",
   "metadata": {
    "id": "iXCX5F7r0ZAY"
   },
   "source": [
    "**_TIP_**: it is very easy to remove missing values by using the `!is.na(variable)` command. E.g. if some flowers are missing petal length measurements, you can exclude them by doing **`filter(dat, !is.na(Petal.Length))`**"
   ]
  },
  {
   "cell_type": "markdown",
   "metadata": {
    "id": "QOP2juim0ZAY"
   },
   "source": [
    "## `select()`: Select columns to keep/remove"
   ]
  },
  {
   "cell_type": "markdown",
   "metadata": {
    "id": "3hSuLskc0ZAY"
   },
   "source": [
    "Often the dataset contains many irrelevant columns that make it difficult to display the dataframe all at once. You can easily choose which columns to keep or remove in a data.frame with the **`select()`** command. It has complex usage, and I suggest checking the help, i.e. type `?select`. However, the basic usage is as follows: "
   ]
  },
  {
   "cell_type": "code",
   "execution_count": 153,
   "metadata": {
    "colab": {
     "base_uri": "https://localhost:8080/",
     "height": 207
    },
    "executionInfo": {
     "elapsed": 2378,
     "status": "ok",
     "timestamp": 1611095670278,
     "user": {
      "displayName": "Patience Stevens",
      "photoUrl": "https://lh3.googleusercontent.com/a-/AOh14Gi-_9ZqhIFhAv1oMehJNvNuIKSTyrFQHzjxQKhx=s64",
      "userId": "01994571539255174942"
     },
     "user_tz": 300
    },
    "id": "6HO_umTi0ZAY",
    "outputId": "b7906442-4aa0-4648-f8fe-ab703e465bd7"
   },
   "outputs": [
    {
     "data": {
      "text/html": [
       "<table class=\"dataframe\">\n",
       "<caption>A data.frame: 6 × 3</caption>\n",
       "<thead>\n",
       "\t<tr><th></th><th scope=col>Species</th><th scope=col>Petal.Length</th><th scope=col>Petal.Width</th></tr>\n",
       "\t<tr><th></th><th scope=col>&lt;fct&gt;</th><th scope=col>&lt;dbl&gt;</th><th scope=col>&lt;dbl&gt;</th></tr>\n",
       "</thead>\n",
       "<tbody>\n",
       "\t<tr><th scope=row>1</th><td>setosa</td><td>1.4</td><td>0.2</td></tr>\n",
       "\t<tr><th scope=row>2</th><td>setosa</td><td>1.4</td><td>0.2</td></tr>\n",
       "\t<tr><th scope=row>3</th><td>setosa</td><td>1.3</td><td>0.2</td></tr>\n",
       "\t<tr><th scope=row>4</th><td>setosa</td><td>1.5</td><td>0.2</td></tr>\n",
       "\t<tr><th scope=row>5</th><td>setosa</td><td>1.4</td><td>0.2</td></tr>\n",
       "\t<tr><th scope=row>6</th><td>setosa</td><td>1.7</td><td>0.4</td></tr>\n",
       "</tbody>\n",
       "</table>\n"
      ],
      "text/latex": [
       "A data.frame: 6 × 3\n",
       "\\begin{tabular}{r|lll}\n",
       "  & Species & Petal.Length & Petal.Width\\\\\n",
       "  & <fct> & <dbl> & <dbl>\\\\\n",
       "\\hline\n",
       "\t1 & setosa & 1.4 & 0.2\\\\\n",
       "\t2 & setosa & 1.4 & 0.2\\\\\n",
       "\t3 & setosa & 1.3 & 0.2\\\\\n",
       "\t4 & setosa & 1.5 & 0.2\\\\\n",
       "\t5 & setosa & 1.4 & 0.2\\\\\n",
       "\t6 & setosa & 1.7 & 0.4\\\\\n",
       "\\end{tabular}\n"
      ],
      "text/markdown": [
       "\n",
       "A data.frame: 6 × 3\n",
       "\n",
       "| <!--/--> | Species &lt;fct&gt; | Petal.Length &lt;dbl&gt; | Petal.Width &lt;dbl&gt; |\n",
       "|---|---|---|---|\n",
       "| 1 | setosa | 1.4 | 0.2 |\n",
       "| 2 | setosa | 1.4 | 0.2 |\n",
       "| 3 | setosa | 1.3 | 0.2 |\n",
       "| 4 | setosa | 1.5 | 0.2 |\n",
       "| 5 | setosa | 1.4 | 0.2 |\n",
       "| 6 | setosa | 1.7 | 0.4 |\n",
       "\n"
      ],
      "text/plain": [
       "  Species Petal.Length Petal.Width\n",
       "1 setosa  1.4          0.2        \n",
       "2 setosa  1.4          0.2        \n",
       "3 setosa  1.3          0.2        \n",
       "4 setosa  1.5          0.2        \n",
       "5 setosa  1.4          0.2        \n",
       "6 setosa  1.7          0.4        "
      ]
     },
     "metadata": {},
     "output_type": "display_data"
    }
   ],
   "source": [
    "dat  %>% \n",
    "    select(Species, Petal.Length, Petal.Width) %>%\n",
    "    head() "
   ]
  },
  {
   "cell_type": "markdown",
   "metadata": {
    "id": "WZLNn4id0ZAY"
   },
   "source": [
    "If you want to **remove** only specific variables, list each with a **-** sign:"
   ]
  },
  {
   "cell_type": "code",
   "execution_count": 154,
   "metadata": {
    "colab": {
     "base_uri": "https://localhost:8080/",
     "height": 207
    },
    "executionInfo": {
     "elapsed": 2633,
     "status": "ok",
     "timestamp": 1611095670548,
     "user": {
      "displayName": "Patience Stevens",
      "photoUrl": "https://lh3.googleusercontent.com/a-/AOh14Gi-_9ZqhIFhAv1oMehJNvNuIKSTyrFQHzjxQKhx=s64",
      "userId": "01994571539255174942"
     },
     "user_tz": 300
    },
    "id": "uPkomyI90ZAY",
    "outputId": "6ab1967f-d88d-4dae-9e23-d8c46c7b62e3"
   },
   "outputs": [
    {
     "data": {
      "text/html": [
       "<table class=\"dataframe\">\n",
       "<caption>A data.frame: 6 × 6</caption>\n",
       "<thead>\n",
       "\t<tr><th></th><th scope=col>Sepal.Length</th><th scope=col>Sepal.Width</th><th scope=col>Species</th><th scope=col>centered_SepLen</th><th scope=col>PetLen_zscores</th><th scope=col>n_flowers</th></tr>\n",
       "\t<tr><th></th><th scope=col>&lt;dbl&gt;</th><th scope=col>&lt;dbl&gt;</th><th scope=col>&lt;fct&gt;</th><th scope=col>&lt;dbl&gt;</th><th scope=col>&lt;dbl&gt;</th><th scope=col>&lt;int&gt;</th></tr>\n",
       "</thead>\n",
       "<tbody>\n",
       "\t<tr><th scope=row>1</th><td>5.1</td><td>3.5</td><td>setosa</td><td>-0.7433333</td><td>-1.335752</td><td>150</td></tr>\n",
       "\t<tr><th scope=row>2</th><td>4.9</td><td>3.0</td><td>setosa</td><td>-0.9433333</td><td>-1.335752</td><td>150</td></tr>\n",
       "\t<tr><th scope=row>3</th><td>4.7</td><td>3.2</td><td>setosa</td><td>-1.1433333</td><td>-1.392399</td><td>150</td></tr>\n",
       "\t<tr><th scope=row>4</th><td>4.6</td><td>3.1</td><td>setosa</td><td>-1.2433333</td><td>-1.279104</td><td>150</td></tr>\n",
       "\t<tr><th scope=row>5</th><td>5.0</td><td>3.6</td><td>setosa</td><td>-0.8433333</td><td>-1.335752</td><td>150</td></tr>\n",
       "\t<tr><th scope=row>6</th><td>5.4</td><td>3.9</td><td>setosa</td><td>-0.4433333</td><td>-1.165809</td><td>150</td></tr>\n",
       "</tbody>\n",
       "</table>\n"
      ],
      "text/latex": [
       "A data.frame: 6 × 6\n",
       "\\begin{tabular}{r|llllll}\n",
       "  & Sepal.Length & Sepal.Width & Species & centered\\_SepLen & PetLen\\_zscores & n\\_flowers\\\\\n",
       "  & <dbl> & <dbl> & <fct> & <dbl> & <dbl> & <int>\\\\\n",
       "\\hline\n",
       "\t1 & 5.1 & 3.5 & setosa & -0.7433333 & -1.335752 & 150\\\\\n",
       "\t2 & 4.9 & 3.0 & setosa & -0.9433333 & -1.335752 & 150\\\\\n",
       "\t3 & 4.7 & 3.2 & setosa & -1.1433333 & -1.392399 & 150\\\\\n",
       "\t4 & 4.6 & 3.1 & setosa & -1.2433333 & -1.279104 & 150\\\\\n",
       "\t5 & 5.0 & 3.6 & setosa & -0.8433333 & -1.335752 & 150\\\\\n",
       "\t6 & 5.4 & 3.9 & setosa & -0.4433333 & -1.165809 & 150\\\\\n",
       "\\end{tabular}\n"
      ],
      "text/markdown": [
       "\n",
       "A data.frame: 6 × 6\n",
       "\n",
       "| <!--/--> | Sepal.Length &lt;dbl&gt; | Sepal.Width &lt;dbl&gt; | Species &lt;fct&gt; | centered_SepLen &lt;dbl&gt; | PetLen_zscores &lt;dbl&gt; | n_flowers &lt;int&gt; |\n",
       "|---|---|---|---|---|---|---|\n",
       "| 1 | 5.1 | 3.5 | setosa | -0.7433333 | -1.335752 | 150 |\n",
       "| 2 | 4.9 | 3.0 | setosa | -0.9433333 | -1.335752 | 150 |\n",
       "| 3 | 4.7 | 3.2 | setosa | -1.1433333 | -1.392399 | 150 |\n",
       "| 4 | 4.6 | 3.1 | setosa | -1.2433333 | -1.279104 | 150 |\n",
       "| 5 | 5.0 | 3.6 | setosa | -0.8433333 | -1.335752 | 150 |\n",
       "| 6 | 5.4 | 3.9 | setosa | -0.4433333 | -1.165809 | 150 |\n",
       "\n"
      ],
      "text/plain": [
       "  Sepal.Length Sepal.Width Species centered_SepLen PetLen_zscores n_flowers\n",
       "1 5.1          3.5         setosa  -0.7433333      -1.335752      150      \n",
       "2 4.9          3.0         setosa  -0.9433333      -1.335752      150      \n",
       "3 4.7          3.2         setosa  -1.1433333      -1.392399      150      \n",
       "4 4.6          3.1         setosa  -1.2433333      -1.279104      150      \n",
       "5 5.0          3.6         setosa  -0.8433333      -1.335752      150      \n",
       "6 5.4          3.9         setosa  -0.4433333      -1.165809      150      "
      ]
     },
     "metadata": {},
     "output_type": "display_data"
    }
   ],
   "source": [
    "#remove original petal length & width variables\n",
    "dat  %>% \n",
    "    select(-Petal.Length, -Petal.Width) %>%\n",
    "    head()  "
   ]
  },
  {
   "cell_type": "markdown",
   "metadata": {
    "id": "wYwrBSmT0ZAY"
   },
   "source": [
    "If you want to keep a sequence of variables, you can specify the first and the last using a range. Note that this will be an inclusive range, so the first and last variables will be included in your selection:"
   ]
  },
  {
   "cell_type": "code",
   "execution_count": 155,
   "metadata": {
    "colab": {
     "base_uri": "https://localhost:8080/",
     "height": 398
    },
    "executionInfo": {
     "elapsed": 2619,
     "status": "ok",
     "timestamp": 1611095670549,
     "user": {
      "displayName": "Patience Stevens",
      "photoUrl": "https://lh3.googleusercontent.com/a-/AOh14Gi-_9ZqhIFhAv1oMehJNvNuIKSTyrFQHzjxQKhx=s64",
      "userId": "01994571539255174942"
     },
     "user_tz": 300
    },
    "id": "-qC7uW7q0ZAZ",
    "outputId": "f0c5e7dd-c17b-4bea-f4e6-162da4605190"
   },
   "outputs": [
    {
     "data": {
      "text/html": [
       "<table class=\"dataframe\">\n",
       "<caption>A data.frame: 6 × 8</caption>\n",
       "<thead>\n",
       "\t<tr><th></th><th scope=col>Sepal.Length</th><th scope=col>Sepal.Width</th><th scope=col>Petal.Length</th><th scope=col>Petal.Width</th><th scope=col>Species</th><th scope=col>centered_SepLen</th><th scope=col>PetLen_zscores</th><th scope=col>n_flowers</th></tr>\n",
       "\t<tr><th></th><th scope=col>&lt;dbl&gt;</th><th scope=col>&lt;dbl&gt;</th><th scope=col>&lt;dbl&gt;</th><th scope=col>&lt;dbl&gt;</th><th scope=col>&lt;fct&gt;</th><th scope=col>&lt;dbl&gt;</th><th scope=col>&lt;dbl&gt;</th><th scope=col>&lt;int&gt;</th></tr>\n",
       "</thead>\n",
       "<tbody>\n",
       "\t<tr><th scope=row>1</th><td>5.1</td><td>3.5</td><td>1.4</td><td>0.2</td><td>setosa</td><td>-0.7433333</td><td>-1.335752</td><td>150</td></tr>\n",
       "\t<tr><th scope=row>2</th><td>4.9</td><td>3.0</td><td>1.4</td><td>0.2</td><td>setosa</td><td>-0.9433333</td><td>-1.335752</td><td>150</td></tr>\n",
       "\t<tr><th scope=row>3</th><td>4.7</td><td>3.2</td><td>1.3</td><td>0.2</td><td>setosa</td><td>-1.1433333</td><td>-1.392399</td><td>150</td></tr>\n",
       "\t<tr><th scope=row>4</th><td>4.6</td><td>3.1</td><td>1.5</td><td>0.2</td><td>setosa</td><td>-1.2433333</td><td>-1.279104</td><td>150</td></tr>\n",
       "\t<tr><th scope=row>5</th><td>5.0</td><td>3.6</td><td>1.4</td><td>0.2</td><td>setosa</td><td>-0.8433333</td><td>-1.335752</td><td>150</td></tr>\n",
       "\t<tr><th scope=row>6</th><td>5.4</td><td>3.9</td><td>1.7</td><td>0.4</td><td>setosa</td><td>-0.4433333</td><td>-1.165809</td><td>150</td></tr>\n",
       "</tbody>\n",
       "</table>\n"
      ],
      "text/latex": [
       "A data.frame: 6 × 8\n",
       "\\begin{tabular}{r|llllllll}\n",
       "  & Sepal.Length & Sepal.Width & Petal.Length & Petal.Width & Species & centered\\_SepLen & PetLen\\_zscores & n\\_flowers\\\\\n",
       "  & <dbl> & <dbl> & <dbl> & <dbl> & <fct> & <dbl> & <dbl> & <int>\\\\\n",
       "\\hline\n",
       "\t1 & 5.1 & 3.5 & 1.4 & 0.2 & setosa & -0.7433333 & -1.335752 & 150\\\\\n",
       "\t2 & 4.9 & 3.0 & 1.4 & 0.2 & setosa & -0.9433333 & -1.335752 & 150\\\\\n",
       "\t3 & 4.7 & 3.2 & 1.3 & 0.2 & setosa & -1.1433333 & -1.392399 & 150\\\\\n",
       "\t4 & 4.6 & 3.1 & 1.5 & 0.2 & setosa & -1.2433333 & -1.279104 & 150\\\\\n",
       "\t5 & 5.0 & 3.6 & 1.4 & 0.2 & setosa & -0.8433333 & -1.335752 & 150\\\\\n",
       "\t6 & 5.4 & 3.9 & 1.7 & 0.4 & setosa & -0.4433333 & -1.165809 & 150\\\\\n",
       "\\end{tabular}\n"
      ],
      "text/markdown": [
       "\n",
       "A data.frame: 6 × 8\n",
       "\n",
       "| <!--/--> | Sepal.Length &lt;dbl&gt; | Sepal.Width &lt;dbl&gt; | Petal.Length &lt;dbl&gt; | Petal.Width &lt;dbl&gt; | Species &lt;fct&gt; | centered_SepLen &lt;dbl&gt; | PetLen_zscores &lt;dbl&gt; | n_flowers &lt;int&gt; |\n",
       "|---|---|---|---|---|---|---|---|---|\n",
       "| 1 | 5.1 | 3.5 | 1.4 | 0.2 | setosa | -0.7433333 | -1.335752 | 150 |\n",
       "| 2 | 4.9 | 3.0 | 1.4 | 0.2 | setosa | -0.9433333 | -1.335752 | 150 |\n",
       "| 3 | 4.7 | 3.2 | 1.3 | 0.2 | setosa | -1.1433333 | -1.392399 | 150 |\n",
       "| 4 | 4.6 | 3.1 | 1.5 | 0.2 | setosa | -1.2433333 | -1.279104 | 150 |\n",
       "| 5 | 5.0 | 3.6 | 1.4 | 0.2 | setosa | -0.8433333 | -1.335752 | 150 |\n",
       "| 6 | 5.4 | 3.9 | 1.7 | 0.4 | setosa | -0.4433333 | -1.165809 | 150 |\n",
       "\n"
      ],
      "text/plain": [
       "  Sepal.Length Sepal.Width Petal.Length Petal.Width Species centered_SepLen\n",
       "1 5.1          3.5         1.4          0.2         setosa  -0.7433333     \n",
       "2 4.9          3.0         1.4          0.2         setosa  -0.9433333     \n",
       "3 4.7          3.2         1.3          0.2         setosa  -1.1433333     \n",
       "4 4.6          3.1         1.5          0.2         setosa  -1.2433333     \n",
       "5 5.0          3.6         1.4          0.2         setosa  -0.8433333     \n",
       "6 5.4          3.9         1.7          0.4         setosa  -0.4433333     \n",
       "  PetLen_zscores n_flowers\n",
       "1 -1.335752      150      \n",
       "2 -1.335752      150      \n",
       "3 -1.392399      150      \n",
       "4 -1.279104      150      \n",
       "5 -1.335752      150      \n",
       "6 -1.165809      150      "
      ]
     },
     "metadata": {},
     "output_type": "display_data"
    },
    {
     "data": {
      "text/html": [
       "<table class=\"dataframe\">\n",
       "<caption>A data.frame: 6 × 5</caption>\n",
       "<thead>\n",
       "\t<tr><th></th><th scope=col>Sepal.Length</th><th scope=col>Sepal.Width</th><th scope=col>Petal.Length</th><th scope=col>Petal.Width</th><th scope=col>Species</th></tr>\n",
       "\t<tr><th></th><th scope=col>&lt;dbl&gt;</th><th scope=col>&lt;dbl&gt;</th><th scope=col>&lt;dbl&gt;</th><th scope=col>&lt;dbl&gt;</th><th scope=col>&lt;fct&gt;</th></tr>\n",
       "</thead>\n",
       "<tbody>\n",
       "\t<tr><th scope=row>1</th><td>5.1</td><td>3.5</td><td>1.4</td><td>0.2</td><td>setosa</td></tr>\n",
       "\t<tr><th scope=row>2</th><td>4.9</td><td>3.0</td><td>1.4</td><td>0.2</td><td>setosa</td></tr>\n",
       "\t<tr><th scope=row>3</th><td>4.7</td><td>3.2</td><td>1.3</td><td>0.2</td><td>setosa</td></tr>\n",
       "\t<tr><th scope=row>4</th><td>4.6</td><td>3.1</td><td>1.5</td><td>0.2</td><td>setosa</td></tr>\n",
       "\t<tr><th scope=row>5</th><td>5.0</td><td>3.6</td><td>1.4</td><td>0.2</td><td>setosa</td></tr>\n",
       "\t<tr><th scope=row>6</th><td>5.4</td><td>3.9</td><td>1.7</td><td>0.4</td><td>setosa</td></tr>\n",
       "</tbody>\n",
       "</table>\n"
      ],
      "text/latex": [
       "A data.frame: 6 × 5\n",
       "\\begin{tabular}{r|lllll}\n",
       "  & Sepal.Length & Sepal.Width & Petal.Length & Petal.Width & Species\\\\\n",
       "  & <dbl> & <dbl> & <dbl> & <dbl> & <fct>\\\\\n",
       "\\hline\n",
       "\t1 & 5.1 & 3.5 & 1.4 & 0.2 & setosa\\\\\n",
       "\t2 & 4.9 & 3.0 & 1.4 & 0.2 & setosa\\\\\n",
       "\t3 & 4.7 & 3.2 & 1.3 & 0.2 & setosa\\\\\n",
       "\t4 & 4.6 & 3.1 & 1.5 & 0.2 & setosa\\\\\n",
       "\t5 & 5.0 & 3.6 & 1.4 & 0.2 & setosa\\\\\n",
       "\t6 & 5.4 & 3.9 & 1.7 & 0.4 & setosa\\\\\n",
       "\\end{tabular}\n"
      ],
      "text/markdown": [
       "\n",
       "A data.frame: 6 × 5\n",
       "\n",
       "| <!--/--> | Sepal.Length &lt;dbl&gt; | Sepal.Width &lt;dbl&gt; | Petal.Length &lt;dbl&gt; | Petal.Width &lt;dbl&gt; | Species &lt;fct&gt; |\n",
       "|---|---|---|---|---|---|\n",
       "| 1 | 5.1 | 3.5 | 1.4 | 0.2 | setosa |\n",
       "| 2 | 4.9 | 3.0 | 1.4 | 0.2 | setosa |\n",
       "| 3 | 4.7 | 3.2 | 1.3 | 0.2 | setosa |\n",
       "| 4 | 4.6 | 3.1 | 1.5 | 0.2 | setosa |\n",
       "| 5 | 5.0 | 3.6 | 1.4 | 0.2 | setosa |\n",
       "| 6 | 5.4 | 3.9 | 1.7 | 0.4 | setosa |\n",
       "\n"
      ],
      "text/plain": [
       "  Sepal.Length Sepal.Width Petal.Length Petal.Width Species\n",
       "1 5.1          3.5         1.4          0.2         setosa \n",
       "2 4.9          3.0         1.4          0.2         setosa \n",
       "3 4.7          3.2         1.3          0.2         setosa \n",
       "4 4.6          3.1         1.5          0.2         setosa \n",
       "5 5.0          3.6         1.4          0.2         setosa \n",
       "6 5.4          3.9         1.7          0.4         setosa "
      ]
     },
     "metadata": {},
     "output_type": "display_data"
    }
   ],
   "source": [
    "# look at full data set to see order\n",
    "head(dat)\n",
    "\n",
    "# look at just a certain range of variables\n",
    "dat  %>% \n",
    "    select(Sepal.Length:Species) %>%\n",
    "    head()"
   ]
  },
  {
   "cell_type": "markdown",
   "metadata": {},
   "source": [
    "The tidyverse also has something called **tidy selection** which makes it easy to \"batch\" select based on patterns in variable names. For example, we can use `starts_with()` to select all columns starting with \"Petal\":"
   ]
  },
  {
   "cell_type": "code",
   "execution_count": 13,
   "metadata": {},
   "outputs": [
    {
     "data": {
      "text/html": [
       "<table class=\"dataframe\">\n",
       "<caption>A data.frame: 6 × 2</caption>\n",
       "<thead>\n",
       "\t<tr><th></th><th scope=col>Petal.Length</th><th scope=col>Petal.Width</th></tr>\n",
       "\t<tr><th></th><th scope=col>&lt;dbl&gt;</th><th scope=col>&lt;dbl&gt;</th></tr>\n",
       "</thead>\n",
       "<tbody>\n",
       "\t<tr><th scope=row>1</th><td>1.4</td><td>0.2</td></tr>\n",
       "\t<tr><th scope=row>2</th><td>1.4</td><td>0.2</td></tr>\n",
       "\t<tr><th scope=row>3</th><td>1.3</td><td>0.2</td></tr>\n",
       "\t<tr><th scope=row>4</th><td>1.5</td><td>0.2</td></tr>\n",
       "\t<tr><th scope=row>5</th><td>1.4</td><td>0.2</td></tr>\n",
       "\t<tr><th scope=row>6</th><td>1.7</td><td>0.4</td></tr>\n",
       "</tbody>\n",
       "</table>\n"
      ],
      "text/latex": [
       "A data.frame: 6 × 2\n",
       "\\begin{tabular}{r|ll}\n",
       "  & Petal.Length & Petal.Width\\\\\n",
       "  & <dbl> & <dbl>\\\\\n",
       "\\hline\n",
       "\t1 & 1.4 & 0.2\\\\\n",
       "\t2 & 1.4 & 0.2\\\\\n",
       "\t3 & 1.3 & 0.2\\\\\n",
       "\t4 & 1.5 & 0.2\\\\\n",
       "\t5 & 1.4 & 0.2\\\\\n",
       "\t6 & 1.7 & 0.4\\\\\n",
       "\\end{tabular}\n"
      ],
      "text/markdown": [
       "\n",
       "A data.frame: 6 × 2\n",
       "\n",
       "| <!--/--> | Petal.Length &lt;dbl&gt; | Petal.Width &lt;dbl&gt; |\n",
       "|---|---|---|\n",
       "| 1 | 1.4 | 0.2 |\n",
       "| 2 | 1.4 | 0.2 |\n",
       "| 3 | 1.3 | 0.2 |\n",
       "| 4 | 1.5 | 0.2 |\n",
       "| 5 | 1.4 | 0.2 |\n",
       "| 6 | 1.7 | 0.4 |\n",
       "\n"
      ],
      "text/plain": [
       "  Petal.Length Petal.Width\n",
       "1 1.4          0.2        \n",
       "2 1.4          0.2        \n",
       "3 1.3          0.2        \n",
       "4 1.5          0.2        \n",
       "5 1.4          0.2        \n",
       "6 1.7          0.4        "
      ]
     },
     "metadata": {},
     "output_type": "display_data"
    }
   ],
   "source": [
    "dat  %>% \n",
    "    select(starts_with(\"Petal\")) %>% \n",
    "    head()"
   ]
  },
  {
   "cell_type": "markdown",
   "metadata": {},
   "source": [
    "Other selection helpers include `ends_with()`, `contains()`, `matches()` and `num_range()`. Learn more with `?tidyselect::ends_with()`."
   ]
  },
  {
   "cell_type": "markdown",
   "metadata": {
    "id": "IH9yxLQB0ZAZ"
   },
   "source": [
    "## `arrange()`: Sort by columns"
   ]
  },
  {
   "cell_type": "markdown",
   "metadata": {
    "id": "5Pztgqld0ZAZ"
   },
   "source": [
    "If you want to sort your data.frame by one or more columns you can use the `arrange()` command, where you list the variables in the order in which you want the sorting to occur. The default is to sort by ascending order for each variable. If you want to sort by descending order for one of them, you can surround the variable in the `desc()` command. Let's sort the flowers by species, and then within each species, by descending petal length:"
   ]
  },
  {
   "cell_type": "code",
   "execution_count": 156,
   "metadata": {
    "colab": {
     "base_uri": "https://localhost:8080/",
     "height": 207
    },
    "executionInfo": {
     "elapsed": 2605,
     "status": "ok",
     "timestamp": 1611095670551,
     "user": {
      "displayName": "Patience Stevens",
      "photoUrl": "https://lh3.googleusercontent.com/a-/AOh14Gi-_9ZqhIFhAv1oMehJNvNuIKSTyrFQHzjxQKhx=s64",
      "userId": "01994571539255174942"
     },
     "user_tz": 300
    },
    "id": "ju148EdW0ZAZ",
    "outputId": "f382bf99-4cb8-443a-f5f4-84c9ff47bd00"
   },
   "outputs": [
    {
     "data": {
      "text/html": [
       "<table class=\"dataframe\">\n",
       "<caption>A data.frame: 6 × 8</caption>\n",
       "<thead>\n",
       "\t<tr><th></th><th scope=col>Sepal.Length</th><th scope=col>Sepal.Width</th><th scope=col>Petal.Length</th><th scope=col>Petal.Width</th><th scope=col>Species</th><th scope=col>centered_SepLen</th><th scope=col>PetLen_zscores</th><th scope=col>n_flowers</th></tr>\n",
       "\t<tr><th></th><th scope=col>&lt;dbl&gt;</th><th scope=col>&lt;dbl&gt;</th><th scope=col>&lt;dbl&gt;</th><th scope=col>&lt;dbl&gt;</th><th scope=col>&lt;fct&gt;</th><th scope=col>&lt;dbl&gt;</th><th scope=col>&lt;dbl&gt;</th><th scope=col>&lt;int&gt;</th></tr>\n",
       "</thead>\n",
       "<tbody>\n",
       "\t<tr><th scope=row>1</th><td>4.8</td><td>3.4</td><td>1.9</td><td>0.2</td><td>setosa</td><td>-1.0433333</td><td>-1.052513</td><td>150</td></tr>\n",
       "\t<tr><th scope=row>2</th><td>5.1</td><td>3.8</td><td>1.9</td><td>0.4</td><td>setosa</td><td>-0.7433333</td><td>-1.052513</td><td>150</td></tr>\n",
       "\t<tr><th scope=row>3</th><td>5.4</td><td>3.9</td><td>1.7</td><td>0.4</td><td>setosa</td><td>-0.4433333</td><td>-1.165809</td><td>150</td></tr>\n",
       "\t<tr><th scope=row>4</th><td>5.7</td><td>3.8</td><td>1.7</td><td>0.3</td><td>setosa</td><td>-0.1433333</td><td>-1.165809</td><td>150</td></tr>\n",
       "\t<tr><th scope=row>5</th><td>5.4</td><td>3.4</td><td>1.7</td><td>0.2</td><td>setosa</td><td>-0.4433333</td><td>-1.165809</td><td>150</td></tr>\n",
       "\t<tr><th scope=row>6</th><td>5.1</td><td>3.3</td><td>1.7</td><td>0.5</td><td>setosa</td><td>-0.7433333</td><td>-1.165809</td><td>150</td></tr>\n",
       "</tbody>\n",
       "</table>\n"
      ],
      "text/latex": [
       "A data.frame: 6 × 8\n",
       "\\begin{tabular}{r|llllllll}\n",
       "  & Sepal.Length & Sepal.Width & Petal.Length & Petal.Width & Species & centered\\_SepLen & PetLen\\_zscores & n\\_flowers\\\\\n",
       "  & <dbl> & <dbl> & <dbl> & <dbl> & <fct> & <dbl> & <dbl> & <int>\\\\\n",
       "\\hline\n",
       "\t1 & 4.8 & 3.4 & 1.9 & 0.2 & setosa & -1.0433333 & -1.052513 & 150\\\\\n",
       "\t2 & 5.1 & 3.8 & 1.9 & 0.4 & setosa & -0.7433333 & -1.052513 & 150\\\\\n",
       "\t3 & 5.4 & 3.9 & 1.7 & 0.4 & setosa & -0.4433333 & -1.165809 & 150\\\\\n",
       "\t4 & 5.7 & 3.8 & 1.7 & 0.3 & setosa & -0.1433333 & -1.165809 & 150\\\\\n",
       "\t5 & 5.4 & 3.4 & 1.7 & 0.2 & setosa & -0.4433333 & -1.165809 & 150\\\\\n",
       "\t6 & 5.1 & 3.3 & 1.7 & 0.5 & setosa & -0.7433333 & -1.165809 & 150\\\\\n",
       "\\end{tabular}\n"
      ],
      "text/markdown": [
       "\n",
       "A data.frame: 6 × 8\n",
       "\n",
       "| <!--/--> | Sepal.Length &lt;dbl&gt; | Sepal.Width &lt;dbl&gt; | Petal.Length &lt;dbl&gt; | Petal.Width &lt;dbl&gt; | Species &lt;fct&gt; | centered_SepLen &lt;dbl&gt; | PetLen_zscores &lt;dbl&gt; | n_flowers &lt;int&gt; |\n",
       "|---|---|---|---|---|---|---|---|---|\n",
       "| 1 | 4.8 | 3.4 | 1.9 | 0.2 | setosa | -1.0433333 | -1.052513 | 150 |\n",
       "| 2 | 5.1 | 3.8 | 1.9 | 0.4 | setosa | -0.7433333 | -1.052513 | 150 |\n",
       "| 3 | 5.4 | 3.9 | 1.7 | 0.4 | setosa | -0.4433333 | -1.165809 | 150 |\n",
       "| 4 | 5.7 | 3.8 | 1.7 | 0.3 | setosa | -0.1433333 | -1.165809 | 150 |\n",
       "| 5 | 5.4 | 3.4 | 1.7 | 0.2 | setosa | -0.4433333 | -1.165809 | 150 |\n",
       "| 6 | 5.1 | 3.3 | 1.7 | 0.5 | setosa | -0.7433333 | -1.165809 | 150 |\n",
       "\n"
      ],
      "text/plain": [
       "  Sepal.Length Sepal.Width Petal.Length Petal.Width Species centered_SepLen\n",
       "1 4.8          3.4         1.9          0.2         setosa  -1.0433333     \n",
       "2 5.1          3.8         1.9          0.4         setosa  -0.7433333     \n",
       "3 5.4          3.9         1.7          0.4         setosa  -0.4433333     \n",
       "4 5.7          3.8         1.7          0.3         setosa  -0.1433333     \n",
       "5 5.4          3.4         1.7          0.2         setosa  -0.4433333     \n",
       "6 5.1          3.3         1.7          0.5         setosa  -0.7433333     \n",
       "  PetLen_zscores n_flowers\n",
       "1 -1.052513      150      \n",
       "2 -1.052513      150      \n",
       "3 -1.165809      150      \n",
       "4 -1.165809      150      \n",
       "5 -1.165809      150      \n",
       "6 -1.165809      150      "
      ]
     },
     "metadata": {},
     "output_type": "display_data"
    }
   ],
   "source": [
    "dat %>% \n",
    "    arrange(Species, desc(Petal.Length)) %>%\n",
    "    head()\n",
    "\n",
    "#levels(dat$Species)\n",
    "#dat  %>% \n",
    "#    arrange(desc(Species), desc(Petal.Length)) %>%\n",
    "#    head()"
   ]
  },
  {
   "cell_type": "markdown",
   "metadata": {
    "id": "pRhRKPghWoqn"
   },
   "source": [
    "Note: since the `Species` variable is a factor, not a numeric variable, it will be sorted by the order listed by `levels(dat$Species)`. You can test this out by uncommenting the second line in the code cell above - since the flowers are now sorted in the reverse `Species` order, the first six rows shown by `head()` are now virginica, not setosa. "
   ]
  },
  {
   "cell_type": "markdown",
   "metadata": {
    "id": "za8IdRYR0ZAZ"
   },
   "source": [
    "## `unite()`: Combine two columns into one"
   ]
  },
  {
   "cell_type": "markdown",
   "metadata": {
    "id": "5FmR7HHxYVTV"
   },
   "source": [
    "Let's say flowers with short petals are fundamentally different from those with long petals. I'm going to make a new categorical variable, `PetalType`, that can either be \"long\" or \"short\". *To learn more about the `if_else()` function used below, type `?if_else`.*"
   ]
  },
  {
   "cell_type": "code",
   "execution_count": 160,
   "metadata": {
    "colab": {
     "base_uri": "https://localhost:8080/",
     "height": 627
    },
    "executionInfo": {
     "elapsed": 2589,
     "status": "ok",
     "timestamp": 1611095670552,
     "user": {
      "displayName": "Patience Stevens",
      "photoUrl": "https://lh3.googleusercontent.com/a-/AOh14Gi-_9ZqhIFhAv1oMehJNvNuIKSTyrFQHzjxQKhx=s64",
      "userId": "01994571539255174942"
     },
     "user_tz": 300
    },
    "id": "VP2I_EOIYrm-",
    "outputId": "3ba25c34-0f8b-4a82-80bc-83a1d314711b"
   },
   "outputs": [
    {
     "data": {
      "text/html": [
       "<table class=\"dataframe\">\n",
       "<caption>A data.frame: 6 × 9</caption>\n",
       "<thead>\n",
       "\t<tr><th></th><th scope=col>Sepal.Length</th><th scope=col>Sepal.Width</th><th scope=col>Petal.Length</th><th scope=col>Petal.Width</th><th scope=col>Species</th><th scope=col>centered_SepLen</th><th scope=col>PetLen_zscores</th><th scope=col>n_flowers</th><th scope=col>PetalType</th></tr>\n",
       "\t<tr><th></th><th scope=col>&lt;dbl&gt;</th><th scope=col>&lt;dbl&gt;</th><th scope=col>&lt;dbl&gt;</th><th scope=col>&lt;dbl&gt;</th><th scope=col>&lt;fct&gt;</th><th scope=col>&lt;dbl&gt;</th><th scope=col>&lt;dbl&gt;</th><th scope=col>&lt;int&gt;</th><th scope=col>&lt;chr&gt;</th></tr>\n",
       "</thead>\n",
       "<tbody>\n",
       "\t<tr><th scope=row>1</th><td>5.1</td><td>3.5</td><td>1.4</td><td>0.2</td><td>setosa</td><td>-0.7433333</td><td>-1.335752</td><td>150</td><td>short</td></tr>\n",
       "\t<tr><th scope=row>2</th><td>4.9</td><td>3.0</td><td>1.4</td><td>0.2</td><td>setosa</td><td>-0.9433333</td><td>-1.335752</td><td>150</td><td>short</td></tr>\n",
       "\t<tr><th scope=row>3</th><td>4.7</td><td>3.2</td><td>1.3</td><td>0.2</td><td>setosa</td><td>-1.1433333</td><td>-1.392399</td><td>150</td><td>short</td></tr>\n",
       "\t<tr><th scope=row>4</th><td>4.6</td><td>3.1</td><td>1.5</td><td>0.2</td><td>setosa</td><td>-1.2433333</td><td>-1.279104</td><td>150</td><td>short</td></tr>\n",
       "\t<tr><th scope=row>5</th><td>5.0</td><td>3.6</td><td>1.4</td><td>0.2</td><td>setosa</td><td>-0.8433333</td><td>-1.335752</td><td>150</td><td>short</td></tr>\n",
       "\t<tr><th scope=row>6</th><td>5.4</td><td>3.9</td><td>1.7</td><td>0.4</td><td>setosa</td><td>-0.4433333</td><td>-1.165809</td><td>150</td><td>short</td></tr>\n",
       "</tbody>\n",
       "</table>\n"
      ],
      "text/latex": [
       "A data.frame: 6 × 9\n",
       "\\begin{tabular}{r|lllllllll}\n",
       "  & Sepal.Length & Sepal.Width & Petal.Length & Petal.Width & Species & centered\\_SepLen & PetLen\\_zscores & n\\_flowers & PetalType\\\\\n",
       "  & <dbl> & <dbl> & <dbl> & <dbl> & <fct> & <dbl> & <dbl> & <int> & <chr>\\\\\n",
       "\\hline\n",
       "\t1 & 5.1 & 3.5 & 1.4 & 0.2 & setosa & -0.7433333 & -1.335752 & 150 & short\\\\\n",
       "\t2 & 4.9 & 3.0 & 1.4 & 0.2 & setosa & -0.9433333 & -1.335752 & 150 & short\\\\\n",
       "\t3 & 4.7 & 3.2 & 1.3 & 0.2 & setosa & -1.1433333 & -1.392399 & 150 & short\\\\\n",
       "\t4 & 4.6 & 3.1 & 1.5 & 0.2 & setosa & -1.2433333 & -1.279104 & 150 & short\\\\\n",
       "\t5 & 5.0 & 3.6 & 1.4 & 0.2 & setosa & -0.8433333 & -1.335752 & 150 & short\\\\\n",
       "\t6 & 5.4 & 3.9 & 1.7 & 0.4 & setosa & -0.4433333 & -1.165809 & 150 & short\\\\\n",
       "\\end{tabular}\n"
      ],
      "text/markdown": [
       "\n",
       "A data.frame: 6 × 9\n",
       "\n",
       "| <!--/--> | Sepal.Length &lt;dbl&gt; | Sepal.Width &lt;dbl&gt; | Petal.Length &lt;dbl&gt; | Petal.Width &lt;dbl&gt; | Species &lt;fct&gt; | centered_SepLen &lt;dbl&gt; | PetLen_zscores &lt;dbl&gt; | n_flowers &lt;int&gt; | PetalType &lt;chr&gt; |\n",
       "|---|---|---|---|---|---|---|---|---|---|\n",
       "| 1 | 5.1 | 3.5 | 1.4 | 0.2 | setosa | -0.7433333 | -1.335752 | 150 | short |\n",
       "| 2 | 4.9 | 3.0 | 1.4 | 0.2 | setosa | -0.9433333 | -1.335752 | 150 | short |\n",
       "| 3 | 4.7 | 3.2 | 1.3 | 0.2 | setosa | -1.1433333 | -1.392399 | 150 | short |\n",
       "| 4 | 4.6 | 3.1 | 1.5 | 0.2 | setosa | -1.2433333 | -1.279104 | 150 | short |\n",
       "| 5 | 5.0 | 3.6 | 1.4 | 0.2 | setosa | -0.8433333 | -1.335752 | 150 | short |\n",
       "| 6 | 5.4 | 3.9 | 1.7 | 0.4 | setosa | -0.4433333 | -1.165809 | 150 | short |\n",
       "\n"
      ],
      "text/plain": [
       "  Sepal.Length Sepal.Width Petal.Length Petal.Width Species centered_SepLen\n",
       "1 5.1          3.5         1.4          0.2         setosa  -0.7433333     \n",
       "2 4.9          3.0         1.4          0.2         setosa  -0.9433333     \n",
       "3 4.7          3.2         1.3          0.2         setosa  -1.1433333     \n",
       "4 4.6          3.1         1.5          0.2         setosa  -1.2433333     \n",
       "5 5.0          3.6         1.4          0.2         setosa  -0.8433333     \n",
       "6 5.4          3.9         1.7          0.4         setosa  -0.4433333     \n",
       "  PetLen_zscores n_flowers PetalType\n",
       "1 -1.335752      150       short    \n",
       "2 -1.335752      150       short    \n",
       "3 -1.392399      150       short    \n",
       "4 -1.279104      150       short    \n",
       "5 -1.335752      150       short    \n",
       "6 -1.165809      150       short    "
      ]
     },
     "metadata": {},
     "output_type": "display_data"
    }
   ],
   "source": [
    "dat <- dat  %>%  \n",
    "    mutate(PetalType = if_else(Petal.Length > mean(Petal.Length),\"long\",\"short\"))\n",
    "\n",
    "head(dat)"
   ]
  },
  {
   "cell_type": "markdown",
   "metadata": {
    "id": "q5xy1F8u0ZAZ"
   },
   "source": [
    "Right now `Species` and `PetalType` are two different variables. Let's say for some reason you want a new variable that specifies both, e.g. 'short virginica', 'long setosa', etc. This is often useful when you are plotting and you want to use a color to denote each combination of two variables, instead of using a combination of colors and shapes. \n",
    "\n",
    "You can combine variables with the `unite()` command, which takes the arguments `unite(new_var, input1, input2)`. The `remove = FALSE` means it won't remove the two input variables. This is set to `TRUE` by default."
   ]
  },
  {
   "cell_type": "code",
   "execution_count": 161,
   "metadata": {
    "colab": {
     "base_uri": "https://localhost:8080/",
     "height": 207
    },
    "executionInfo": {
     "elapsed": 2573,
     "status": "ok",
     "timestamp": 1611095670553,
     "user": {
      "displayName": "Patience Stevens",
      "photoUrl": "https://lh3.googleusercontent.com/a-/AOh14Gi-_9ZqhIFhAv1oMehJNvNuIKSTyrFQHzjxQKhx=s64",
      "userId": "01994571539255174942"
     },
     "user_tz": 300
    },
    "id": "pZEnK09-0ZAa",
    "outputId": "21bf1919-bd37-4aee-bde4-41c92ba5593b"
   },
   "outputs": [
    {
     "data": {
      "text/html": [
       "<table class=\"dataframe\">\n",
       "<caption>A data.frame: 6 × 10</caption>\n",
       "<thead>\n",
       "\t<tr><th></th><th scope=col>Sepal.Length</th><th scope=col>Sepal.Width</th><th scope=col>Petal.Length</th><th scope=col>Petal.Width</th><th scope=col>Combined_var</th><th scope=col>Species</th><th scope=col>centered_SepLen</th><th scope=col>PetLen_zscores</th><th scope=col>n_flowers</th><th scope=col>PetalType</th></tr>\n",
       "\t<tr><th></th><th scope=col>&lt;dbl&gt;</th><th scope=col>&lt;dbl&gt;</th><th scope=col>&lt;dbl&gt;</th><th scope=col>&lt;dbl&gt;</th><th scope=col>&lt;chr&gt;</th><th scope=col>&lt;fct&gt;</th><th scope=col>&lt;dbl&gt;</th><th scope=col>&lt;dbl&gt;</th><th scope=col>&lt;int&gt;</th><th scope=col>&lt;chr&gt;</th></tr>\n",
       "</thead>\n",
       "<tbody>\n",
       "\t<tr><th scope=row>1</th><td>5.1</td><td>3.5</td><td>1.4</td><td>0.2</td><td>setosa_short</td><td>setosa</td><td>-0.7433333</td><td>-1.335752</td><td>150</td><td>short</td></tr>\n",
       "\t<tr><th scope=row>2</th><td>4.9</td><td>3.0</td><td>1.4</td><td>0.2</td><td>setosa_short</td><td>setosa</td><td>-0.9433333</td><td>-1.335752</td><td>150</td><td>short</td></tr>\n",
       "\t<tr><th scope=row>3</th><td>4.7</td><td>3.2</td><td>1.3</td><td>0.2</td><td>setosa_short</td><td>setosa</td><td>-1.1433333</td><td>-1.392399</td><td>150</td><td>short</td></tr>\n",
       "\t<tr><th scope=row>4</th><td>4.6</td><td>3.1</td><td>1.5</td><td>0.2</td><td>setosa_short</td><td>setosa</td><td>-1.2433333</td><td>-1.279104</td><td>150</td><td>short</td></tr>\n",
       "\t<tr><th scope=row>5</th><td>5.0</td><td>3.6</td><td>1.4</td><td>0.2</td><td>setosa_short</td><td>setosa</td><td>-0.8433333</td><td>-1.335752</td><td>150</td><td>short</td></tr>\n",
       "\t<tr><th scope=row>6</th><td>5.4</td><td>3.9</td><td>1.7</td><td>0.4</td><td>setosa_short</td><td>setosa</td><td>-0.4433333</td><td>-1.165809</td><td>150</td><td>short</td></tr>\n",
       "</tbody>\n",
       "</table>\n"
      ],
      "text/latex": [
       "A data.frame: 6 × 10\n",
       "\\begin{tabular}{r|llllllllll}\n",
       "  & Sepal.Length & Sepal.Width & Petal.Length & Petal.Width & Combined\\_var & Species & centered\\_SepLen & PetLen\\_zscores & n\\_flowers & PetalType\\\\\n",
       "  & <dbl> & <dbl> & <dbl> & <dbl> & <chr> & <fct> & <dbl> & <dbl> & <int> & <chr>\\\\\n",
       "\\hline\n",
       "\t1 & 5.1 & 3.5 & 1.4 & 0.2 & setosa\\_short & setosa & -0.7433333 & -1.335752 & 150 & short\\\\\n",
       "\t2 & 4.9 & 3.0 & 1.4 & 0.2 & setosa\\_short & setosa & -0.9433333 & -1.335752 & 150 & short\\\\\n",
       "\t3 & 4.7 & 3.2 & 1.3 & 0.2 & setosa\\_short & setosa & -1.1433333 & -1.392399 & 150 & short\\\\\n",
       "\t4 & 4.6 & 3.1 & 1.5 & 0.2 & setosa\\_short & setosa & -1.2433333 & -1.279104 & 150 & short\\\\\n",
       "\t5 & 5.0 & 3.6 & 1.4 & 0.2 & setosa\\_short & setosa & -0.8433333 & -1.335752 & 150 & short\\\\\n",
       "\t6 & 5.4 & 3.9 & 1.7 & 0.4 & setosa\\_short & setosa & -0.4433333 & -1.165809 & 150 & short\\\\\n",
       "\\end{tabular}\n"
      ],
      "text/markdown": [
       "\n",
       "A data.frame: 6 × 10\n",
       "\n",
       "| <!--/--> | Sepal.Length &lt;dbl&gt; | Sepal.Width &lt;dbl&gt; | Petal.Length &lt;dbl&gt; | Petal.Width &lt;dbl&gt; | Combined_var &lt;chr&gt; | Species &lt;fct&gt; | centered_SepLen &lt;dbl&gt; | PetLen_zscores &lt;dbl&gt; | n_flowers &lt;int&gt; | PetalType &lt;chr&gt; |\n",
       "|---|---|---|---|---|---|---|---|---|---|---|\n",
       "| 1 | 5.1 | 3.5 | 1.4 | 0.2 | setosa_short | setosa | -0.7433333 | -1.335752 | 150 | short |\n",
       "| 2 | 4.9 | 3.0 | 1.4 | 0.2 | setosa_short | setosa | -0.9433333 | -1.335752 | 150 | short |\n",
       "| 3 | 4.7 | 3.2 | 1.3 | 0.2 | setosa_short | setosa | -1.1433333 | -1.392399 | 150 | short |\n",
       "| 4 | 4.6 | 3.1 | 1.5 | 0.2 | setosa_short | setosa | -1.2433333 | -1.279104 | 150 | short |\n",
       "| 5 | 5.0 | 3.6 | 1.4 | 0.2 | setosa_short | setosa | -0.8433333 | -1.335752 | 150 | short |\n",
       "| 6 | 5.4 | 3.9 | 1.7 | 0.4 | setosa_short | setosa | -0.4433333 | -1.165809 | 150 | short |\n",
       "\n"
      ],
      "text/plain": [
       "  Sepal.Length Sepal.Width Petal.Length Petal.Width Combined_var Species\n",
       "1 5.1          3.5         1.4          0.2         setosa_short setosa \n",
       "2 4.9          3.0         1.4          0.2         setosa_short setosa \n",
       "3 4.7          3.2         1.3          0.2         setosa_short setosa \n",
       "4 4.6          3.1         1.5          0.2         setosa_short setosa \n",
       "5 5.0          3.6         1.4          0.2         setosa_short setosa \n",
       "6 5.4          3.9         1.7          0.4         setosa_short setosa \n",
       "  centered_SepLen PetLen_zscores n_flowers PetalType\n",
       "1 -0.7433333      -1.335752      150       short    \n",
       "2 -0.9433333      -1.335752      150       short    \n",
       "3 -1.1433333      -1.392399      150       short    \n",
       "4 -1.2433333      -1.279104      150       short    \n",
       "5 -0.8433333      -1.335752      150       short    \n",
       "6 -0.4433333      -1.165809      150       short    "
      ]
     },
     "metadata": {},
     "output_type": "display_data"
    },
    {
     "data": {
      "image/png": "[encoded data removed]",
      "text/plain": [
       "plot without title"
      ]
     },
     "metadata": {
      "image/png": {
       "height": 420,
       "width": 420
      }
     },
     "output_type": "display_data"
    }
   ],
   "source": [
    "dat <- dat %>% \n",
    "      unite(Combined_var, Species, PetalType, remove=FALSE)\n",
    "head(dat)\n",
    "\n",
    "ggplot(dat, aes(Sepal.Length, Petal.Length, color = Combined_var))+ geom_point(size = 1.5)"
   ]
  },
  {
   "cell_type": "markdown",
   "metadata": {
    "id": "xS_M3Z2q0ZAa"
   },
   "source": [
    "With `unite()`, you can also specify the separator (by default it is '\\_') and whether to remove the original variables. Check the help section for more on how to do this (`?unite`)."
   ]
  },
  {
   "cell_type": "markdown",
   "metadata": {
    "id": "1A9LI6580ZAa"
   },
   "source": [
    "## `separate()`: Split one column into multiple columns"
   ]
  },
  {
   "cell_type": "markdown",
   "metadata": {
    "id": "-tl2-rOw0ZAa"
   },
   "source": [
    "The reverse of the operation above is called `separate()`. It becomes useful, for example, if you have the name of participants stored in one variable, but you want to separate it into First and Last name. For the illustration, I will just reverse the above example (adding 1 to the new variables, to distinguish them from the existing Species and PetalType variables):"
   ]
  },
  {
   "cell_type": "code",
   "execution_count": 162,
   "metadata": {
    "colab": {
     "base_uri": "https://localhost:8080/",
     "height": 207
    },
    "executionInfo": {
     "elapsed": 2558,
     "status": "ok",
     "timestamp": 1611095670554,
     "user": {
      "displayName": "Patience Stevens",
      "photoUrl": "https://lh3.googleusercontent.com/a-/AOh14Gi-_9ZqhIFhAv1oMehJNvNuIKSTyrFQHzjxQKhx=s64",
      "userId": "01994571539255174942"
     },
     "user_tz": 300
    },
    "id": "kM6DbKC50ZAa",
    "outputId": "eec54e8d-c108-47d4-e6b2-d424e34d749a",
    "scrolled": true
   },
   "outputs": [
    {
     "data": {
      "text/html": [
       "<table class=\"dataframe\">\n",
       "<caption>A data.frame: 6 × 11</caption>\n",
       "<thead>\n",
       "\t<tr><th></th><th scope=col>Sepal.Length</th><th scope=col>Sepal.Width</th><th scope=col>Petal.Length</th><th scope=col>Petal.Width</th><th scope=col>Species1</th><th scope=col>PetalType1</th><th scope=col>Species</th><th scope=col>centered_SepLen</th><th scope=col>PetLen_zscores</th><th scope=col>n_flowers</th><th scope=col>PetalType</th></tr>\n",
       "\t<tr><th></th><th scope=col>&lt;dbl&gt;</th><th scope=col>&lt;dbl&gt;</th><th scope=col>&lt;dbl&gt;</th><th scope=col>&lt;dbl&gt;</th><th scope=col>&lt;chr&gt;</th><th scope=col>&lt;chr&gt;</th><th scope=col>&lt;fct&gt;</th><th scope=col>&lt;dbl&gt;</th><th scope=col>&lt;dbl&gt;</th><th scope=col>&lt;int&gt;</th><th scope=col>&lt;chr&gt;</th></tr>\n",
       "</thead>\n",
       "<tbody>\n",
       "\t<tr><th scope=row>1</th><td>5.1</td><td>3.5</td><td>1.4</td><td>0.2</td><td>setosa</td><td>short</td><td>setosa</td><td>-0.7433333</td><td>-1.335752</td><td>150</td><td>short</td></tr>\n",
       "\t<tr><th scope=row>2</th><td>4.9</td><td>3.0</td><td>1.4</td><td>0.2</td><td>setosa</td><td>short</td><td>setosa</td><td>-0.9433333</td><td>-1.335752</td><td>150</td><td>short</td></tr>\n",
       "\t<tr><th scope=row>3</th><td>4.7</td><td>3.2</td><td>1.3</td><td>0.2</td><td>setosa</td><td>short</td><td>setosa</td><td>-1.1433333</td><td>-1.392399</td><td>150</td><td>short</td></tr>\n",
       "\t<tr><th scope=row>4</th><td>4.6</td><td>3.1</td><td>1.5</td><td>0.2</td><td>setosa</td><td>short</td><td>setosa</td><td>-1.2433333</td><td>-1.279104</td><td>150</td><td>short</td></tr>\n",
       "\t<tr><th scope=row>5</th><td>5.0</td><td>3.6</td><td>1.4</td><td>0.2</td><td>setosa</td><td>short</td><td>setosa</td><td>-0.8433333</td><td>-1.335752</td><td>150</td><td>short</td></tr>\n",
       "\t<tr><th scope=row>6</th><td>5.4</td><td>3.9</td><td>1.7</td><td>0.4</td><td>setosa</td><td>short</td><td>setosa</td><td>-0.4433333</td><td>-1.165809</td><td>150</td><td>short</td></tr>\n",
       "</tbody>\n",
       "</table>\n"
      ],
      "text/latex": [
       "A data.frame: 6 × 11\n",
       "\\begin{tabular}{r|lllllllllll}\n",
       "  & Sepal.Length & Sepal.Width & Petal.Length & Petal.Width & Species1 & PetalType1 & Species & centered\\_SepLen & PetLen\\_zscores & n\\_flowers & PetalType\\\\\n",
       "  & <dbl> & <dbl> & <dbl> & <dbl> & <chr> & <chr> & <fct> & <dbl> & <dbl> & <int> & <chr>\\\\\n",
       "\\hline\n",
       "\t1 & 5.1 & 3.5 & 1.4 & 0.2 & setosa & short & setosa & -0.7433333 & -1.335752 & 150 & short\\\\\n",
       "\t2 & 4.9 & 3.0 & 1.4 & 0.2 & setosa & short & setosa & -0.9433333 & -1.335752 & 150 & short\\\\\n",
       "\t3 & 4.7 & 3.2 & 1.3 & 0.2 & setosa & short & setosa & -1.1433333 & -1.392399 & 150 & short\\\\\n",
       "\t4 & 4.6 & 3.1 & 1.5 & 0.2 & setosa & short & setosa & -1.2433333 & -1.279104 & 150 & short\\\\\n",
       "\t5 & 5.0 & 3.6 & 1.4 & 0.2 & setosa & short & setosa & -0.8433333 & -1.335752 & 150 & short\\\\\n",
       "\t6 & 5.4 & 3.9 & 1.7 & 0.4 & setosa & short & setosa & -0.4433333 & -1.165809 & 150 & short\\\\\n",
       "\\end{tabular}\n"
      ],
      "text/markdown": [
       "\n",
       "A data.frame: 6 × 11\n",
       "\n",
       "| <!--/--> | Sepal.Length &lt;dbl&gt; | Sepal.Width &lt;dbl&gt; | Petal.Length &lt;dbl&gt; | Petal.Width &lt;dbl&gt; | Species1 &lt;chr&gt; | PetalType1 &lt;chr&gt; | Species &lt;fct&gt; | centered_SepLen &lt;dbl&gt; | PetLen_zscores &lt;dbl&gt; | n_flowers &lt;int&gt; | PetalType &lt;chr&gt; |\n",
       "|---|---|---|---|---|---|---|---|---|---|---|---|\n",
       "| 1 | 5.1 | 3.5 | 1.4 | 0.2 | setosa | short | setosa | -0.7433333 | -1.335752 | 150 | short |\n",
       "| 2 | 4.9 | 3.0 | 1.4 | 0.2 | setosa | short | setosa | -0.9433333 | -1.335752 | 150 | short |\n",
       "| 3 | 4.7 | 3.2 | 1.3 | 0.2 | setosa | short | setosa | -1.1433333 | -1.392399 | 150 | short |\n",
       "| 4 | 4.6 | 3.1 | 1.5 | 0.2 | setosa | short | setosa | -1.2433333 | -1.279104 | 150 | short |\n",
       "| 5 | 5.0 | 3.6 | 1.4 | 0.2 | setosa | short | setosa | -0.8433333 | -1.335752 | 150 | short |\n",
       "| 6 | 5.4 | 3.9 | 1.7 | 0.4 | setosa | short | setosa | -0.4433333 | -1.165809 | 150 | short |\n",
       "\n"
      ],
      "text/plain": [
       "  Sepal.Length Sepal.Width Petal.Length Petal.Width Species1 PetalType1 Species\n",
       "1 5.1          3.5         1.4          0.2         setosa   short      setosa \n",
       "2 4.9          3.0         1.4          0.2         setosa   short      setosa \n",
       "3 4.7          3.2         1.3          0.2         setosa   short      setosa \n",
       "4 4.6          3.1         1.5          0.2         setosa   short      setosa \n",
       "5 5.0          3.6         1.4          0.2         setosa   short      setosa \n",
       "6 5.4          3.9         1.7          0.4         setosa   short      setosa \n",
       "  centered_SepLen PetLen_zscores n_flowers PetalType\n",
       "1 -0.7433333      -1.335752      150       short    \n",
       "2 -0.9433333      -1.335752      150       short    \n",
       "3 -1.1433333      -1.392399      150       short    \n",
       "4 -1.2433333      -1.279104      150       short    \n",
       "5 -0.8433333      -1.335752      150       short    \n",
       "6 -0.4433333      -1.165809      150       short    "
      ]
     },
     "metadata": {},
     "output_type": "display_data"
    }
   ],
   "source": [
    "dat <- dat  %>% \n",
    "    separate(Combined_var, into=c('Species1', 'PetalType1'))\n",
    "head(dat)"
   ]
  },
  {
   "cell_type": "markdown",
   "metadata": {
    "id": "0qnJTfjleG2v"
   },
   "source": [
    "Like with `unite()`, you can specify the character you want `separate()` to split. For example, splitting at \" \" instead of at the default \"_\" for the First, Last name example. See `?separate` for more info."
   ]
  },
  {
   "cell_type": "markdown",
   "metadata": {
    "id": "TKlDT_I-0ZAa"
   },
   "source": [
    "## `group_by()`: Implicitly group data"
   ]
  },
  {
   "cell_type": "markdown",
   "metadata": {
    "id": "6WFQokKg0ZAa"
   },
   "source": [
    "In the filtering example in section 4.3, we saw how to subset the data.frame separately for different species, and then to calculate the summaries. This is inefficient and also creates two separate data.frames. While you can join them manually afterwards, there is a much easier way with the **`group_by`** command.\n",
    "\n",
    "When you pass a data.frame to a **`group_by`** command, you can specify names of variables, by which to split the data.frame. For example, if we specify the `Species` and `PetalType` variables in the group_by command, the data.frame will be **_implicitly_** split into 4 data.frames - one for each combination of species and petal type.  E.g.:"
   ]
  },
  {
   "cell_type": "code",
   "execution_count": 165,
   "metadata": {
    "colab": {
     "base_uri": "https://localhost:8080/"
    },
    "executionInfo": {
     "elapsed": 2544,
     "status": "ok",
     "timestamp": 1611095670555,
     "user": {
      "displayName": "Patience Stevens",
      "photoUrl": "https://lh3.googleusercontent.com/a-/AOh14Gi-_9ZqhIFhAv1oMehJNvNuIKSTyrFQHzjxQKhx=s64",
      "userId": "01994571539255174942"
     },
     "user_tz": 300
    },
    "id": "E6KlSAS90ZAb",
    "outputId": "767de59d-39ff-48b5-dd28-e0569d4338f7"
   },
   "outputs": [
    {
     "name": "stdout",
     "output_type": "stream",
     "text": [
      "\u001b[90m# A tibble: 150 × 11\u001b[39m\n",
      "\u001b[90m# Groups:   Species, PetalType [4]\u001b[39m\n",
      "   Sepal.Length Sepal.…¹ Petal…² Petal…³ Speci…⁴ Petal…⁵ Species cente…⁶ PetLe…⁷\n",
      "          \u001b[3m\u001b[90m<dbl>\u001b[39m\u001b[23m    \u001b[3m\u001b[90m<dbl>\u001b[39m\u001b[23m   \u001b[3m\u001b[90m<dbl>\u001b[39m\u001b[23m   \u001b[3m\u001b[90m<dbl>\u001b[39m\u001b[23m \u001b[3m\u001b[90m<chr>\u001b[39m\u001b[23m   \u001b[3m\u001b[90m<chr>\u001b[39m\u001b[23m   \u001b[3m\u001b[90m<fct>\u001b[39m\u001b[23m     \u001b[3m\u001b[90m<dbl>\u001b[39m\u001b[23m   \u001b[3m\u001b[90m<dbl>\u001b[39m\u001b[23m\n",
      "\u001b[90m 1\u001b[39m          5.1      3.5     1.4     0.2 setosa  short   setosa   -\u001b[31m0\u001b[39m\u001b[31m.\u001b[39m\u001b[31m743\u001b[39m   -\u001b[31m1\u001b[39m\u001b[31m.\u001b[39m\u001b[31m34\u001b[39m\n",
      "\u001b[90m 2\u001b[39m          4.9      3       1.4     0.2 setosa  short   setosa   -\u001b[31m0\u001b[39m\u001b[31m.\u001b[39m\u001b[31m943\u001b[39m   -\u001b[31m1\u001b[39m\u001b[31m.\u001b[39m\u001b[31m34\u001b[39m\n",
      "\u001b[90m 3\u001b[39m          4.7      3.2     1.3     0.2 setosa  short   setosa   -\u001b[31m1\u001b[39m\u001b[31m.\u001b[39m\u001b[31m14\u001b[39m    -\u001b[31m1\u001b[39m\u001b[31m.\u001b[39m\u001b[31m39\u001b[39m\n",
      "\u001b[90m 4\u001b[39m          4.6      3.1     1.5     0.2 setosa  short   setosa   -\u001b[31m1\u001b[39m\u001b[31m.\u001b[39m\u001b[31m24\u001b[39m    -\u001b[31m1\u001b[39m\u001b[31m.\u001b[39m\u001b[31m28\u001b[39m\n",
      "\u001b[90m 5\u001b[39m          5        3.6     1.4     0.2 setosa  short   setosa   -\u001b[31m0\u001b[39m\u001b[31m.\u001b[39m\u001b[31m843\u001b[39m   -\u001b[31m1\u001b[39m\u001b[31m.\u001b[39m\u001b[31m34\u001b[39m\n",
      "\u001b[90m 6\u001b[39m          5.4      3.9     1.7     0.4 setosa  short   setosa   -\u001b[31m0\u001b[39m\u001b[31m.\u001b[39m\u001b[31m443\u001b[39m   -\u001b[31m1\u001b[39m\u001b[31m.\u001b[39m\u001b[31m17\u001b[39m\n",
      "\u001b[90m 7\u001b[39m          4.6      3.4     1.4     0.3 setosa  short   setosa   -\u001b[31m1\u001b[39m\u001b[31m.\u001b[39m\u001b[31m24\u001b[39m    -\u001b[31m1\u001b[39m\u001b[31m.\u001b[39m\u001b[31m34\u001b[39m\n",
      "\u001b[90m 8\u001b[39m          5        3.4     1.5     0.2 setosa  short   setosa   -\u001b[31m0\u001b[39m\u001b[31m.\u001b[39m\u001b[31m843\u001b[39m   -\u001b[31m1\u001b[39m\u001b[31m.\u001b[39m\u001b[31m28\u001b[39m\n",
      "\u001b[90m 9\u001b[39m          4.4      2.9     1.4     0.2 setosa  short   setosa   -\u001b[31m1\u001b[39m\u001b[31m.\u001b[39m\u001b[31m44\u001b[39m    -\u001b[31m1\u001b[39m\u001b[31m.\u001b[39m\u001b[31m34\u001b[39m\n",
      "\u001b[90m10\u001b[39m          4.9      3.1     1.5     0.1 setosa  short   setosa   -\u001b[31m0\u001b[39m\u001b[31m.\u001b[39m\u001b[31m943\u001b[39m   -\u001b[31m1\u001b[39m\u001b[31m.\u001b[39m\u001b[31m28\u001b[39m\n",
      "\u001b[90m# … with 140 more rows, 2 more variables: n_flowers <int>, PetalType <chr>, and\u001b[39m\n",
      "\u001b[90m#   abbreviated variable names ¹​Sepal.Width, ²​Petal.Length, ³​Petal.Width,\u001b[39m\n",
      "\u001b[90m#   ⁴​Species1, ⁵​PetalType1, ⁶​centered_SepLen, ⁷​PetLen_zscores\u001b[39m\n"
     ]
    }
   ],
   "source": [
    "dat %>% \n",
    "    group_by(Species, PetalType) %>%\n",
    "    print()"
   ]
  },
  {
   "cell_type": "markdown",
   "metadata": {
    "id": "DcONDAd00ZAb"
   },
   "source": [
    "Now, the key is that the split is implicit - as you can see above, we still only have one data.frame, but now it has the specification:\n",
    "\n",
    "`# Groups:   Species, PetalType [4]`\n",
    "\n",
    "Every function that you add after `group_by()` will be evaluated separately for each group, and then the results will be combined. Let's say you want to calculate the mean and sd for `Sepal.Length` and `Sepal.Width` separately for the four groups:"
   ]
  },
  {
   "cell_type": "code",
   "execution_count": 166,
   "metadata": {
    "colab": {
     "base_uri": "https://localhost:8080/",
     "height": 199
    },
    "executionInfo": {
     "elapsed": 2530,
     "status": "ok",
     "timestamp": 1611095670557,
     "user": {
      "displayName": "Patience Stevens",
      "photoUrl": "https://lh3.googleusercontent.com/a-/AOh14Gi-_9ZqhIFhAv1oMehJNvNuIKSTyrFQHzjxQKhx=s64",
      "userId": "01994571539255174942"
     },
     "user_tz": 300
    },
    "id": "_UxGcbX80ZAb",
    "outputId": "cc9a7607-fd6a-441f-c16e-7a2973626fdb"
   },
   "outputs": [
    {
     "name": "stderr",
     "output_type": "stream",
     "text": [
      "\u001b[1m\u001b[22m`summarise()` has grouped output by 'Species'. You can override using the\n",
      "`.groups` argument.\n"
     ]
    },
    {
     "data": {
      "text/html": [
       "<table class=\"dataframe\">\n",
       "<caption>A grouped_df: 4 × 6</caption>\n",
       "<thead>\n",
       "\t<tr><th scope=col>Species</th><th scope=col>PetalType</th><th scope=col>SepLen_mean</th><th scope=col>SepLen_sd</th><th scope=col>SepWid_mean</th><th scope=col>SepWid_sd</th></tr>\n",
       "\t<tr><th scope=col>&lt;fct&gt;</th><th scope=col>&lt;chr&gt;</th><th scope=col>&lt;dbl&gt;</th><th scope=col>&lt;dbl&gt;</th><th scope=col>&lt;dbl&gt;</th><th scope=col>&lt;dbl&gt;</th></tr>\n",
       "</thead>\n",
       "<tbody>\n",
       "\t<tr><td>setosa    </td><td>short</td><td>5.006000</td><td>0.3524897</td><td>3.428000</td><td>0.3524897</td></tr>\n",
       "\t<tr><td>versicolor</td><td>long </td><td>6.046512</td><td>0.4537405</td><td>2.823256</td><td>0.4537405</td></tr>\n",
       "\t<tr><td>versicolor</td><td>short</td><td>5.257143</td><td>0.3309438</td><td>2.442857</td><td>0.3309438</td></tr>\n",
       "\t<tr><td>virginica </td><td>long </td><td>6.588000</td><td>0.6358796</td><td>2.974000</td><td>0.6358796</td></tr>\n",
       "</tbody>\n",
       "</table>\n"
      ],
      "text/latex": [
       "A grouped\\_df: 4 × 6\n",
       "\\begin{tabular}{llllll}\n",
       " Species & PetalType & SepLen\\_mean & SepLen\\_sd & SepWid\\_mean & SepWid\\_sd\\\\\n",
       " <fct> & <chr> & <dbl> & <dbl> & <dbl> & <dbl>\\\\\n",
       "\\hline\n",
       "\t setosa     & short & 5.006000 & 0.3524897 & 3.428000 & 0.3524897\\\\\n",
       "\t versicolor & long  & 6.046512 & 0.4537405 & 2.823256 & 0.4537405\\\\\n",
       "\t versicolor & short & 5.257143 & 0.3309438 & 2.442857 & 0.3309438\\\\\n",
       "\t virginica  & long  & 6.588000 & 0.6358796 & 2.974000 & 0.6358796\\\\\n",
       "\\end{tabular}\n"
      ],
      "text/markdown": [
       "\n",
       "A grouped_df: 4 × 6\n",
       "\n",
       "| Species &lt;fct&gt; | PetalType &lt;chr&gt; | SepLen_mean &lt;dbl&gt; | SepLen_sd &lt;dbl&gt; | SepWid_mean &lt;dbl&gt; | SepWid_sd &lt;dbl&gt; |\n",
       "|---|---|---|---|---|---|\n",
       "| setosa     | short | 5.006000 | 0.3524897 | 3.428000 | 0.3524897 |\n",
       "| versicolor | long  | 6.046512 | 0.4537405 | 2.823256 | 0.4537405 |\n",
       "| versicolor | short | 5.257143 | 0.3309438 | 2.442857 | 0.3309438 |\n",
       "| virginica  | long  | 6.588000 | 0.6358796 | 2.974000 | 0.6358796 |\n",
       "\n"
      ],
      "text/plain": [
       "  Species    PetalType SepLen_mean SepLen_sd SepWid_mean SepWid_sd\n",
       "1 setosa     short     5.006000    0.3524897 3.428000    0.3524897\n",
       "2 versicolor long      6.046512    0.4537405 2.823256    0.4537405\n",
       "3 versicolor short     5.257143    0.3309438 2.442857    0.3309438\n",
       "4 virginica  long      6.588000    0.6358796 2.974000    0.6358796"
      ]
     },
     "metadata": {},
     "output_type": "display_data"
    }
   ],
   "source": [
    "dat  %>% \n",
    "    group_by(Species, PetalType)  %>% \n",
    "    summarise(SepLen_mean = mean(Sepal.Length),\n",
    "              SepLen_sd = sd(Sepal.Length),\n",
    "              SepWid_mean = mean(Sepal.Width),\n",
    "              SepWid_sd = sd(Sepal.Length))\n"
   ]
  },
  {
   "cell_type": "markdown",
   "metadata": {
    "id": "P2EDfqdQ0ZAb"
   },
   "source": [
    "And that's all the code you need. If you have tried to do something like this in base R (i.e., without `dplyr` commands), you know how involved it is! `dplyr` can make your code **much** cleaner. What is going on behind the scenes is that the data.frame is separated into multiple data.frames, one for each combination of variables. Then the `summarise` function is executed on each, and the resulting 4 data.frames are automatically combined into a new resulting data.frame.\n",
    "\n",
    "Note that you can ungroup using `ungroup()`.\n",
    "\n",
    "The `group_by` command works not only with `summarise`, but also with `mutate`. While with `summarise` it creates a new data.frame with summary results, with `mutate` it creates a new variable that is calculated separately for each group, and then combined into the final data.frame. This is useful, when, for example, we want to standardize variables within groups. Earlier we saw how to subtract the overall mean of `Sepal.Length` to center a variable. Let's say that we want to subtract the mean `Sepal.Length` of each species only from the flowers in that species. So, for our example we can do:"
   ]
  },
  {
   "cell_type": "code",
   "execution_count": 167,
   "metadata": {
    "colab": {
     "base_uri": "https://localhost:8080/",
     "height": 207
    },
    "executionInfo": {
     "elapsed": 2736,
     "status": "ok",
     "timestamp": 1611095670778,
     "user": {
      "displayName": "Patience Stevens",
      "photoUrl": "https://lh3.googleusercontent.com/a-/AOh14Gi-_9ZqhIFhAv1oMehJNvNuIKSTyrFQHzjxQKhx=s64",
      "userId": "01994571539255174942"
     },
     "user_tz": 300
    },
    "id": "5tlnhAp30ZAc",
    "outputId": "80e278a1-e092-4fc5-f657-fcd6bda08d4f"
   },
   "outputs": [
    {
     "data": {
      "text/html": [
       "<table class=\"dataframe\">\n",
       "<caption>A grouped_df: 6 × 3</caption>\n",
       "<thead>\n",
       "\t<tr><th scope=col>Species</th><th scope=col>SepLen_centered_overall</th><th scope=col>SepLen_centered_byspecies</th></tr>\n",
       "\t<tr><th scope=col>&lt;fct&gt;</th><th scope=col>&lt;dbl&gt;</th><th scope=col>&lt;dbl&gt;</th></tr>\n",
       "</thead>\n",
       "<tbody>\n",
       "\t<tr><td>setosa</td><td>-0.7433333</td><td> 0.094</td></tr>\n",
       "\t<tr><td>setosa</td><td>-0.9433333</td><td>-0.106</td></tr>\n",
       "\t<tr><td>setosa</td><td>-1.1433333</td><td>-0.306</td></tr>\n",
       "\t<tr><td>setosa</td><td>-1.2433333</td><td>-0.406</td></tr>\n",
       "\t<tr><td>setosa</td><td>-0.8433333</td><td>-0.006</td></tr>\n",
       "\t<tr><td>setosa</td><td>-0.4433333</td><td> 0.394</td></tr>\n",
       "</tbody>\n",
       "</table>\n"
      ],
      "text/latex": [
       "A grouped\\_df: 6 × 3\n",
       "\\begin{tabular}{lll}\n",
       " Species & SepLen\\_centered\\_overall & SepLen\\_centered\\_byspecies\\\\\n",
       " <fct> & <dbl> & <dbl>\\\\\n",
       "\\hline\n",
       "\t setosa & -0.7433333 &  0.094\\\\\n",
       "\t setosa & -0.9433333 & -0.106\\\\\n",
       "\t setosa & -1.1433333 & -0.306\\\\\n",
       "\t setosa & -1.2433333 & -0.406\\\\\n",
       "\t setosa & -0.8433333 & -0.006\\\\\n",
       "\t setosa & -0.4433333 &  0.394\\\\\n",
       "\\end{tabular}\n"
      ],
      "text/markdown": [
       "\n",
       "A grouped_df: 6 × 3\n",
       "\n",
       "| Species &lt;fct&gt; | SepLen_centered_overall &lt;dbl&gt; | SepLen_centered_byspecies &lt;dbl&gt; |\n",
       "|---|---|---|\n",
       "| setosa | -0.7433333 |  0.094 |\n",
       "| setosa | -0.9433333 | -0.106 |\n",
       "| setosa | -1.1433333 | -0.306 |\n",
       "| setosa | -1.2433333 | -0.406 |\n",
       "| setosa | -0.8433333 | -0.006 |\n",
       "| setosa | -0.4433333 |  0.394 |\n",
       "\n"
      ],
      "text/plain": [
       "  Species SepLen_centered_overall SepLen_centered_byspecies\n",
       "1 setosa  -0.7433333               0.094                   \n",
       "2 setosa  -0.9433333              -0.106                   \n",
       "3 setosa  -1.1433333              -0.306                   \n",
       "4 setosa  -1.2433333              -0.406                   \n",
       "5 setosa  -0.8433333              -0.006                   \n",
       "6 setosa  -0.4433333               0.394                   "
      ]
     },
     "metadata": {},
     "output_type": "display_data"
    }
   ],
   "source": [
    "dat_centered  <- dat  %>% \n",
    " #center values by mean for all data:\n",
    " mutate(SepLen_centered_overall = Sepal.Length - mean(Sepal.Length)) %>% \n",
    " group_by(Species)  %>% \n",
    " #center values by mean for each species:\n",
    " mutate(SepLen_centered_byspecies = Sepal.Length - mean(Sepal.Length)) %>% \n",
    " #just show the relevant variables (there are a lot of variables in this data.frame now!):\n",
    " select(Species, SepLen_centered_overall:SepLen_centered_byspecies)\n",
    "\n",
    "head(dat_centered)"
   ]
  },
  {
   "cell_type": "markdown",
   "metadata": {
    "id": "zIrqCevU0ZAc"
   },
   "source": [
    "The second column above gives us the sepal lengths centered over the whole sample, while the third line gives us the sepal lengths centered separately for each species. To illustrate, I will plot the means for each species under the two centerings (don't worry about the code if you don't know `ggplot2` yet):"
   ]
  },
  {
   "cell_type": "code",
   "execution_count": 45,
   "metadata": {
    "colab": {
     "base_uri": "https://localhost:8080/",
     "height": 437
    },
    "executionInfo": {
     "elapsed": 579,
     "status": "ok",
     "timestamp": 1611095726181,
     "user": {
      "displayName": "Patience Stevens",
      "photoUrl": "https://lh3.googleusercontent.com/a-/AOh14Gi-_9ZqhIFhAv1oMehJNvNuIKSTyrFQHzjxQKhx=s64",
      "userId": "01994571539255174942"
     },
     "user_tz": 300
    },
    "id": "c0HLucst0ZAc",
    "outputId": "7c332eac-0011-4ec9-9ea3-44e6d756205a"
   },
   "outputs": [
    {
     "data": {
      "image/png": "[encoded data removed]",
      "text/plain": [
       "plot without title"
      ]
     },
     "metadata": {
      "image/png": {
       "height": 420,
       "width": 420
      }
     },
     "output_type": "display_data"
    }
   ],
   "source": [
    "dat_centered %>% \n",
    "    pivot_longer(c(SepLen_centered_overall, SepLen_centered_byspecies)) %>% \n",
    "    ggplot(aes(Species, value, color=name)) +\n",
    "    stat_summary(geom='point',fun=mean, size = 2.5) +\n",
    "    theme_classic()"
   ]
  },
  {
   "cell_type": "markdown",
   "metadata": {
    "id": "NB9JgDMR0ZAc"
   },
   "source": [
    "This plot makes sense, because if you're calculating `SepLen_centering_byspecies` by subtracting the species mean from each `Sepal.Length` value, the mean of the new values should be 0 for every species. Meanwhile, the `SepLen_centering_overall` values were calculated by subtracting the same amount from all `Sepal.Length` values, regardless of species, so we still see variation for these means across species.\n",
    "\n",
    "There are a lot of other handy uses for `group_by`, which will be covered in future tutorials. "
   ]
  },
  {
   "cell_type": "markdown",
   "metadata": {},
   "source": [
    "## `nest()`: Explicitly group data"
   ]
  },
  {
   "cell_type": "markdown",
   "metadata": {},
   "source": [
    "Whereas `group_by()` implicitly groups data, `nest()` **explicitly** groups data. That is, it takes the subset of data associated with a certain grouping, and *nests* it within a single cell. That's right, it puts a whole data frame (ok technically a tibble) in a single cell.\n",
    "\n",
    "Replicating our example from above:"
   ]
  },
  {
   "cell_type": "code",
   "execution_count": 176,
   "metadata": {},
   "outputs": [
    {
     "data": {
      "text/html": [
       "<table class=\"dataframe\">\n",
       "<caption>A data.frame: 6 × 6</caption>\n",
       "<thead>\n",
       "\t<tr><th></th><th scope=col>Sepal.Length</th><th scope=col>Sepal.Width</th><th scope=col>Petal.Length</th><th scope=col>Petal.Width</th><th scope=col>Species</th><th scope=col>PetalType</th></tr>\n",
       "\t<tr><th></th><th scope=col>&lt;dbl&gt;</th><th scope=col>&lt;dbl&gt;</th><th scope=col>&lt;dbl&gt;</th><th scope=col>&lt;dbl&gt;</th><th scope=col>&lt;fct&gt;</th><th scope=col>&lt;chr&gt;</th></tr>\n",
       "</thead>\n",
       "<tbody>\n",
       "\t<tr><th scope=row>1</th><td>5.1</td><td>3.5</td><td>1.4</td><td>0.2</td><td>setosa</td><td>short</td></tr>\n",
       "\t<tr><th scope=row>2</th><td>4.9</td><td>3.0</td><td>1.4</td><td>0.2</td><td>setosa</td><td>short</td></tr>\n",
       "\t<tr><th scope=row>3</th><td>4.7</td><td>3.2</td><td>1.3</td><td>0.2</td><td>setosa</td><td>short</td></tr>\n",
       "\t<tr><th scope=row>4</th><td>4.6</td><td>3.1</td><td>1.5</td><td>0.2</td><td>setosa</td><td>short</td></tr>\n",
       "\t<tr><th scope=row>5</th><td>5.0</td><td>3.6</td><td>1.4</td><td>0.2</td><td>setosa</td><td>short</td></tr>\n",
       "\t<tr><th scope=row>6</th><td>5.4</td><td>3.9</td><td>1.7</td><td>0.4</td><td>setosa</td><td>short</td></tr>\n",
       "</tbody>\n",
       "</table>\n"
      ],
      "text/latex": [
       "A data.frame: 6 × 6\n",
       "\\begin{tabular}{r|llllll}\n",
       "  & Sepal.Length & Sepal.Width & Petal.Length & Petal.Width & Species & PetalType\\\\\n",
       "  & <dbl> & <dbl> & <dbl> & <dbl> & <fct> & <chr>\\\\\n",
       "\\hline\n",
       "\t1 & 5.1 & 3.5 & 1.4 & 0.2 & setosa & short\\\\\n",
       "\t2 & 4.9 & 3.0 & 1.4 & 0.2 & setosa & short\\\\\n",
       "\t3 & 4.7 & 3.2 & 1.3 & 0.2 & setosa & short\\\\\n",
       "\t4 & 4.6 & 3.1 & 1.5 & 0.2 & setosa & short\\\\\n",
       "\t5 & 5.0 & 3.6 & 1.4 & 0.2 & setosa & short\\\\\n",
       "\t6 & 5.4 & 3.9 & 1.7 & 0.4 & setosa & short\\\\\n",
       "\\end{tabular}\n"
      ],
      "text/markdown": [
       "\n",
       "A data.frame: 6 × 6\n",
       "\n",
       "| <!--/--> | Sepal.Length &lt;dbl&gt; | Sepal.Width &lt;dbl&gt; | Petal.Length &lt;dbl&gt; | Petal.Width &lt;dbl&gt; | Species &lt;fct&gt; | PetalType &lt;chr&gt; |\n",
       "|---|---|---|---|---|---|---|\n",
       "| 1 | 5.1 | 3.5 | 1.4 | 0.2 | setosa | short |\n",
       "| 2 | 4.9 | 3.0 | 1.4 | 0.2 | setosa | short |\n",
       "| 3 | 4.7 | 3.2 | 1.3 | 0.2 | setosa | short |\n",
       "| 4 | 4.6 | 3.1 | 1.5 | 0.2 | setosa | short |\n",
       "| 5 | 5.0 | 3.6 | 1.4 | 0.2 | setosa | short |\n",
       "| 6 | 5.4 | 3.9 | 1.7 | 0.4 | setosa | short |\n",
       "\n"
      ],
      "text/plain": [
       "  Sepal.Length Sepal.Width Petal.Length Petal.Width Species PetalType\n",
       "1 5.1          3.5         1.4          0.2         setosa  short    \n",
       "2 4.9          3.0         1.4          0.2         setosa  short    \n",
       "3 4.7          3.2         1.3          0.2         setosa  short    \n",
       "4 4.6          3.1         1.5          0.2         setosa  short    \n",
       "5 5.0          3.6         1.4          0.2         setosa  short    \n",
       "6 5.4          3.9         1.7          0.4         setosa  short    "
      ]
     },
     "metadata": {},
     "output_type": "display_data"
    }
   ],
   "source": [
    "#Initial dataframe\n",
    "nested  <- dat  %>% \n",
    "    select(c(Sepal.Length:Petal.Width, Species, PetalType))\n",
    "head(nested)"
   ]
  },
  {
   "cell_type": "code",
   "execution_count": 177,
   "metadata": {
    "scrolled": true
   },
   "outputs": [
    {
     "name": "stdout",
     "output_type": "stream",
     "text": [
      "\u001b[90m# A tibble: 3 × 2\u001b[39m\n",
      "  Species    data             \n",
      "  \u001b[3m\u001b[90m<fct>\u001b[39m\u001b[23m      \u001b[3m\u001b[90m<list>\u001b[39m\u001b[23m           \n",
      "\u001b[90m1\u001b[39m setosa     \u001b[90m<tibble [50 × 5]>\u001b[39m\n",
      "\u001b[90m2\u001b[39m versicolor \u001b[90m<tibble [50 × 5]>\u001b[39m\n",
      "\u001b[90m3\u001b[39m virginica  \u001b[90m<tibble [50 × 5]>\u001b[39m\n"
     ]
    }
   ],
   "source": [
    "#nesting\n",
    "nested %>% \n",
    "    nest(data = c(Sepal.Length:Petal.Width, PetalType)) %>% \n",
    "    print"
   ]
  },
  {
   "cell_type": "markdown",
   "metadata": {},
   "source": [
    "In this example, we had to specify in the `data =` argument which columns we wanted to nest. Because we **left out** \"Species\", this became our grouping variable, with all other data getting nested under the new `data` column.\n",
    "\n",
    "Now in the `data` column we have a 50 x 5 tibble for each species of iris. Let's see what's really in cell [1, 2]:"
   ]
  },
  {
   "cell_type": "code",
   "execution_count": 178,
   "metadata": {},
   "outputs": [
    {
     "data": {
      "text/html": [
       "<table class=\"dataframe\">\n",
       "<caption>A tibble: 6 × 5</caption>\n",
       "<thead>\n",
       "\t<tr><th scope=col>Sepal.Length</th><th scope=col>Sepal.Width</th><th scope=col>Petal.Length</th><th scope=col>Petal.Width</th><th scope=col>PetalType</th></tr>\n",
       "\t<tr><th scope=col>&lt;dbl&gt;</th><th scope=col>&lt;dbl&gt;</th><th scope=col>&lt;dbl&gt;</th><th scope=col>&lt;dbl&gt;</th><th scope=col>&lt;chr&gt;</th></tr>\n",
       "</thead>\n",
       "<tbody>\n",
       "\t<tr><td>5.1</td><td>3.5</td><td>1.4</td><td>0.2</td><td>short</td></tr>\n",
       "\t<tr><td>4.9</td><td>3.0</td><td>1.4</td><td>0.2</td><td>short</td></tr>\n",
       "\t<tr><td>4.7</td><td>3.2</td><td>1.3</td><td>0.2</td><td>short</td></tr>\n",
       "\t<tr><td>4.6</td><td>3.1</td><td>1.5</td><td>0.2</td><td>short</td></tr>\n",
       "\t<tr><td>5.0</td><td>3.6</td><td>1.4</td><td>0.2</td><td>short</td></tr>\n",
       "\t<tr><td>5.4</td><td>3.9</td><td>1.7</td><td>0.4</td><td>short</td></tr>\n",
       "</tbody>\n",
       "</table>\n"
      ],
      "text/latex": [
       "A tibble: 6 × 5\n",
       "\\begin{tabular}{lllll}\n",
       " Sepal.Length & Sepal.Width & Petal.Length & Petal.Width & PetalType\\\\\n",
       " <dbl> & <dbl> & <dbl> & <dbl> & <chr>\\\\\n",
       "\\hline\n",
       "\t 5.1 & 3.5 & 1.4 & 0.2 & short\\\\\n",
       "\t 4.9 & 3.0 & 1.4 & 0.2 & short\\\\\n",
       "\t 4.7 & 3.2 & 1.3 & 0.2 & short\\\\\n",
       "\t 4.6 & 3.1 & 1.5 & 0.2 & short\\\\\n",
       "\t 5.0 & 3.6 & 1.4 & 0.2 & short\\\\\n",
       "\t 5.4 & 3.9 & 1.7 & 0.4 & short\\\\\n",
       "\\end{tabular}\n"
      ],
      "text/markdown": [
       "\n",
       "A tibble: 6 × 5\n",
       "\n",
       "| Sepal.Length &lt;dbl&gt; | Sepal.Width &lt;dbl&gt; | Petal.Length &lt;dbl&gt; | Petal.Width &lt;dbl&gt; | PetalType &lt;chr&gt; |\n",
       "|---|---|---|---|---|\n",
       "| 5.1 | 3.5 | 1.4 | 0.2 | short |\n",
       "| 4.9 | 3.0 | 1.4 | 0.2 | short |\n",
       "| 4.7 | 3.2 | 1.3 | 0.2 | short |\n",
       "| 4.6 | 3.1 | 1.5 | 0.2 | short |\n",
       "| 5.0 | 3.6 | 1.4 | 0.2 | short |\n",
       "| 5.4 | 3.9 | 1.7 | 0.4 | short |\n",
       "\n"
      ],
      "text/plain": [
       "  Sepal.Length Sepal.Width Petal.Length Petal.Width PetalType\n",
       "1 5.1          3.5         1.4          0.2         short    \n",
       "2 4.9          3.0         1.4          0.2         short    \n",
       "3 4.7          3.2         1.3          0.2         short    \n",
       "4 4.6          3.1         1.5          0.2         short    \n",
       "5 5.0          3.6         1.4          0.2         short    \n",
       "6 5.4          3.9         1.7          0.4         short    "
      ]
     },
     "metadata": {},
     "output_type": "display_data"
    }
   ],
   "source": [
    "nested %>% \n",
    "    nest(data = c(Sepal.Length:Petal.Width, PetalType)) %>% \n",
    "    pull(data) %>% #tidyverse version of $ -- selecting data column\n",
    "    first()  %>%  #pulling first row\n",
    "    head() #just top 6 lines"
   ]
  },
  {
   "cell_type": "markdown",
   "metadata": {},
   "source": [
    "So we can see that a whole other tibble is comfortably waiting for us in a single cell!\n",
    "\n",
    "If we leave out both \"Species\" and \"PetalType\" from the `data = ` argument, we get more nests. This is analogous to grouping by multiple variables:"
   ]
  },
  {
   "cell_type": "code",
   "execution_count": 179,
   "metadata": {},
   "outputs": [
    {
     "name": "stdout",
     "output_type": "stream",
     "text": [
      "\u001b[90m# A tibble: 4 × 3\u001b[39m\n",
      "  Species    PetalType data             \n",
      "  \u001b[3m\u001b[90m<fct>\u001b[39m\u001b[23m      \u001b[3m\u001b[90m<chr>\u001b[39m\u001b[23m     \u001b[3m\u001b[90m<list>\u001b[39m\u001b[23m           \n",
      "\u001b[90m1\u001b[39m setosa     short     \u001b[90m<tibble [50 × 4]>\u001b[39m\n",
      "\u001b[90m2\u001b[39m versicolor long      \u001b[90m<tibble [43 × 4]>\u001b[39m\n",
      "\u001b[90m3\u001b[39m versicolor short     \u001b[90m<tibble [7 × 4]>\u001b[39m \n",
      "\u001b[90m4\u001b[39m virginica  long      \u001b[90m<tibble [50 × 4]>\u001b[39m\n"
     ]
    }
   ],
   "source": [
    "nested %>% \n",
    "    nest(data = c(Sepal.Length:Petal.Width)) %>% #re-nesting with different variables\n",
    "    print()"
   ]
  },
  {
   "cell_type": "markdown",
   "metadata": {},
   "source": [
    "You can even combine `group_by()` with `nest()` to streamline the variable selection. The below will nest all variables **aside from** the `group_by()` variable:"
   ]
  },
  {
   "cell_type": "code",
   "execution_count": 180,
   "metadata": {},
   "outputs": [
    {
     "name": "stdout",
     "output_type": "stream",
     "text": [
      "\u001b[90m# A tibble: 3 × 2\u001b[39m\n",
      "\u001b[90m# Groups:   Species [3]\u001b[39m\n",
      "  Species    data             \n",
      "  \u001b[3m\u001b[90m<fct>\u001b[39m\u001b[23m      \u001b[3m\u001b[90m<list>\u001b[39m\u001b[23m           \n",
      "\u001b[90m1\u001b[39m setosa     \u001b[90m<tibble [50 × 5]>\u001b[39m\n",
      "\u001b[90m2\u001b[39m versicolor \u001b[90m<tibble [50 × 5]>\u001b[39m\n",
      "\u001b[90m3\u001b[39m virginica  \u001b[90m<tibble [50 × 5]>\u001b[39m\n"
     ]
    }
   ],
   "source": [
    "nested  %>% \n",
    "    group_by(Species) %>% \n",
    "    nest() %>% \n",
    "    print()"
   ]
  },
  {
   "cell_type": "markdown",
   "metadata": {},
   "source": [
    "Note that any variables supplied to the `nest()` function above would override the `group_by()` variables.\n",
    "\n",
    "So what is the difference between using `group_by()` versus `nest()`? For most of your operations, `group_by()` will probably be your go-to. However, `nest()` comes into play when the operations you need to perform over each group require a data frame as input (e.g., models). We'll see some examples of this below with `map()`."
   ]
  },
  {
   "cell_type": "markdown",
   "metadata": {},
   "source": [
    "## `map()`: Perform same function on each element of list or vector"
   ]
  },
  {
   "cell_type": "markdown",
   "metadata": {
    "id": "2VrX-f-A0ZAk"
   },
   "source": [
    "`map()` works by applying a given function across different elements of a list or vector. If you are familiar with `for` loops, this is conceptually similar to looping a function over, e.g., lines of data. However, `map()` is *vectorized*. This is a fancy way of saying it's implemented using a lower-level programming language. This makes it more efficient than loops.\n",
    "\n",
    "(Note: `map` operates basically the same as the `*apply` family of functions (e.g., `lapply()`, `sapply`, etc.) but since `map` is part of the tidyverse, it plays better with tidyverse grammar and is more standardized.)\n",
    "\n",
    "`map()` and `nest()` work really well together. Here, we'll use them to fit a model for different subgroups and then extract the results of all our models. \n",
    "\n",
    "We'll use our nested data frame from above, with both Species and PetalType as nesting factors:"
   ]
  },
  {
   "cell_type": "code",
   "execution_count": 181,
   "metadata": {},
   "outputs": [
    {
     "name": "stdout",
     "output_type": "stream",
     "text": [
      "\u001b[90m# A tibble: 4 × 3\u001b[39m\n",
      "\u001b[90m# Groups:   Species, PetalType [4]\u001b[39m\n",
      "  Species    PetalType data             \n",
      "  \u001b[3m\u001b[90m<fct>\u001b[39m\u001b[23m      \u001b[3m\u001b[90m<chr>\u001b[39m\u001b[23m     \u001b[3m\u001b[90m<list>\u001b[39m\u001b[23m           \n",
      "\u001b[90m1\u001b[39m setosa     short     \u001b[90m<tibble [50 × 4]>\u001b[39m\n",
      "\u001b[90m2\u001b[39m versicolor long      \u001b[90m<tibble [43 × 4]>\u001b[39m\n",
      "\u001b[90m3\u001b[39m versicolor short     \u001b[90m<tibble [7 × 4]>\u001b[39m \n",
      "\u001b[90m4\u001b[39m virginica  long      \u001b[90m<tibble [50 × 4]>\u001b[39m\n"
     ]
    }
   ],
   "source": [
    "nested  <- nested %>% \n",
    "    group_by(Species, PetalType) %>% \n",
    "    nest() %>% \n",
    "    print()"
   ]
  },
  {
   "cell_type": "markdown",
   "metadata": {},
   "source": [
    "`map` takes the form:\n",
    "```\n",
    "map(data, function)\n",
    "```\n",
    "`data` is a list/vector. We want our function to apply to each element of this list/vector.\n",
    "\n",
    "`function` can be a pre-existing function, or we can create a short custom function right within `map` using what we learned in our tutorial on writing functions.\n",
    "\n",
    "Here, we'll fit a linear model to predict Sepal.Length from Petal.Length:"
   ]
  },
  {
   "cell_type": "code",
   "execution_count": 182,
   "metadata": {},
   "outputs": [
    {
     "name": "stdout",
     "output_type": "stream",
     "text": [
      "\u001b[90m# A tibble: 4 × 4\u001b[39m\n",
      "\u001b[90m# Groups:   Species, PetalType [4]\u001b[39m\n",
      "  Species    PetalType data              model_fit\n",
      "  \u001b[3m\u001b[90m<fct>\u001b[39m\u001b[23m      \u001b[3m\u001b[90m<chr>\u001b[39m\u001b[23m     \u001b[3m\u001b[90m<list>\u001b[39m\u001b[23m            \u001b[3m\u001b[90m<list>\u001b[39m\u001b[23m   \n",
      "\u001b[90m1\u001b[39m setosa     short     \u001b[90m<tibble [50 × 4]>\u001b[39m \u001b[90m<lm>\u001b[39m     \n",
      "\u001b[90m2\u001b[39m versicolor long      \u001b[90m<tibble [43 × 4]>\u001b[39m \u001b[90m<lm>\u001b[39m     \n",
      "\u001b[90m3\u001b[39m versicolor short     \u001b[90m<tibble [7 × 4]>\u001b[39m  \u001b[90m<lm>\u001b[39m     \n",
      "\u001b[90m4\u001b[39m virginica  long      \u001b[90m<tibble [50 × 4]>\u001b[39m \u001b[90m<lm>\u001b[39m     \n"
     ]
    }
   ],
   "source": [
    "nested_lm  <- nested  %>% \n",
    "    mutate(model_fit = map(data, #column name in nested df\n",
    "                           function(nest_df) lm(Sepal.Length ~ Petal.Length, data=nest_df))) \n",
    "\n",
    "print(nested_lm)"
   ]
  },
  {
   "cell_type": "markdown",
   "metadata": {},
   "source": [
    "Note that in this case, the first `data` argument of `map` refers to the name of our nested column in our dataset. However within the function, `data = ` is a built-in argument for the `lm` function.\n",
    "\n",
    "We can see we've added another column in which each cell contains the specified linear model. Let's see what that really looks like! (This code just pulls the top two lines of the lm object):"
   ]
  },
  {
   "cell_type": "code",
   "execution_count": 183,
   "metadata": {},
   "outputs": [
    {
     "data": {
      "text/html": [
       "<dl>\n",
       "\t<dt>$coefficients</dt>\n",
       "\t\t<dd><style>\n",
       ".dl-inline {width: auto; margin:0; padding: 0}\n",
       ".dl-inline>dt, .dl-inline>dd {float: none; width: auto; display: inline-block}\n",
       ".dl-inline>dt::after {content: \":\\0020\"; padding-right: .5ex}\n",
       ".dl-inline>dt:not(:first-of-type) {padding-left: .5ex}\n",
       "</style><dl class=dl-inline><dt>(Intercept)</dt><dd>4.21316822303424</dd><dt>Petal.Length</dt><dd>0.542292597103803</dd></dl>\n",
       "</dd>\n",
       "\t<dt>$residuals</dt>\n",
       "\t\t<dd><style>\n",
       ".dl-inline {width: auto; margin:0; padding: 0}\n",
       ".dl-inline>dt, .dl-inline>dd {float: none; width: auto; display: inline-block}\n",
       ".dl-inline>dt::after {content: \":\\0020\"; padding-right: .5ex}\n",
       ".dl-inline>dt:not(:first-of-type) {padding-left: .5ex}\n",
       "</style><dl class=dl-inline><dt>1</dt><dd>0.127622141020428</dd><dt>2</dt><dd>-0.0723778589795636</dd><dt>3</dt><dd>-0.218148599269184</dd><dt>4</dt><dd>-0.426607118689945</dd><dt>5</dt><dd>0.027622141020436</dd><dt>6</dt><dd>0.264934361889295</dd><dt>7</dt><dd>-0.372377858979564</dd><dt>8</dt><dd>-0.0266071186899444</dd><dt>9</dt><dd>-0.572377858979564</dd><dt>10</dt><dd>-0.126607118689944</dd><dt>11</dt><dd>0.373392881310056</dd><dt>12</dt><dd>-0.280836378400325</dd><dt>13</dt><dd>-0.172377858979564</dd><dt>14</dt><dd>-0.509690079848423</dd><dt>15</dt><dd>0.936080660441196</dd><dt>16</dt><dd>0.673392881310056</dd><dt>17</dt><dd>0.481851400730817</dd><dt>18</dt><dd>0.127622141020436</dd><dt>19</dt><dd>0.564934361889295</dd><dt>20</dt><dd>0.0733928813100553</dd><dt>21</dt><dd>0.264934361889295</dd><dt>22</dt><dd>0.0733928813100553</dd><dt>23</dt><dd>-0.155460820138043</dd><dt>24</dt><dd>-0.0350656381107053</dd><dt>25</dt><dd>-0.443524157531466</dd><dt>26</dt><dd>-0.0808363784003247</dd><dt>27</dt><dd>-0.0808363784003247</dd><dt>28</dt><dd>0.173392881310056</dd><dt>29</dt><dd>0.227622141020436</dd><dt>30</dt><dd>-0.380836378400324</dd><dt>31</dt><dd>-0.280836378400325</dd><dt>32</dt><dd>0.373392881310056</dd><dt>33</dt><dd>0.173392881310056</dd><dt>34</dt><dd>0.527622141020436</dd><dt>35</dt><dd>-0.126607118689944</dd><dt>36</dt><dd>0.136080660441197</dd><dt>37</dt><dd>0.581851400730816</dd><dt>38</dt><dd>-0.0723778589795637</dd><dt>39</dt><dd>-0.518148599269183</dd><dt>40</dt><dd>0.0733928813100553</dd><dt>41</dt><dd>0.0818514007308162</dd><dt>42</dt><dd>-0.418148599269184</dd><dt>43</dt><dd>-0.518148599269183</dd><dt>44</dt><dd>-0.0808363784003247</dd><dt>45</dt><dd>-0.143524157531466</dd><dt>46</dt><dd>-0.172377858979564</dd><dt>47</dt><dd>0.0191636215996749</dd><dt>48</dt><dd>-0.372377858979564</dd><dt>49</dt><dd>0.273392881310055</dd><dt>50</dt><dd>0.027622141020436</dd></dl>\n",
       "</dd>\n",
       "</dl>\n"
      ],
      "text/latex": [
       "\\begin{description}\n",
       "\\item[\\$coefficients] \\begin{description*}\n",
       "\\item[(Intercept)] 4.21316822303424\n",
       "\\item[Petal.Length] 0.542292597103803\n",
       "\\end{description*}\n",
       "\n",
       "\\item[\\$residuals] \\begin{description*}\n",
       "\\item[1] 0.127622141020428\n",
       "\\item[2] -0.0723778589795636\n",
       "\\item[3] -0.218148599269184\n",
       "\\item[4] -0.426607118689945\n",
       "\\item[5] 0.027622141020436\n",
       "\\item[6] 0.264934361889295\n",
       "\\item[7] -0.372377858979564\n",
       "\\item[8] -0.0266071186899444\n",
       "\\item[9] -0.572377858979564\n",
       "\\item[10] -0.126607118689944\n",
       "\\item[11] 0.373392881310056\n",
       "\\item[12] -0.280836378400325\n",
       "\\item[13] -0.172377858979564\n",
       "\\item[14] -0.509690079848423\n",
       "\\item[15] 0.936080660441196\n",
       "\\item[16] 0.673392881310056\n",
       "\\item[17] 0.481851400730817\n",
       "\\item[18] 0.127622141020436\n",
       "\\item[19] 0.564934361889295\n",
       "\\item[20] 0.0733928813100553\n",
       "\\item[21] 0.264934361889295\n",
       "\\item[22] 0.0733928813100553\n",
       "\\item[23] -0.155460820138043\n",
       "\\item[24] -0.0350656381107053\n",
       "\\item[25] -0.443524157531466\n",
       "\\item[26] -0.0808363784003247\n",
       "\\item[27] -0.0808363784003247\n",
       "\\item[28] 0.173392881310056\n",
       "\\item[29] 0.227622141020436\n",
       "\\item[30] -0.380836378400324\n",
       "\\item[31] -0.280836378400325\n",
       "\\item[32] 0.373392881310056\n",
       "\\item[33] 0.173392881310056\n",
       "\\item[34] 0.527622141020436\n",
       "\\item[35] -0.126607118689944\n",
       "\\item[36] 0.136080660441197\n",
       "\\item[37] 0.581851400730816\n",
       "\\item[38] -0.0723778589795637\n",
       "\\item[39] -0.518148599269183\n",
       "\\item[40] 0.0733928813100553\n",
       "\\item[41] 0.0818514007308162\n",
       "\\item[42] -0.418148599269184\n",
       "\\item[43] -0.518148599269183\n",
       "\\item[44] -0.0808363784003247\n",
       "\\item[45] -0.143524157531466\n",
       "\\item[46] -0.172377858979564\n",
       "\\item[47] 0.0191636215996749\n",
       "\\item[48] -0.372377858979564\n",
       "\\item[49] 0.273392881310055\n",
       "\\item[50] 0.027622141020436\n",
       "\\end{description*}\n",
       "\n",
       "\\end{description}\n"
      ],
      "text/markdown": [
       "$coefficients\n",
       ":   (Intercept)\n",
       ":   4.21316822303424Petal.Length\n",
       ":   0.542292597103803\n",
       "\n",
       "\n",
       "$residuals\n",
       ":   1\n",
       ":   0.1276221410204282\n",
       ":   -0.07237785897956363\n",
       ":   -0.2181485992691844\n",
       ":   -0.4266071186899455\n",
       ":   0.0276221410204366\n",
       ":   0.2649343618892957\n",
       ":   -0.3723778589795648\n",
       ":   -0.02660711868994449\n",
       ":   -0.57237785897956410\n",
       ":   -0.12660711868994411\n",
       ":   0.37339288131005612\n",
       ":   -0.28083637840032513\n",
       ":   -0.17237785897956414\n",
       ":   -0.50969007984842315\n",
       ":   0.93608066044119616\n",
       ":   0.67339288131005617\n",
       ":   0.48185140073081718\n",
       ":   0.12762214102043619\n",
       ":   0.56493436188929520\n",
       ":   0.073392881310055321\n",
       ":   0.26493436188929522\n",
       ":   0.073392881310055323\n",
       ":   -0.15546082013804324\n",
       ":   -0.035065638110705325\n",
       ":   -0.44352415753146626\n",
       ":   -0.080836378400324727\n",
       ":   -0.080836378400324728\n",
       ":   0.17339288131005629\n",
       ":   0.22762214102043630\n",
       ":   -0.38083637840032431\n",
       ":   -0.28083637840032532\n",
       ":   0.37339288131005633\n",
       ":   0.17339288131005634\n",
       ":   0.52762214102043635\n",
       ":   -0.12660711868994436\n",
       ":   0.13608066044119737\n",
       ":   0.58185140073081638\n",
       ":   -0.072377858979563739\n",
       ":   -0.51814859926918340\n",
       ":   0.073392881310055341\n",
       ":   0.081851400730816242\n",
       ":   -0.41814859926918443\n",
       ":   -0.51814859926918344\n",
       ":   -0.080836378400324745\n",
       ":   -0.14352415753146646\n",
       ":   -0.17237785897956447\n",
       ":   0.019163621599674948\n",
       ":   -0.37237785897956449\n",
       ":   0.27339288131005550\n",
       ":   0.027622141020436\n",
       "\n",
       "\n",
       "\n",
       "\n"
      ],
      "text/plain": [
       "$coefficients\n",
       " (Intercept) Petal.Length \n",
       "   4.2131682    0.5422926 \n",
       "\n",
       "$residuals\n",
       "          1           2           3           4           5           6 \n",
       " 0.12762214 -0.07237786 -0.21814860 -0.42660712  0.02762214  0.26493436 \n",
       "          7           8           9          10          11          12 \n",
       "-0.37237786 -0.02660712 -0.57237786 -0.12660712  0.37339288 -0.28083638 \n",
       "         13          14          15          16          17          18 \n",
       "-0.17237786 -0.50969008  0.93608066  0.67339288  0.48185140  0.12762214 \n",
       "         19          20          21          22          23          24 \n",
       " 0.56493436  0.07339288  0.26493436  0.07339288 -0.15546082 -0.03506564 \n",
       "         25          26          27          28          29          30 \n",
       "-0.44352416 -0.08083638 -0.08083638  0.17339288  0.22762214 -0.38083638 \n",
       "         31          32          33          34          35          36 \n",
       "-0.28083638  0.37339288  0.17339288  0.52762214 -0.12660712  0.13608066 \n",
       "         37          38          39          40          41          42 \n",
       " 0.58185140 -0.07237786 -0.51814860  0.07339288  0.08185140 -0.41814860 \n",
       "         43          44          45          46          47          48 \n",
       "-0.51814860 -0.08083638 -0.14352416 -0.17237786  0.01916362 -0.37237786 \n",
       "         49          50 \n",
       " 0.27339288  0.02762214 \n"
      ]
     },
     "metadata": {},
     "output_type": "display_data"
    }
   ],
   "source": [
    "nested_lm %>%  \n",
    "    pull(model_fit) %>% #tidyverse version of $ -- selecting model_fit column\n",
    "    first()  %>%  #pulling first row\n",
    "    head(2) #just top 2 lines of nested df"
   ]
  },
  {
   "cell_type": "markdown",
   "metadata": {},
   "source": [
    "Super ugly, but there's (part of) our model! \n",
    "\n",
    "Now, using what we learned in our tutorial on data objects, we can extract interesting information from each of these nested models. Here we create yet another nested column, where each cell holds the coefficients for the respective model."
   ]
  },
  {
   "cell_type": "code",
   "execution_count": 184,
   "metadata": {
    "scrolled": true
   },
   "outputs": [
    {
     "name": "stdout",
     "output_type": "stream",
     "text": [
      "\u001b[90m# A tibble: 4 × 5\u001b[39m\n",
      "\u001b[90m# Groups:   Species, PetalType [4]\u001b[39m\n",
      "  Species    PetalType data              model_fit coef        \n",
      "  \u001b[3m\u001b[90m<fct>\u001b[39m\u001b[23m      \u001b[3m\u001b[90m<chr>\u001b[39m\u001b[23m     \u001b[3m\u001b[90m<list>\u001b[39m\u001b[23m            \u001b[3m\u001b[90m<list>\u001b[39m\u001b[23m    \u001b[3m\u001b[90m<list>\u001b[39m\u001b[23m      \n",
      "\u001b[90m1\u001b[39m setosa     short     \u001b[90m<tibble [50 × 4]>\u001b[39m \u001b[90m<lm>\u001b[39m      \u001b[90m<df [2 × 2]>\u001b[39m\n",
      "\u001b[90m2\u001b[39m versicolor long      \u001b[90m<tibble [43 × 4]>\u001b[39m \u001b[90m<lm>\u001b[39m      \u001b[90m<df [2 × 2]>\u001b[39m\n",
      "\u001b[90m3\u001b[39m versicolor short     \u001b[90m<tibble [7 × 4]>\u001b[39m  \u001b[90m<lm>\u001b[39m      \u001b[90m<df [2 × 2]>\u001b[39m\n",
      "\u001b[90m4\u001b[39m virginica  long      \u001b[90m<tibble [50 × 4]>\u001b[39m \u001b[90m<lm>\u001b[39m      \u001b[90m<df [2 × 2]>\u001b[39m\n"
     ]
    }
   ],
   "source": [
    "nested_lm <- nested_lm  %>% \n",
    "        mutate(coef = map(model_fit, #now iterating over \"model_fit\" instead of \"data\"\n",
    "                      #a function to create data frame of coef names/values:\n",
    "                      function(fit) data.frame(name = names(fit$coefficients), \n",
    "                                               beta = fit$coefficients)))\n",
    "print(nested_lm)"
   ]
  },
  {
   "cell_type": "markdown",
   "metadata": {},
   "source": [
    "Finally, we can unnest the columns we're interested in. "
   ]
  },
  {
   "cell_type": "code",
   "execution_count": 185,
   "metadata": {},
   "outputs": [
    {
     "name": "stdout",
     "output_type": "stream",
     "text": [
      "\u001b[90m# A tibble: 8 × 6\u001b[39m\n",
      "\u001b[90m# Groups:   Species, PetalType [4]\u001b[39m\n",
      "  Species    PetalType data              model_fit name          beta\n",
      "  \u001b[3m\u001b[90m<fct>\u001b[39m\u001b[23m      \u001b[3m\u001b[90m<chr>\u001b[39m\u001b[23m     \u001b[3m\u001b[90m<list>\u001b[39m\u001b[23m            \u001b[3m\u001b[90m<list>\u001b[39m\u001b[23m    \u001b[3m\u001b[90m<chr>\u001b[39m\u001b[23m        \u001b[3m\u001b[90m<dbl>\u001b[39m\u001b[23m\n",
      "\u001b[90m1\u001b[39m setosa     short     \u001b[90m<tibble [50 × 4]>\u001b[39m \u001b[90m<lm>\u001b[39m      (Intercept)  4.21 \n",
      "\u001b[90m2\u001b[39m setosa     short     \u001b[90m<tibble [50 × 4]>\u001b[39m \u001b[90m<lm>\u001b[39m      Petal.Length 0.542\n",
      "\u001b[90m3\u001b[39m versicolor long      \u001b[90m<tibble [43 × 4]>\u001b[39m \u001b[90m<lm>\u001b[39m      (Intercept)  2.28 \n",
      "\u001b[90m4\u001b[39m versicolor long      \u001b[90m<tibble [43 × 4]>\u001b[39m \u001b[90m<lm>\u001b[39m      Petal.Length 0.858\n",
      "\u001b[90m5\u001b[39m versicolor short     \u001b[90m<tibble [7 × 4]>\u001b[39m  \u001b[90m<lm>\u001b[39m      (Intercept)  2.30 \n",
      "\u001b[90m6\u001b[39m versicolor short     \u001b[90m<tibble [7 × 4]>\u001b[39m  \u001b[90m<lm>\u001b[39m      Petal.Length 0.865\n",
      "\u001b[90m7\u001b[39m virginica  long      \u001b[90m<tibble [50 × 4]>\u001b[39m \u001b[90m<lm>\u001b[39m      (Intercept)  1.06 \n",
      "\u001b[90m8\u001b[39m virginica  long      \u001b[90m<tibble [50 × 4]>\u001b[39m \u001b[90m<lm>\u001b[39m      Petal.Length 0.996\n"
     ]
    }
   ],
   "source": [
    "nested_lm  <- nested_lm  %>% \n",
    "        unnest(coef)\n",
    "\n",
    "print(nested_lm)"
   ]
  },
  {
   "cell_type": "markdown",
   "metadata": {},
   "source": [
    "A few things to notice here. First, we went from a 4 x 6 tibble to an 8 x 6 tibble, because each Species/PetalType combination now has two rows instead of just one. Second, our `data` and `model_fit` columns are still nested. And we can clearly see that the link between Petal.Length and Sepal.Length differs based on which Species/PetalType combo we're looking at!\n",
    "\n",
    "You can find additional information on this approach here: http://omaymas.github.io/Climate_Change_ExpAnalysis/"
   ]
  },
  {
   "cell_type": "markdown",
   "metadata": {
    "id": "Nzshj3o60ZAc"
   },
   "source": [
    "---\n",
    "# Restructuring data.frames: long to wide, wide to long, and merging"
   ]
  },
  {
   "cell_type": "markdown",
   "metadata": {
    "id": "7KCb-yDtnyUJ"
   },
   "source": [
    "Recall that **long data** means we have one row for each observation, while **wide data** has one row for each subject.\n",
    "\n",
    "In this section we'll use the `dplyr` functions `pivot_longer` (formerly `gather`) and `pivot_wider` (formerly `spread`) to switch between short and long forms of the data. We'll also try out combining data.frames using the `*_join` family of functions. \n",
    "\n",
    "The `iris` data set has multiple measurements per row, so it is currently in the \"wide\" format. To put it in long format, we can make each row only have one measurement, and then add a variable that specifies whether that measurment is for \"sepal\" or \"petal\", \"length\" or \"width\". \n",
    "\n",
    "We'll start by making a new duplicate of the `iris` dataset so we don't have to deal with all the messy variables we created. We'll aslo add an ID, `flower.num` so we can keep things in order while we restructure."
   ]
  },
  {
   "cell_type": "code",
   "execution_count": 186,
   "metadata": {
    "colab": {
     "base_uri": "https://localhost:8080/",
     "height": 207
    },
    "executionInfo": {
     "elapsed": 285,
     "status": "ok",
     "timestamp": 1611099739020,
     "user": {
      "displayName": "Patience Stevens",
      "photoUrl": "https://lh3.googleusercontent.com/a-/AOh14Gi-_9ZqhIFhAv1oMehJNvNuIKSTyrFQHzjxQKhx=s64",
      "userId": "01994571539255174942"
     },
     "user_tz": 300
    },
    "id": "aRWGmwp9rkgI",
    "outputId": "843ab4f4-b87c-4ae8-ea44-6d38c4cd3b48"
   },
   "outputs": [
    {
     "data": {
      "text/html": [
       "<table class=\"dataframe\">\n",
       "<caption>A data.frame: 6 × 6</caption>\n",
       "<thead>\n",
       "\t<tr><th></th><th scope=col>Sepal.Length</th><th scope=col>Sepal.Width</th><th scope=col>Petal.Length</th><th scope=col>Petal.Width</th><th scope=col>Species</th><th scope=col>flower.num</th></tr>\n",
       "\t<tr><th></th><th scope=col>&lt;dbl&gt;</th><th scope=col>&lt;dbl&gt;</th><th scope=col>&lt;dbl&gt;</th><th scope=col>&lt;dbl&gt;</th><th scope=col>&lt;fct&gt;</th><th scope=col>&lt;int&gt;</th></tr>\n",
       "</thead>\n",
       "<tbody>\n",
       "\t<tr><th scope=row>1</th><td>5.1</td><td>3.5</td><td>1.4</td><td>0.2</td><td>setosa</td><td>1</td></tr>\n",
       "\t<tr><th scope=row>2</th><td>4.9</td><td>3.0</td><td>1.4</td><td>0.2</td><td>setosa</td><td>2</td></tr>\n",
       "\t<tr><th scope=row>3</th><td>4.7</td><td>3.2</td><td>1.3</td><td>0.2</td><td>setosa</td><td>3</td></tr>\n",
       "\t<tr><th scope=row>4</th><td>4.6</td><td>3.1</td><td>1.5</td><td>0.2</td><td>setosa</td><td>4</td></tr>\n",
       "\t<tr><th scope=row>5</th><td>5.0</td><td>3.6</td><td>1.4</td><td>0.2</td><td>setosa</td><td>5</td></tr>\n",
       "\t<tr><th scope=row>6</th><td>5.4</td><td>3.9</td><td>1.7</td><td>0.4</td><td>setosa</td><td>6</td></tr>\n",
       "</tbody>\n",
       "</table>\n"
      ],
      "text/latex": [
       "A data.frame: 6 × 6\n",
       "\\begin{tabular}{r|llllll}\n",
       "  & Sepal.Length & Sepal.Width & Petal.Length & Petal.Width & Species & flower.num\\\\\n",
       "  & <dbl> & <dbl> & <dbl> & <dbl> & <fct> & <int>\\\\\n",
       "\\hline\n",
       "\t1 & 5.1 & 3.5 & 1.4 & 0.2 & setosa & 1\\\\\n",
       "\t2 & 4.9 & 3.0 & 1.4 & 0.2 & setosa & 2\\\\\n",
       "\t3 & 4.7 & 3.2 & 1.3 & 0.2 & setosa & 3\\\\\n",
       "\t4 & 4.6 & 3.1 & 1.5 & 0.2 & setosa & 4\\\\\n",
       "\t5 & 5.0 & 3.6 & 1.4 & 0.2 & setosa & 5\\\\\n",
       "\t6 & 5.4 & 3.9 & 1.7 & 0.4 & setosa & 6\\\\\n",
       "\\end{tabular}\n"
      ],
      "text/markdown": [
       "\n",
       "A data.frame: 6 × 6\n",
       "\n",
       "| <!--/--> | Sepal.Length &lt;dbl&gt; | Sepal.Width &lt;dbl&gt; | Petal.Length &lt;dbl&gt; | Petal.Width &lt;dbl&gt; | Species &lt;fct&gt; | flower.num &lt;int&gt; |\n",
       "|---|---|---|---|---|---|---|\n",
       "| 1 | 5.1 | 3.5 | 1.4 | 0.2 | setosa | 1 |\n",
       "| 2 | 4.9 | 3.0 | 1.4 | 0.2 | setosa | 2 |\n",
       "| 3 | 4.7 | 3.2 | 1.3 | 0.2 | setosa | 3 |\n",
       "| 4 | 4.6 | 3.1 | 1.5 | 0.2 | setosa | 4 |\n",
       "| 5 | 5.0 | 3.6 | 1.4 | 0.2 | setosa | 5 |\n",
       "| 6 | 5.4 | 3.9 | 1.7 | 0.4 | setosa | 6 |\n",
       "\n"
      ],
      "text/plain": [
       "  Sepal.Length Sepal.Width Petal.Length Petal.Width Species flower.num\n",
       "1 5.1          3.5         1.4          0.2         setosa  1         \n",
       "2 4.9          3.0         1.4          0.2         setosa  2         \n",
       "3 4.7          3.2         1.3          0.2         setosa  3         \n",
       "4 4.6          3.1         1.5          0.2         setosa  4         \n",
       "5 5.0          3.6         1.4          0.2         setosa  5         \n",
       "6 5.4          3.9         1.7          0.4         setosa  6         "
      ]
     },
     "metadata": {},
     "output_type": "display_data"
    }
   ],
   "source": [
    "newdat <- iris # new duplicate\n",
    "newdat$flower.num <- 1:nrow(newdat) # add ID\n",
    "head(newdat)"
   ]
  },
  {
   "cell_type": "markdown",
   "metadata": {},
   "source": [
    "### `pivot_longer()`\n",
    "\n",
    "`pivot_longer` takes the arguments:\n",
    "```\n",
    "pivot_longer(data, cols, names_to = \"names\", values_to = \"values\"\n",
    "```\n",
    "Where:\n",
    "* `data` is (always!) your data object\n",
    "* `cols` are the columns you would like to put in long format\n",
    "* `names_to` specifies the new name of your column containing the rest of your variable names (formerly \"key\" in `gather`)\n",
    "* `values_to` specifies the name of the column containing the actual values\n",
    "\n",
    "It's easier to just see it:"
   ]
  },
  {
   "cell_type": "code",
   "execution_count": 187,
   "metadata": {},
   "outputs": [
    {
     "data": {
      "text/html": [
       "<table class=\"dataframe\">\n",
       "<caption>A tibble: 6 × 4</caption>\n",
       "<thead>\n",
       "\t<tr><th scope=col>Species</th><th scope=col>flower.num</th><th scope=col>iris_attribute</th><th scope=col>value</th></tr>\n",
       "\t<tr><th scope=col>&lt;fct&gt;</th><th scope=col>&lt;int&gt;</th><th scope=col>&lt;chr&gt;</th><th scope=col>&lt;dbl&gt;</th></tr>\n",
       "</thead>\n",
       "<tbody>\n",
       "\t<tr><td>setosa</td><td>1</td><td>Sepal.Length</td><td>5.1</td></tr>\n",
       "\t<tr><td>setosa</td><td>1</td><td>Sepal.Width </td><td>3.5</td></tr>\n",
       "\t<tr><td>setosa</td><td>1</td><td>Petal.Length</td><td>1.4</td></tr>\n",
       "\t<tr><td>setosa</td><td>1</td><td>Petal.Width </td><td>0.2</td></tr>\n",
       "\t<tr><td>setosa</td><td>2</td><td>Sepal.Length</td><td>4.9</td></tr>\n",
       "\t<tr><td>setosa</td><td>2</td><td>Sepal.Width </td><td>3.0</td></tr>\n",
       "</tbody>\n",
       "</table>\n"
      ],
      "text/latex": [
       "A tibble: 6 × 4\n",
       "\\begin{tabular}{llll}\n",
       " Species & flower.num & iris\\_attribute & value\\\\\n",
       " <fct> & <int> & <chr> & <dbl>\\\\\n",
       "\\hline\n",
       "\t setosa & 1 & Sepal.Length & 5.1\\\\\n",
       "\t setosa & 1 & Sepal.Width  & 3.5\\\\\n",
       "\t setosa & 1 & Petal.Length & 1.4\\\\\n",
       "\t setosa & 1 & Petal.Width  & 0.2\\\\\n",
       "\t setosa & 2 & Sepal.Length & 4.9\\\\\n",
       "\t setosa & 2 & Sepal.Width  & 3.0\\\\\n",
       "\\end{tabular}\n"
      ],
      "text/markdown": [
       "\n",
       "A tibble: 6 × 4\n",
       "\n",
       "| Species &lt;fct&gt; | flower.num &lt;int&gt; | iris_attribute &lt;chr&gt; | value &lt;dbl&gt; |\n",
       "|---|---|---|---|\n",
       "| setosa | 1 | Sepal.Length | 5.1 |\n",
       "| setosa | 1 | Sepal.Width  | 3.5 |\n",
       "| setosa | 1 | Petal.Length | 1.4 |\n",
       "| setosa | 1 | Petal.Width  | 0.2 |\n",
       "| setosa | 2 | Sepal.Length | 4.9 |\n",
       "| setosa | 2 | Sepal.Width  | 3.0 |\n",
       "\n"
      ],
      "text/plain": [
       "  Species flower.num iris_attribute value\n",
       "1 setosa  1          Sepal.Length   5.1  \n",
       "2 setosa  1          Sepal.Width    3.5  \n",
       "3 setosa  1          Petal.Length   1.4  \n",
       "4 setosa  1          Petal.Width    0.2  \n",
       "5 setosa  2          Sepal.Length   4.9  \n",
       "6 setosa  2          Sepal.Width    3.0  "
      ]
     },
     "metadata": {},
     "output_type": "display_data"
    }
   ],
   "source": [
    "newdat <- newdat %>%\n",
    "      pivot_longer(cols = c(Sepal.Length, Sepal.Width, #concatenate to select multiple\n",
    "                            Petal.Length, Petal.Width),\n",
    "                   names_to = \"iris_attribute\",\n",
    "                   values_to = \"value\")\n",
    "head(newdat)"
   ]
  },
  {
   "cell_type": "markdown",
   "metadata": {
    "id": "lTkYLiTKzgvM"
   },
   "source": [
    "We can see that `iris_attribute` provides the labels for what `value` actually measures. Also notice that the columns we did not include in `pivot_longer`, i.e., Species and flower.num, just repeat.\n",
    "\n",
    "Now this data set is in a long format, which is a tidier format for answering analysis questions (\"Are petals longer than they are wide?\") and for visualization. \n",
    "\n",
    "\n",
    "### `pivot_wider()`\n",
    "\n",
    "We can also easily put it back in \"wide\" format using `pivot_wider`, which uses the structure:\n",
    "```\n",
    "pivot_wider(data, names_from = \"names\", values_from = \"values\")\n",
    "```\n",
    "\n",
    "As you can see, `names_from` asks which column our variable labels can be found in, and `values_from` asks which column the values are in."
   ]
  },
  {
   "cell_type": "code",
   "execution_count": 188,
   "metadata": {
    "colab": {
     "base_uri": "https://localhost:8080/",
     "height": 207
    },
    "executionInfo": {
     "elapsed": 304,
     "status": "ok",
     "timestamp": 1611099742110,
     "user": {
      "displayName": "Patience Stevens",
      "photoUrl": "https://lh3.googleusercontent.com/a-/AOh14Gi-_9ZqhIFhAv1oMehJNvNuIKSTyrFQHzjxQKhx=s64",
      "userId": "01994571539255174942"
     },
     "user_tz": 300
    },
    "id": "LE2Q-0FTz9Sb",
    "outputId": "6ef4b907-cda8-4dbe-c793-110bc50dab5f"
   },
   "outputs": [
    {
     "data": {
      "text/html": [
       "<table class=\"dataframe\">\n",
       "<caption>A tibble: 6 × 6</caption>\n",
       "<thead>\n",
       "\t<tr><th scope=col>Species</th><th scope=col>flower.num</th><th scope=col>Sepal.Length</th><th scope=col>Sepal.Width</th><th scope=col>Petal.Length</th><th scope=col>Petal.Width</th></tr>\n",
       "\t<tr><th scope=col>&lt;fct&gt;</th><th scope=col>&lt;int&gt;</th><th scope=col>&lt;dbl&gt;</th><th scope=col>&lt;dbl&gt;</th><th scope=col>&lt;dbl&gt;</th><th scope=col>&lt;dbl&gt;</th></tr>\n",
       "</thead>\n",
       "<tbody>\n",
       "\t<tr><td>setosa</td><td>1</td><td>5.1</td><td>3.5</td><td>1.4</td><td>0.2</td></tr>\n",
       "\t<tr><td>setosa</td><td>2</td><td>4.9</td><td>3.0</td><td>1.4</td><td>0.2</td></tr>\n",
       "\t<tr><td>setosa</td><td>3</td><td>4.7</td><td>3.2</td><td>1.3</td><td>0.2</td></tr>\n",
       "\t<tr><td>setosa</td><td>4</td><td>4.6</td><td>3.1</td><td>1.5</td><td>0.2</td></tr>\n",
       "\t<tr><td>setosa</td><td>5</td><td>5.0</td><td>3.6</td><td>1.4</td><td>0.2</td></tr>\n",
       "\t<tr><td>setosa</td><td>6</td><td>5.4</td><td>3.9</td><td>1.7</td><td>0.4</td></tr>\n",
       "</tbody>\n",
       "</table>\n"
      ],
      "text/latex": [
       "A tibble: 6 × 6\n",
       "\\begin{tabular}{llllll}\n",
       " Species & flower.num & Sepal.Length & Sepal.Width & Petal.Length & Petal.Width\\\\\n",
       " <fct> & <int> & <dbl> & <dbl> & <dbl> & <dbl>\\\\\n",
       "\\hline\n",
       "\t setosa & 1 & 5.1 & 3.5 & 1.4 & 0.2\\\\\n",
       "\t setosa & 2 & 4.9 & 3.0 & 1.4 & 0.2\\\\\n",
       "\t setosa & 3 & 4.7 & 3.2 & 1.3 & 0.2\\\\\n",
       "\t setosa & 4 & 4.6 & 3.1 & 1.5 & 0.2\\\\\n",
       "\t setosa & 5 & 5.0 & 3.6 & 1.4 & 0.2\\\\\n",
       "\t setosa & 6 & 5.4 & 3.9 & 1.7 & 0.4\\\\\n",
       "\\end{tabular}\n"
      ],
      "text/markdown": [
       "\n",
       "A tibble: 6 × 6\n",
       "\n",
       "| Species &lt;fct&gt; | flower.num &lt;int&gt; | Sepal.Length &lt;dbl&gt; | Sepal.Width &lt;dbl&gt; | Petal.Length &lt;dbl&gt; | Petal.Width &lt;dbl&gt; |\n",
       "|---|---|---|---|---|---|\n",
       "| setosa | 1 | 5.1 | 3.5 | 1.4 | 0.2 |\n",
       "| setosa | 2 | 4.9 | 3.0 | 1.4 | 0.2 |\n",
       "| setosa | 3 | 4.7 | 3.2 | 1.3 | 0.2 |\n",
       "| setosa | 4 | 4.6 | 3.1 | 1.5 | 0.2 |\n",
       "| setosa | 5 | 5.0 | 3.6 | 1.4 | 0.2 |\n",
       "| setosa | 6 | 5.4 | 3.9 | 1.7 | 0.4 |\n",
       "\n"
      ],
      "text/plain": [
       "  Species flower.num Sepal.Length Sepal.Width Petal.Length Petal.Width\n",
       "1 setosa  1          5.1          3.5         1.4          0.2        \n",
       "2 setosa  2          4.9          3.0         1.4          0.2        \n",
       "3 setosa  3          4.7          3.2         1.3          0.2        \n",
       "4 setosa  4          4.6          3.1         1.5          0.2        \n",
       "5 setosa  5          5.0          3.6         1.4          0.2        \n",
       "6 setosa  6          5.4          3.9         1.7          0.4        "
      ]
     },
     "metadata": {},
     "output_type": "display_data"
    }
   ],
   "source": [
    "newdat <- newdat %>%\n",
    "      pivot_wider(names_from = \"iris_attribute\", values_from = \"value\")\n",
    "head(newdat)"
   ]
  },
  {
   "cell_type": "markdown",
   "metadata": {
    "id": "lmghfOw60ZAh"
   },
   "source": [
    "### `*_join()`\n",
    "The last functions we'll cover in this tutorial are the `*_join()` functions. \n",
    "\n",
    "Imagine that you saved your data so that personal information such as age was saved separately from your participants' response data. However, now you want to see if age impacts your effect size, and you'd like to add age as a variable in your main dataset. As long as both your response dataset and your personal information dataset have the participant ID in them, you should be able to add the participants' ages to the dataset easily using `*_join()`.\n",
    "\n",
    "Here, the * indicates that there are multiple types of join functions. All of these functions take the format:\n",
    "```\n",
    "*_join(x, y, by = \"ID\")\n",
    "```\n",
    "where x and y are two dataframes to join, and `by` indicates which variable(s) to match on.\n",
    "\n",
    "However, the join functions differ based on which rows they try to match:\n",
    "* inner_join(): includes all rows that are in *both* x and y\n",
    "* left_join(): includes all rows in x\n",
    "* right_join(): includes all rows in y\n",
    "* full_join(): includes all rows in either x *or* y\n",
    "\n",
    "Learn more with `?join`\n",
    "\n",
    "We can illustrate this by simulating some participant data where ages and responses are stored in separate dfs."
   ]
  },
  {
   "cell_type": "code",
   "execution_count": 189,
   "metadata": {
    "colab": {
     "base_uri": "https://localhost:8080/",
     "height": 347
    },
    "executionInfo": {
     "elapsed": 321,
     "status": "ok",
     "timestamp": 1611100691444,
     "user": {
      "displayName": "Patience Stevens",
      "photoUrl": "https://lh3.googleusercontent.com/a-/AOh14Gi-_9ZqhIFhAv1oMehJNvNuIKSTyrFQHzjxQKhx=s64",
      "userId": "01994571539255174942"
     },
     "user_tz": 300
    },
    "id": "tmWGxsgYDagC",
    "outputId": "919c5fe5-b24a-4a49-b5e2-c9a0216e90dc"
   },
   "outputs": [
    {
     "data": {
      "text/html": [
       "<table class=\"dataframe\">\n",
       "<caption>A data.frame: 3 × 3</caption>\n",
       "<thead>\n",
       "\t<tr><th></th><th scope=col>name</th><th scope=col>age</th><th scope=col>firstlang</th></tr>\n",
       "\t<tr><th></th><th scope=col>&lt;chr&gt;</th><th scope=col>&lt;dbl&gt;</th><th scope=col>&lt;chr&gt;</th></tr>\n",
       "</thead>\n",
       "<tbody>\n",
       "\t<tr><th scope=row>1</th><td>p01</td><td>18</td><td>English</td></tr>\n",
       "\t<tr><th scope=row>2</th><td>p02</td><td>21</td><td>Chinese</td></tr>\n",
       "\t<tr><th scope=row>3</th><td>p03</td><td>23</td><td>English</td></tr>\n",
       "</tbody>\n",
       "</table>\n"
      ],
      "text/latex": [
       "A data.frame: 3 × 3\n",
       "\\begin{tabular}{r|lll}\n",
       "  & name & age & firstlang\\\\\n",
       "  & <chr> & <dbl> & <chr>\\\\\n",
       "\\hline\n",
       "\t1 & p01 & 18 & English\\\\\n",
       "\t2 & p02 & 21 & Chinese\\\\\n",
       "\t3 & p03 & 23 & English\\\\\n",
       "\\end{tabular}\n"
      ],
      "text/markdown": [
       "\n",
       "A data.frame: 3 × 3\n",
       "\n",
       "| <!--/--> | name &lt;chr&gt; | age &lt;dbl&gt; | firstlang &lt;chr&gt; |\n",
       "|---|---|---|---|\n",
       "| 1 | p01 | 18 | English |\n",
       "| 2 | p02 | 21 | Chinese |\n",
       "| 3 | p03 | 23 | English |\n",
       "\n"
      ],
      "text/plain": [
       "  name age firstlang\n",
       "1 p01  18  English  \n",
       "2 p02  21  Chinese  \n",
       "3 p03  23  English  "
      ]
     },
     "metadata": {},
     "output_type": "display_data"
    },
    {
     "data": {
      "text/html": [
       "<table class=\"dataframe\">\n",
       "<caption>A data.frame: 4 × 2</caption>\n",
       "<thead>\n",
       "\t<tr><th></th><th scope=col>name</th><th scope=col>response</th></tr>\n",
       "\t<tr><th></th><th scope=col>&lt;chr&gt;</th><th scope=col>&lt;dbl&gt;</th></tr>\n",
       "</thead>\n",
       "<tbody>\n",
       "\t<tr><th scope=row>1</th><td>p01</td><td>0</td></tr>\n",
       "\t<tr><th scope=row>2</th><td>p01</td><td>1</td></tr>\n",
       "\t<tr><th scope=row>3</th><td>p02</td><td>1</td></tr>\n",
       "\t<tr><th scope=row>4</th><td>p02</td><td>0</td></tr>\n",
       "</tbody>\n",
       "</table>\n"
      ],
      "text/latex": [
       "A data.frame: 4 × 2\n",
       "\\begin{tabular}{r|ll}\n",
       "  & name & response\\\\\n",
       "  & <chr> & <dbl>\\\\\n",
       "\\hline\n",
       "\t1 & p01 & 0\\\\\n",
       "\t2 & p01 & 1\\\\\n",
       "\t3 & p02 & 1\\\\\n",
       "\t4 & p02 & 0\\\\\n",
       "\\end{tabular}\n"
      ],
      "text/markdown": [
       "\n",
       "A data.frame: 4 × 2\n",
       "\n",
       "| <!--/--> | name &lt;chr&gt; | response &lt;dbl&gt; |\n",
       "|---|---|---|\n",
       "| 1 | p01 | 0 |\n",
       "| 2 | p01 | 1 |\n",
       "| 3 | p02 | 1 |\n",
       "| 4 | p02 | 0 |\n",
       "\n"
      ],
      "text/plain": [
       "  name response\n",
       "1 p01  0       \n",
       "2 p01  1       \n",
       "3 p02  1       \n",
       "4 p02  0       "
      ]
     },
     "metadata": {},
     "output_type": "display_data"
    }
   ],
   "source": [
    "# participant info\n",
    "personal <- data.frame(name = c(\"p01\", \"p02\", \"p03\"),\n",
    "                       age = c(18, 21, 23), \n",
    "                       firstlang = c(\"English\", \"Chinese\", \"English\"))\n",
    "\n",
    "# response database\n",
    "response <- data.frame(name= c(\"p01\",\"p01\",\"p02\",\"p02\"),\n",
    "                       response=c(0,1,1,0))\n",
    "head(personal)\n",
    "head(response)"
   ]
  },
  {
   "cell_type": "markdown",
   "metadata": {},
   "source": [
    "Notice that we have personal data for p03, but not their response data.\n",
    "\n",
    "Using `left_join()` we retain p03 in the data set:"
   ]
  },
  {
   "cell_type": "code",
   "execution_count": 190,
   "metadata": {
    "scrolled": true
   },
   "outputs": [
    {
     "data": {
      "text/html": [
       "<table class=\"dataframe\">\n",
       "<caption>A data.frame: 5 × 4</caption>\n",
       "<thead>\n",
       "\t<tr><th></th><th scope=col>name</th><th scope=col>age</th><th scope=col>firstlang</th><th scope=col>response</th></tr>\n",
       "\t<tr><th></th><th scope=col>&lt;chr&gt;</th><th scope=col>&lt;dbl&gt;</th><th scope=col>&lt;chr&gt;</th><th scope=col>&lt;dbl&gt;</th></tr>\n",
       "</thead>\n",
       "<tbody>\n",
       "\t<tr><th scope=row>1</th><td>p01</td><td>18</td><td>English</td><td> 0</td></tr>\n",
       "\t<tr><th scope=row>2</th><td>p01</td><td>18</td><td>English</td><td> 1</td></tr>\n",
       "\t<tr><th scope=row>3</th><td>p02</td><td>21</td><td>Chinese</td><td> 1</td></tr>\n",
       "\t<tr><th scope=row>4</th><td>p02</td><td>21</td><td>Chinese</td><td> 0</td></tr>\n",
       "\t<tr><th scope=row>5</th><td>p03</td><td>23</td><td>English</td><td>NA</td></tr>\n",
       "</tbody>\n",
       "</table>\n"
      ],
      "text/latex": [
       "A data.frame: 5 × 4\n",
       "\\begin{tabular}{r|llll}\n",
       "  & name & age & firstlang & response\\\\\n",
       "  & <chr> & <dbl> & <chr> & <dbl>\\\\\n",
       "\\hline\n",
       "\t1 & p01 & 18 & English &  0\\\\\n",
       "\t2 & p01 & 18 & English &  1\\\\\n",
       "\t3 & p02 & 21 & Chinese &  1\\\\\n",
       "\t4 & p02 & 21 & Chinese &  0\\\\\n",
       "\t5 & p03 & 23 & English & NA\\\\\n",
       "\\end{tabular}\n"
      ],
      "text/markdown": [
       "\n",
       "A data.frame: 5 × 4\n",
       "\n",
       "| <!--/--> | name &lt;chr&gt; | age &lt;dbl&gt; | firstlang &lt;chr&gt; | response &lt;dbl&gt; |\n",
       "|---|---|---|---|---|\n",
       "| 1 | p01 | 18 | English |  0 |\n",
       "| 2 | p01 | 18 | English |  1 |\n",
       "| 3 | p02 | 21 | Chinese |  1 |\n",
       "| 4 | p02 | 21 | Chinese |  0 |\n",
       "| 5 | p03 | 23 | English | NA |\n",
       "\n"
      ],
      "text/plain": [
       "  name age firstlang response\n",
       "1 p01  18  English    0      \n",
       "2 p01  18  English    1      \n",
       "3 p02  21  Chinese    1      \n",
       "4 p02  21  Chinese    0      \n",
       "5 p03  23  English   NA      "
      ]
     },
     "metadata": {},
     "output_type": "display_data"
    }
   ],
   "source": [
    "personal %>% \n",
    "    left_join(response, by = \"name\") %>% #piped \"personal\" in, so only one df here\n",
    "    head()"
   ]
  },
  {
   "cell_type": "markdown",
   "metadata": {},
   "source": [
    "But using `right_join()` they are dropped:"
   ]
  },
  {
   "cell_type": "code",
   "execution_count": 191,
   "metadata": {},
   "outputs": [
    {
     "data": {
      "text/html": [
       "<table class=\"dataframe\">\n",
       "<caption>A data.frame: 4 × 4</caption>\n",
       "<thead>\n",
       "\t<tr><th></th><th scope=col>name</th><th scope=col>age</th><th scope=col>firstlang</th><th scope=col>response</th></tr>\n",
       "\t<tr><th></th><th scope=col>&lt;chr&gt;</th><th scope=col>&lt;dbl&gt;</th><th scope=col>&lt;chr&gt;</th><th scope=col>&lt;dbl&gt;</th></tr>\n",
       "</thead>\n",
       "<tbody>\n",
       "\t<tr><th scope=row>1</th><td>p01</td><td>18</td><td>English</td><td>0</td></tr>\n",
       "\t<tr><th scope=row>2</th><td>p01</td><td>18</td><td>English</td><td>1</td></tr>\n",
       "\t<tr><th scope=row>3</th><td>p02</td><td>21</td><td>Chinese</td><td>1</td></tr>\n",
       "\t<tr><th scope=row>4</th><td>p02</td><td>21</td><td>Chinese</td><td>0</td></tr>\n",
       "</tbody>\n",
       "</table>\n"
      ],
      "text/latex": [
       "A data.frame: 4 × 4\n",
       "\\begin{tabular}{r|llll}\n",
       "  & name & age & firstlang & response\\\\\n",
       "  & <chr> & <dbl> & <chr> & <dbl>\\\\\n",
       "\\hline\n",
       "\t1 & p01 & 18 & English & 0\\\\\n",
       "\t2 & p01 & 18 & English & 1\\\\\n",
       "\t3 & p02 & 21 & Chinese & 1\\\\\n",
       "\t4 & p02 & 21 & Chinese & 0\\\\\n",
       "\\end{tabular}\n"
      ],
      "text/markdown": [
       "\n",
       "A data.frame: 4 × 4\n",
       "\n",
       "| <!--/--> | name &lt;chr&gt; | age &lt;dbl&gt; | firstlang &lt;chr&gt; | response &lt;dbl&gt; |\n",
       "|---|---|---|---|---|\n",
       "| 1 | p01 | 18 | English | 0 |\n",
       "| 2 | p01 | 18 | English | 1 |\n",
       "| 3 | p02 | 21 | Chinese | 1 |\n",
       "| 4 | p02 | 21 | Chinese | 0 |\n",
       "\n"
      ],
      "text/plain": [
       "  name age firstlang response\n",
       "1 p01  18  English   0       \n",
       "2 p01  18  English   1       \n",
       "3 p02  21  Chinese   1       \n",
       "4 p02  21  Chinese   0       "
      ]
     },
     "metadata": {},
     "output_type": "display_data"
    }
   ],
   "source": [
    "personal %>% \n",
    "    right_join(response, by = \"name\") %>% #piped \"personal\" in, so only one df here\n",
    "    head()"
   ]
  },
  {
   "cell_type": "markdown",
   "metadata": {},
   "source": [
    "Try out `inner_join` and `full_join` to see how they differ."
   ]
  },
  {
   "cell_type": "markdown",
   "metadata": {
    "id": "A1GrvZiMiSE6"
   },
   "source": [
    "*Notebook authored by Ven Popov and edited by Krista Bond, Charles Wu, Patience Stevens, Amy Sentis, and Fiona Horner.*"
   ]
  }
 ],
 "metadata": {
  "colab": {
   "name": "data-as-objects-and-architectures.ipynb",
   "provenance": []
  },
  "kernelspec": {
   "display_name": "R",
   "language": "R",
   "name": "ir"
  },
  "language_info": {
   "codemirror_mode": "r",
   "file_extension": ".r",
   "mimetype": "text/x-r-source",
   "name": "R",
   "pygments_lexer": "r",
   "version": "4.3.1"
  }
 },
 "nbformat": 4,
 "nbformat_minor": 4
}
