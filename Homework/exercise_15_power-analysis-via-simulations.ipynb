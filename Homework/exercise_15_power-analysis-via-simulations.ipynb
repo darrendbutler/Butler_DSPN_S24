{
 "cells": [
  {
   "cell_type": "markdown",
   "metadata": {
    "id": "-2W919d2ZXp7"
   },
   "source": [
    "# Exercise 15: Power analyses"
   ]
  },
  {
   "cell_type": "markdown",
   "metadata": {
    "id": "L4nOzVhyZXqK"
   },
   "source": [
    "This  assignment is designed to give you practice with Monte Carlo methods to conduct power analyses via simulation. You won't need to load in any data for this homework. We will, however, be using parts of the homework from last week."
   ]
  },
  {
   "cell_type": "markdown",
   "metadata": {
    "id": "9DsyBTB6ZXqN"
   },
   "source": [
    "---\n",
    "## 1. Simulating data (1 points)\n"
   ]
  },
  {
   "cell_type": "markdown",
   "metadata": {
    "id": "J1f6MywYhyzN"
   },
   "source": [
    "Pull your `simulate_data()` function from your last homework and add it below. \n",
    "\n",
    "As a reminder, this function simulates the relationship between age, word reading experience, and reading comprehension skill. \n",
    "\n",
    "`c` is reading comprehension, and `x` is word reading experience."
   ]
  },
  {
   "cell_type": "code",
   "execution_count": 3,
   "metadata": {
    "id": "UnBVazYfZXqP",
    "vscode": {
     "languageId": "r"
    }
   },
   "outputs": [
    {
     "data": {
      "text/html": [
       "<table class=\"dataframe\">\n",
       "<caption>A data.frame: 6 x 3</caption>\n",
       "<thead>\n",
       "\t<tr><th></th><th scope=col>a</th><th scope=col>x</th><th scope=col>c</th></tr>\n",
       "\t<tr><th></th><th scope=col>&lt;dbl&gt;</th><th scope=col>&lt;dbl&gt;</th><th scope=col>&lt;dbl&gt;</th></tr>\n",
       "</thead>\n",
       "<tbody>\n",
       "\t<tr><th scope=row>1</th><td>136.58260</td><td>-43.09950</td><td> 55.53756</td></tr>\n",
       "\t<tr><th scope=row>2</th><td>165.94846</td><td> 78.59710</td><td>495.15331</td></tr>\n",
       "\t<tr><th scope=row>3</th><td>154.72023</td><td> 41.10360</td><td>317.17124</td></tr>\n",
       "\t<tr><th scope=row>4</th><td>126.22973</td><td> 93.01661</td><td>366.81499</td></tr>\n",
       "\t<tr><th scope=row>5</th><td> 80.12215</td><td>-11.79036</td><td>-29.18129</td></tr>\n",
       "\t<tr><th scope=row>6</th><td>129.60322</td><td> 66.08486</td><td>437.69728</td></tr>\n",
       "</tbody>\n",
       "</table>\n"
      ],
      "text/latex": [
       "A data.frame: 6 x 3\n",
       "\\begin{tabular}{r|lll}\n",
       "  & a & x & c\\\\\n",
       "  & <dbl> & <dbl> & <dbl>\\\\\n",
       "\\hline\n",
       "\t1 & 136.58260 & -43.09950 &  55.53756\\\\\n",
       "\t2 & 165.94846 &  78.59710 & 495.15331\\\\\n",
       "\t3 & 154.72023 &  41.10360 & 317.17124\\\\\n",
       "\t4 & 126.22973 &  93.01661 & 366.81499\\\\\n",
       "\t5 &  80.12215 & -11.79036 & -29.18129\\\\\n",
       "\t6 & 129.60322 &  66.08486 & 437.69728\\\\\n",
       "\\end{tabular}\n"
      ],
      "text/markdown": [
       "\n",
       "A data.frame: 6 x 3\n",
       "\n",
       "| <!--/--> | a &lt;dbl&gt; | x &lt;dbl&gt; | c &lt;dbl&gt; |\n",
       "|---|---|---|---|\n",
       "| 1 | 136.58260 | -43.09950 |  55.53756 |\n",
       "| 2 | 165.94846 |  78.59710 | 495.15331 |\n",
       "| 3 | 154.72023 |  41.10360 | 317.17124 |\n",
       "| 4 | 126.22973 |  93.01661 | 366.81499 |\n",
       "| 5 |  80.12215 | -11.79036 | -29.18129 |\n",
       "| 6 | 129.60322 |  66.08486 | 437.69728 |\n",
       "\n"
      ],
      "text/plain": [
       "  a         x         c        \n",
       "1 136.58260 -43.09950  55.53756\n",
       "2 165.94846  78.59710 495.15331\n",
       "3 154.72023  41.10360 317.17124\n",
       "4 126.22973  93.01661 366.81499\n",
       "5  80.12215 -11.79036 -29.18129\n",
       "6 129.60322  66.08486 437.69728"
      ]
     },
     "metadata": {},
     "output_type": "display_data"
    }
   ],
   "source": [
    "library(tidyverse)\n",
    "\n",
    "sample_size = 100 # How many children in data set? \n",
    "age_lo = 80     # minimum age, in months\n",
    "age_hi = 200    # maximum age, in months\n",
    "beta_xa = 0.5   # amount by which experience changes for increase of one month in age\n",
    "beta_x0 = -5    # amount of experience when age = 0 (not interpretable, since minimum age for this data is 80 months)\n",
    "sd_x = 50       # standard dev of gaussian noise term, epsilon_x\n",
    "beta_ca = 0.8   # amount that comprehension score improves for every increase of one unit in age\n",
    "beta_cx = 3     # amount that comprehension score improves for every increase of one unit in reading experience\n",
    "beta_c0 = 10    # comprehension score when reading experience is 0. \n",
    "sd_c = 85      # standard dev of gaussian noise term, epsilon_c\n",
    "\n",
    "simulate_data <- function(sample_size, age_lo, age_hi, beta_xa, beta_x0, sd_x, beta_ca, beta_cx, beta_c0, sd_c) {\n",
    "      # WRITE YOUR CODE HERE\n",
    "\n",
    "      # WRITE YOUR CODE HERE\n",
    "      #Try \n",
    "\n",
    "     # Create an empty dataframe with specified column names\n",
    "      # Create the dataframe with random numbers generated from a uniform distribution\n",
    "      sim_df <- data.frame(\n",
    "      a = runif(sample_size, min = age_lo, max = age_hi)\n",
    "      )\n",
    "      sim_df <- sim_df %>%\n",
    "            # simulate experience\n",
    "            mutate(x = beta_xa * a + beta_x0 + rnorm(sample_size, sd = sd_x)) %>%\n",
    "            #simulate comprehension\n",
    "            mutate(c = beta_ca * a + beta_cx * x + beta_c0 + rnorm(sample_size, sd = sd_c))\n",
    "\n",
    "      return (sim_df)\n",
    "     \n",
    "      #return(data.frame(age=age,x=x,c=c)) # it's actually bad form to have a variable named \"c\" in R, my bad...\n",
    "}\n",
    "\n",
    "dat <- simulate_data(sample_size, age_lo, age_hi, beta_xa, beta_x0, sd_x, beta_ca, beta_cx, beta_c0, sd_c)\n",
    "head(dat)"
   ]
  },
  {
   "cell_type": "markdown",
   "metadata": {
    "id": "T3b3_KsHk-xD"
   },
   "source": [
    "---\n",
    "## 2. `run_analysis()` function (2 pts)"
   ]
  },
  {
   "cell_type": "markdown",
   "metadata": {
    "id": "TJyPIaTO8zCS"
   },
   "source": [
    "Last week, we looked at whether word reading experience(`x`) mediated the relation between `age` and reading comprehension (`c`).\n",
    "\n",
    "Now we're going to use our `simulate_data()` function to conduct a power analysis. The goal is to determine how many participants we would need in order to detect both the mediated and the direct effects in this data. \n",
    "\n",
    "*Note: We're going to pretend for the sake of simplicity that we don't have any control over the ages of the children we get (so ages are generated using `runif(sample_size, age_lo, age_hi)`, although of course this would be an unusual situation in reality.*\n",
    "\n",
    "First, write a function, `run_analysis()`, that takes in simulated data, runs **your mediation from last week**, and returns a vector containing the ACME and ADE estimates and p-values (these are the `d0`, `d0.p`, `z0`, and `z0.p` features of the mediated model object, e.g., `fitMed$d0.p`). Print this function's output for the data we simulated previously. "
   ]
  },
  {
   "cell_type": "code",
   "execution_count": 11,
   "metadata": {
    "id": "AidH_KidrX9L",
    "scrolled": true,
    "vscode": {
     "languageId": "r"
    }
   },
   "outputs": [
    {
     "name": "stdout",
     "output_type": "stream",
     "text": [
      "[1] 1.4177618 0.0060000 0.5713171 0.0240000\n"
     ]
    }
   ],
   "source": [
    "# WRITE YOUR CODE HERE\n",
    "library(mediation)\n",
    "\n",
    "run_analysis <- function(dat_in) {\n",
    "    # age is IV\n",
    "    # x is the mediator\n",
    "    # c is DV\n",
    "\n",
    "    #Step 1: IV on M, regress age against reading experience\n",
    "    fitM <- lm(x ~ a, dat = dat_in) \n",
    "    #Step 2: IV and M on DV, regress age and experience against comprehension\n",
    "    fitY <- lm(c ~ a + x, data = dat_in)\n",
    "    # summary(fitM)\n",
    "    # summary(fitY)\n",
    "    fitMed <- mediate(fitM, fitY, treat=\"a\", mediator=\"x\")\n",
    "\n",
    "    # Uncomment to check output\n",
    "    #print(summary(fitMed))\n",
    "\n",
    "    #return vector of ACME, ADE, and p_values\n",
    "    #Note: remember that ACME is estimate for the mediating effect\n",
    "    return(c(fitMed$d0, fitMed$d0.p, fitMed$z0, fitMed$z0.p))\n",
    "    \n",
    "}\n",
    "print(run_analysis(dat))"
   ]
  },
  {
   "cell_type": "markdown",
   "metadata": {
    "id": "bHxz5W2r5s79"
   },
   "source": [
    "---\n",
    "## 3. `repeat_analysis()` function (3 pts)"
   ]
  },
  {
   "cell_type": "markdown",
   "metadata": {
    "id": "G_jvc1XQBCpH"
   },
   "source": [
    "Next fill in the function `repeat_analysis()` below so that it simulates and analyzes data `num_simulations` times. Store the outputs from each simulation in the `simouts` matrix. Calculate and return the coverage across all the simulations run for both ACME and ADE."
   ]
  },
  {
   "cell_type": "code",
   "execution_count": 12,
   "metadata": {
    "id": "NheOpBDsBBo9",
    "vscode": {
     "languageId": "r"
    }
   },
   "outputs": [],
   "source": [
    "repeat_analysis <- function(num_simulations, alpha, sample_size, age_lo, age_hi, \n",
    "        beta_xa, beta_x0, sd_x, beta_ca, beta_cx, beta_c0, sd_c) {\n",
    "    # Initialize simouts matrix for storing each output from run_analysis()\n",
    "    simouts <- matrix(rep(NA, num_simulations*4), nrow=num_simulations, ncol=4)\n",
    "    \n",
    "    # Start simulating\n",
    "    for (i in 1:num_simulations) {\n",
    "      # WRITE YOUR CODE HERE\n",
    "      data <- simulate_data(sample_size, age_lo, age_hi, beta_xa,\n",
    "        beta_x0, sd_x, beta_ca, beta_cx, beta_c0, sd_c)\n",
    "      simouts[i,] <- run_analysis(data)\n",
    "     \n",
    "    }\n",
    "    \n",
    "    # Calculate coverage for both ACME and ADE estimates using p-values in simouts\n",
    "    ACME_cov = mean(simouts[,2] <= alpha)\n",
    "    ADE_cov =  mean(simouts[,4] <= alpha)\n",
    "\n",
    "    return(list(ACME_cov = ACME_cov, ADE_cov = ADE_cov))\n",
    "}"
   ]
  },
  {
   "cell_type": "markdown",
   "metadata": {
    "id": "bM5J5pYyQoRL"
   },
   "source": [
    "Now run the `repeat_analysis()` function using the same parameter settings as above, for 10 simulations, with an alpha criterion of 0.01. "
   ]
  },
  {
   "cell_type": "code",
   "execution_count": 16,
   "metadata": {
    "id": "RpURGbZQQlEK",
    "vscode": {
     "languageId": "r"
    }
   },
   "outputs": [
    {
     "name": "stdout",
     "output_type": "stream",
     "text": [
      "$ACME_cov\n",
      "[1] 0.7\n",
      "\n",
      "$ADE_cov\n",
      "[1] 0.5\n",
      "\n"
     ]
    }
   ],
   "source": [
    "# WRITE YOUR CODE HERE\n",
    "set.seed(2024)\n",
    "\n",
    "results = repeat_analysis(10, 0.01, sample_size, age_lo, \n",
    "                            age_hi, beta_xa, beta_x0, sd_x, beta_ca, beta_cx, \n",
    "                            beta_c0, sd_c)\n",
    "print(results)\n"
   ]
  },
  {
   "cell_type": "markdown",
   "metadata": {
    "id": "imIoN4w65s7_"
   },
   "source": [
    "---\n",
    "## 4. Testing different sample sizes (2 pts)"
   ]
  },
  {
   "cell_type": "markdown",
   "metadata": {
    "id": "CzeTaoY7SaXv"
   },
   "source": [
    "Finally, do the same thing (10 simulations, alpha criterion of 0.01) but for 5 different sample sizes: 50, 75, 100, 125, 150. You can do this using `map` (as in the tutorial), or a simple `for` loop, or by calculating each individually. Up to you! This should take around 3 minutes to run. "
   ]
  },
  {
   "cell_type": "code",
   "execution_count": 19,
   "metadata": {
    "id": "mp-a19XsS8Md",
    "vscode": {
     "languageId": "r"
    }
   },
   "outputs": [],
   "source": [
    "# WRITE YOUR CODE HERE\n",
    "# first, create a data.frame to store the results\n",
    "results_df <- expand.grid(sample_size = c(50, 75, 100, 125, 150))\n",
    "\n",
    "# iterate over the sample sizes with a for loop\n",
    "for (i in 1:nrow(results_df)) {\n",
    "    results <- repeat_analysis(10, 0.01, results_df$sample_size[i], \n",
    "        age_lo, age_hi, beta_xa, beta_x0, sd_x, beta_ca, beta_cx, \n",
    "        beta_c0, sd_c)\n",
    "        \n",
    "    #extract and assign coverage\n",
    "    results_df$ACME_cov[i] <- results$ACME_cov\n",
    "    results_df$ADE_cov[i] <- results$ADE_cov\n",
    "}"
   ]
  },
  {
   "cell_type": "markdown",
   "metadata": {
    "id": "akJwKCB7dkDw"
   },
   "source": [
    "Print your results. "
   ]
  },
  {
   "cell_type": "code",
   "execution_count": 20,
   "metadata": {
    "id": "gIkkWTG2aR4d",
    "scrolled": true,
    "vscode": {
     "languageId": "r"
    }
   },
   "outputs": [
    {
     "data": {
      "text/html": [
       "<table class=\"dataframe\">\n",
       "<caption>A data.frame: 5 x 3</caption>\n",
       "<thead>\n",
       "\t<tr><th scope=col>sample_size</th><th scope=col>ACME_cov</th><th scope=col>ADE_cov</th></tr>\n",
       "\t<tr><th scope=col>&lt;dbl&gt;</th><th scope=col>&lt;dbl&gt;</th><th scope=col>&lt;dbl&gt;</th></tr>\n",
       "</thead>\n",
       "<tbody>\n",
       "\t<tr><td> 50</td><td>0.2</td><td>0.7</td></tr>\n",
       "\t<tr><td> 75</td><td>0.8</td><td>0.5</td></tr>\n",
       "\t<tr><td>100</td><td>0.8</td><td>0.7</td></tr>\n",
       "\t<tr><td>125</td><td>1.0</td><td>0.8</td></tr>\n",
       "\t<tr><td>150</td><td>0.9</td><td>0.9</td></tr>\n",
       "</tbody>\n",
       "</table>\n"
      ],
      "text/latex": [
       "A data.frame: 5 x 3\n",
       "\\begin{tabular}{lll}\n",
       " sample\\_size & ACME\\_cov & ADE\\_cov\\\\\n",
       " <dbl> & <dbl> & <dbl>\\\\\n",
       "\\hline\n",
       "\t  50 & 0.2 & 0.7\\\\\n",
       "\t  75 & 0.8 & 0.5\\\\\n",
       "\t 100 & 0.8 & 0.7\\\\\n",
       "\t 125 & 1.0 & 0.8\\\\\n",
       "\t 150 & 0.9 & 0.9\\\\\n",
       "\\end{tabular}\n"
      ],
      "text/markdown": [
       "\n",
       "A data.frame: 5 x 3\n",
       "\n",
       "| sample_size &lt;dbl&gt; | ACME_cov &lt;dbl&gt; | ADE_cov &lt;dbl&gt; |\n",
       "|---|---|---|\n",
       "|  50 | 0.2 | 0.7 |\n",
       "|  75 | 0.8 | 0.5 |\n",
       "| 100 | 0.8 | 0.7 |\n",
       "| 125 | 1.0 | 0.8 |\n",
       "| 150 | 0.9 | 0.9 |\n",
       "\n"
      ],
      "text/plain": [
       "  sample_size ACME_cov ADE_cov\n",
       "1  50         0.2      0.7    \n",
       "2  75         0.8      0.5    \n",
       "3 100         0.8      0.7    \n",
       "4 125         1.0      0.8    \n",
       "5 150         0.9      0.9    "
      ]
     },
     "metadata": {},
     "output_type": "display_data"
    }
   ],
   "source": [
    "# WRITE YOUR CODE HERE\n",
    "results_df"
   ]
  },
  {
   "cell_type": "markdown",
   "metadata": {
    "id": "q3Oo6npB5s8B"
   },
   "source": [
    "## 5. Reflection (2 pts)"
   ]
  },
  {
   "cell_type": "markdown",
   "metadata": {
    "id": "tpbGkul2dr-5"
   },
   "source": [
    "If this were a real power analysis, we'd want to run more simulations per sample size (to get a more precise estimate of power) and we may also want to test out some other values of the parameters we used to simulate our data. However, what would you conclude just based on the results above? \n",
    " \n",
    "> *Write your response here.* \n",
    "> I would conclude that a sample size of 150 would give the most power for detecting the a mediated effect because largest ACME and ADE coverage of 0.9, "
   ]
  },
  {
   "cell_type": "markdown",
   "metadata": {
    "id": "RcCo3QOifUi5"
   },
   "source": [
    "**Given** how we generated the data, why was the direct effect harder to detect than the mediated effect?\n",
    "> *Write your response here.* \n",
    "\n",
    "It could be that the parameter used to simulate the moderating effect, beta_cx = 3, is larger than the parameter used to simulate the direct effect beta_ca = 0.8. Therefore, the smaller direct effect was more difficult to detect. "
   ]
  },
  {
   "cell_type": "markdown",
   "metadata": {
    "id": "C4MPECMmZXqe"
   },
   "source": [
    "**DUE:** 5pm EST, April 3, 2024"
   ]
  },
  {
   "cell_type": "markdown",
   "metadata": {
    "id": "r9GUofXN4BVy"
   },
   "source": [
    "**IMPORTANT** Did you collaborate with anyone on this assignment? If so, list their names here. \n",
    "> *Someone's Name*"
   ]
  }
 ],
 "metadata": {
  "colab": {
   "provenance": []
  },
  "kernelspec": {
   "display_name": "R",
   "language": "R",
   "name": "ir"
  },
  "language_info": {
   "codemirror_mode": "r",
   "file_extension": ".r",
   "mimetype": "text/x-r-source",
   "name": "R",
   "pygments_lexer": "r",
   "version": "4.3.1"
  }
 },
 "nbformat": 4,
 "nbformat_minor": 1
}
