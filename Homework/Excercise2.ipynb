{
 "cells": [
  {
   "cell_type": "markdown",
   "metadata": {
    "id": "KihtEF43x385"
   },
   "source": [
    "# Exercise 2: Coding Habits & Functions"
   ]
  },
  {
   "cell_type": "markdown",
   "metadata": {
    "id": "TW2p8xacx387"
   },
   "source": [
    "This assignment will give you some practice writing your own functions and using the coding best practices discussed in the tutorial.\n",
    "\n",
    "---"
   ]
  },
  {
   "cell_type": "markdown",
   "metadata": {
    "id": "EvUjdoHRx387"
   },
   "source": [
    "## 1. Summary statistics (4 pts)\n",
    "\n",
    "Write a function that takes a vector of numbers `x` and returns the length, mean, and standard deviation of `x` as a new vector.\n",
    "\n",
    "In keeping with our best practices, give the function a short but descriptive name, and use snake case if it involves multiple words.\n",
    "\n",
    "Hint: Vectors are defined in R using the `c()` command."
   ]
  },
  {
   "cell_type": "code",
   "execution_count": 9,
   "metadata": {
    "id": "t3AuCD3Mx388",
    "vscode": {
     "languageId": "r"
    }
   },
   "outputs": [],
   "source": [
    "# Write your function here\n",
    "# input: x, vector of numbers\n",
    "#output: summary, vector (length, mean, standard_deviation)de\n",
    "summarize_vector <- function(x){\n",
    "\n",
    "    # remove missing values\n",
    "    x <- x[!is.na(x)]\n",
    "    \n",
    "    x_length <- length(x)\n",
    "    x_mean <- mean(x)\n",
    "    x_std <- sd(x)\n",
    "    \n",
    "    x_summary <- c(x_length, x_mean, x_std)\n",
    "    return (x_summary)\n",
    "}\n"
   ]
  },
  {
   "cell_type": "markdown",
   "metadata": {
    "id": "Tm23qZJkx388"
   },
   "source": [
    "Calculate the summary statistics of vector `v1`.\n",
    "\n",
    "*Hint*: Note the \"NA\" in the vector. This is short for \"not available\" and is a placeholder for missing values. You'll want to look up the _is.na_ function (and the not operator _!_), as well as options for removing NA's in the functions that you will use to summarize the vector. Look at the documentation for the functions that you will use to see how to work with NA's."
   ]
  },
  {
   "cell_type": "code",
   "execution_count": 10,
   "metadata": {
    "colab": {
     "base_uri": "https://localhost:8080/",
     "height": 34
    },
    "id": "mR2abixax389",
    "outputId": "db4344b0-d365-49ff-f8d0-8d033a907626",
    "vscode": {
     "languageId": "r"
    }
   },
   "outputs": [
    {
     "data": {
      "text/html": [
       "<style>\n",
       ".list-inline {list-style: none; margin:0; padding: 0}\n",
       ".list-inline>li {display: inline-block}\n",
       ".list-inline>li:not(:last-child)::after {content: \"\\00b7\"; padding: 0 .5ex}\n",
       "</style>\n",
       "<ol class=list-inline><li>4</li><li>7.75</li><li>2.75378527364305</li></ol>\n"
      ],
      "text/latex": [
       "\\begin{enumerate*}\n",
       "\\item 4\n",
       "\\item 7.75\n",
       "\\item 2.75378527364305\n",
       "\\end{enumerate*}\n"
      ],
      "text/markdown": [
       "1. 4\n",
       "2. 7.75\n",
       "3. 2.75378527364305\n",
       "\n",
       "\n"
      ],
      "text/plain": [
       "[1] 4.000000 7.750000 2.753785"
      ]
     },
     "metadata": {},
     "output_type": "display_data"
    }
   ],
   "source": [
    "v1  <- c(5, 11, 6, NA, 9)\n",
    "\n",
    "summarize_vector(v1)"
   ]
  },
  {
   "cell_type": "markdown",
   "metadata": {
    "id": "iwf94qCJx389"
   },
   "source": [
    "---\n",
    "## 2. T-test function (4 pts)\n",
    "\n",
    "The formula for a t-test is:"
   ]
  },
  {
   "cell_type": "markdown",
   "metadata": {
    "id": "f52RF5zVx389"
   },
   "source": [
    "$$ \\frac{m- \\mu}{ \\frac{s}{\\sqrt{n}}} $$"
   ]
  },
  {
   "cell_type": "markdown",
   "metadata": {
    "id": "1yqr2NIIx389"
   },
   "source": [
    "Where m is the sample mean, $\\mu$ (mu) is the population mean, s is the standard deviation, and n is the sample size.\n",
    "\n",
    "Using your function above as a starting point, write a new function `ttest_fun` that compares a vector `x` to a given population mean `mu` and calculates the t-statistic. Keep the coding best practices in mind.\n",
    "\n",
    "Hint: You will need to add another argument for mu."
   ]
  },
  {
   "cell_type": "code",
   "execution_count": 13,
   "metadata": {
    "id": "niV_rWODx38-",
    "vscode": {
     "languageId": "r"
    }
   },
   "outputs": [],
   "source": [
    "# Write ttest_fun here\n",
    "# input: x (vecor), mu,\n",
    "# output: t-stat\n",
    "ttest_fun <- function(x, mu){\n",
    "\n",
    "    # call summary function\n",
    "    x_summary <- summarize_vector(x)\n",
    "    sample_mean = x_summary[2]\n",
    "    sample_std = x_summary[3]\n",
    "    sample_size = x_summary[1]\n",
    "\n",
    "    cat(sample_mean, sample_std, sample_size)\n",
    "    \n",
    "    # calculate t stat\n",
    "    t_stat <- ((sample_mean - mu) - (sample_std / sqrt(sample_size)))\n",
    "    \n",
    "    return (t_stat)\n",
    "}"
   ]
  },
  {
   "cell_type": "markdown",
   "metadata": {
    "id": "7KcQAWl0x38-"
   },
   "source": [
    "Use your function to compare the mean of v1 to 10."
   ]
  },
  {
   "cell_type": "code",
   "execution_count": 14,
   "metadata": {
    "colab": {
     "base_uri": "https://localhost:8080/",
     "height": 34
    },
    "id": "5Rk8r6jcx38-",
    "outputId": "257fadb4-b0b6-46b4-a744-1c11cb4da9fc",
    "vscode": {
     "languageId": "r"
    }
   },
   "outputs": [
    {
     "name": "stdout",
     "output_type": "stream",
     "text": [
      "7.75 2.753785 4"
     ]
    },
    {
     "data": {
      "text/html": [
       "-3.62689263682153"
      ],
      "text/latex": [
       "-3.62689263682153"
      ],
      "text/markdown": [
       "-3.62689263682153"
      ],
      "text/plain": [
       "[1] -3.626893"
      ]
     },
     "metadata": {},
     "output_type": "display_data"
    }
   ],
   "source": [
    "ttest_fun(v1, 10)"
   ]
  },
  {
   "cell_type": "markdown",
   "metadata": {
    "id": "ziXK7DUox38-"
   },
   "source": [
    "---\n",
    "## 3. Setting default values (2 pts)\n",
    "\n",
    "Set the default value of mu to 0. Test your modified function below by supplying only `v2` as an argument."
   ]
  },
  {
   "cell_type": "code",
   "execution_count": 5,
   "metadata": {
    "id": "7AhkjU-ex38-",
    "vscode": {
     "languageId": "r"
    }
   },
   "outputs": [],
   "source": [
    "# Write your modified ttest_fun here\n",
    "# Write ttest_fun here\n",
    "# input: x (vecor), mu,\n",
    "# output: t-stat\n",
    "ttest_fun <- function(x, mu = 0){\n",
    "\n",
    "  # call summary function\n",
    "  x_summary <- summarize_vector(x)\n",
    "  sample_mean = x_summary[2]\n",
    "  sample_std = x_summary[3]\n",
    "  sample_size = x_summary[1]\n",
    "\n",
    "  # calculate t stat\n",
    "  t_stat <- ((sample_mean - mu) - (sample_std / sqrt(sample_size)))\n",
    "\n",
    "  return (t_stat)\n",
    "}"
   ]
  },
  {
   "cell_type": "code",
   "execution_count": 6,
   "metadata": {
    "colab": {
     "base_uri": "https://localhost:8080/",
     "height": 34
    },
    "id": "pESp4-mfx38-",
    "outputId": "ea716047-a444-47b1-ec07-6110c64953ca",
    "vscode": {
     "languageId": "r"
    }
   },
   "outputs": [
    {
     "data": {
      "text/html": [
       "4.26609203941863"
      ],
      "text/latex": [
       "4.26609203941863"
      ],
      "text/markdown": [
       "4.26609203941863"
      ],
      "text/plain": [
       "[1] 4.266092"
      ]
     },
     "metadata": {},
     "output_type": "display_data"
    }
   ],
   "source": [
    "v2 <- c(3, 7, 1, NA, 8, 12)\n",
    "ttest_fun(v2)"
   ]
  },
  {
   "cell_type": "code",
   "execution_count": 7,
   "metadata": {
    "colab": {
     "base_uri": "https://localhost:8080/",
     "height": 34
    },
    "id": "UvQd8nDNOYyI",
    "outputId": "03963fbc-db5b-4a00-de6e-1c122af0b8e4"
   },
   "outputs": [
    {
     "data": {
      "text/html": [
       "<style>\n",
       ".list-inline {list-style: none; margin:0; padding: 0}\n",
       ".list-inline>li {display: inline-block}\n",
       ".list-inline>li:not(:last-child)::after {content: \"\\00b7\"; padding: 0 .5ex}\n",
       "</style>\n",
       "<ol class=list-inline><li>5</li><li>6.2</li><li>4.32434966208793</li></ol>\n"
      ],
      "text/latex": [
       "\\begin{enumerate*}\n",
       "\\item 5\n",
       "\\item 6.2\n",
       "\\item 4.32434966208793\n",
       "\\end{enumerate*}\n"
      ],
      "text/markdown": [
       "1. 5\n",
       "2. 6.2\n",
       "3. 4.32434966208793\n",
       "\n",
       "\n"
      ],
      "text/plain": [
       "[1] 5.00000 6.20000 4.32435"
      ]
     },
     "metadata": {},
     "output_type": "display_data"
    }
   ],
   "source": [
    "summarize_vector(v2)"
   ]
  },
  {
   "cell_type": "markdown",
   "metadata": {
    "id": "n4L3pdVXx38-"
   },
   "source": [
    "How does your result compare to R's built-in `t.test()` function?"
   ]
  },
  {
   "cell_type": "code",
   "execution_count": 8,
   "metadata": {
    "colab": {
     "base_uri": "https://localhost:8080/",
     "height": 208
    },
    "id": "W7s32rH-x38-",
    "outputId": "a85189e1-ee51-4bcc-c2c8-fa551b70740d",
    "scrolled": true,
    "vscode": {
     "languageId": "r"
    }
   },
   "outputs": [
    {
     "data": {
      "text/plain": [
       "\n",
       "\tOne Sample t-test\n",
       "\n",
       "data:  v2\n",
       "t = 3.2059, df = 4, p-value = 0.03272\n",
       "alternative hypothesis: true mean is not equal to 0\n",
       "95 percent confidence interval:\n",
       "  0.8306107 11.5693893\n",
       "sample estimates:\n",
       "mean of x \n",
       "      6.2 \n"
      ]
     },
     "metadata": {},
     "output_type": "display_data"
    }
   ],
   "source": [
    "t.test(v2)"
   ]
  },
  {
   "cell_type": "markdown",
   "metadata": {
    "id": "2slWzsoYGuLt"
   },
   "source": [
    "When you are finished, save the notebook as Exercise2.ipynb, push it to your class GitHub repository (the one you made for Exercise 1) and send the instructors a link to your notebook via Canvas. You can send messages via Canvas by clicking \"Inbox\" on the left and then pressing the icon with a pencil inside a square."
   ]
  },
  {
   "cell_type": "markdown",
   "metadata": {
    "id": "C4MPECMmZXqe"
   },
   "source": [
    "**DUE:** 5pm EST, Feb 5, 2024"
   ]
  },
  {
   "cell_type": "markdown",
   "metadata": {
    "id": "r9GUofXN4BVy"
   },
   "source": [
    "**IMPORTANT** Did you collaborate with anyone on this assignment? If so, list their names here.\n",
    "> *Someone's Name*"
   ]
  }
 ],
 "metadata": {
  "colab": {
   "provenance": []
  },
  "kernelspec": {
   "display_name": "R",
   "language": "R",
   "name": "ir"
  },
  "language_info": {
   "codemirror_mode": "r",
   "file_extension": ".r",
   "mimetype": "text/x-r-source",
   "name": "R",
   "pygments_lexer": "r",
   "version": "4.3.1"
  }
 },
 "nbformat": 4,
 "nbformat_minor": 4
}
